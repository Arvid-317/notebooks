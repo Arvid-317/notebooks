{
 "cells": [
  {
   "cell_type": "markdown",
   "metadata": {
    "id": "yWGTIPMXotxs"
   },
   "source": [
    "# **Exercise 4. Negative recursion in Normal logic programs.**\n"
   ]
  },
  {
   "cell_type": "markdown",
   "metadata": {
    "id": "Ho57hy3em9Yi"
   },
   "source": [
    "#### **1**"
   ]
  },
  {
   "cell_type": "code",
   "execution_count": 1,
   "metadata": {
    "colab": {
     "base_uri": "https://localhost:8080/"
    },
    "id": "j_3LyCQFnE7K",
    "outputId": "8c702cbe-9240-41dd-a812-6349904b5255"
   },
   "outputs": [
    {
     "name": "stdout",
     "output_type": "stream",
     "text": [
      "b\n",
      "a\n",
      "SATISFIABLE\n"
     ]
    }
   ],
   "source": [
    "%%clingo -V0 0 \n",
    "a :- not b.\n",
    "b :- not a."
   ]
  },
  {
   "cell_type": "markdown",
   "metadata": {},
   "source": [
    "**Note**: Here the result are on two lines because there is two different stable models. One where only `a` is true, and one where only `b` is true. This isn't the same thing has having one stable model where `a` and `b` are both true at the same time."
   ]
  },
  {
   "cell_type": "code",
   "execution_count": null,
   "metadata": {
    "id": "tekDyDF_nJLf"
   },
   "outputs": [],
   "source": [
    "%%clingo -V0 0 \n",
    "a :- not b.\n",
    "b :- not a, c.\n",
    "c."
   ]
  },
  {
   "cell_type": "markdown",
   "metadata": {
    "id": "2EPx4Jn6oRUc"
   },
   "source": [
    "#### **2**"
   ]
  },
  {
   "cell_type": "code",
   "execution_count": 2,
   "metadata": {
    "colab": {
     "base_uri": "https://localhost:8080/"
    },
    "id": "rVsiBrQSofDj",
    "outputId": "0790a4c1-5359-4669-d912-24d790f74c61"
   },
   "outputs": [
    {
     "name": "stdout",
     "output_type": "stream",
     "text": [
      "b d\n",
      "a c\n",
      "SATISFIABLE\n"
     ]
    }
   ],
   "source": [
    "%%clingo -V0 0 \n",
    "a :- not b.\n",
    "b :- not a.\n",
    "c :- a.\n",
    "d :- b."
   ]
  },
  {
   "cell_type": "code",
   "execution_count": null,
   "metadata": {
    "id": "6ElK21vgok0e"
   },
   "outputs": [],
   "source": [
    "%%clingo -V0 0 \n",
    "a :- not b.\n",
    "b :- not a.\n",
    "c :- a, not b.\n",
    "c :- b, not a."
   ]
  },
  {
   "cell_type": "markdown",
   "metadata": {
    "id": "2EPx4Jn6oRUc"
   },
   "source": [
    "#### **3**"
   ]
  },
  {
   "cell_type": "code",
   "execution_count": 3,
   "metadata": {
    "colab": {
     "base_uri": "https://localhost:8080/"
    },
    "id": "rVsiBrQSofDj",
    "outputId": "0790a4c1-5359-4669-d912-24d790f74c61"
   },
   "outputs": [
    {
     "name": "stdout",
     "output_type": "stream",
     "text": [
      "b\n",
      "SATISFIABLE\n"
     ]
    },
    {
     "name": "stderr",
     "output_type": "stream",
     "text": [
      "-:3:10-11: info: atom does not occur in any rule head:\n",
      "  c\n",
      "\n"
     ]
    }
   ],
   "source": [
    "%%clingo -V0 0 \n",
    "a :- not b.\n",
    "b :- not a.\n",
    "b :- not c."
   ]
  },
  {
   "cell_type": "code",
   "execution_count": null,
   "metadata": {
    "id": "6ElK21vgok0e"
   },
   "outputs": [],
   "source": [
    "%%clingo -V0 0 \n",
    "a :- not b.\n",
    "b :- not a.\n",
    "b :- c.\n",
    "c."
   ]
  },
  {
   "cell_type": "markdown",
   "metadata": {
    "id": "2EPx4Jn6oRUc"
   },
   "source": [
    "#### **4**"
   ]
  },
  {
   "cell_type": "code",
   "execution_count": 4,
   "metadata": {
    "colab": {
     "base_uri": "https://localhost:8080/"
    },
    "id": "rVsiBrQSofDj",
    "outputId": "0790a4c1-5359-4669-d912-24d790f74c61"
   },
   "outputs": [
    {
     "name": "stdout",
     "output_type": "stream",
     "text": [
      "c b\n",
      "c a\n",
      "SATISFIABLE\n"
     ]
    }
   ],
   "source": [
    "%%clingo -V0 0 \n",
    "a :- not b.\n",
    "b :- not a.\n",
    "b :- not c.\n",
    "c."
   ]
  },
  {
   "cell_type": "code",
   "execution_count": null,
   "metadata": {
    "id": "6ElK21vgok0e"
   },
   "outputs": [],
   "source": [
    "%%clingo -V0 0 \n",
    "a :- not b.\n",
    "b :- not a, c.\n",
    "b :- not c.\n",
    "c :- not d."
   ]
  },
  {
   "cell_type": "markdown",
   "metadata": {
    "id": "Ho57hy3em9Yi"
   },
   "source": [
    "#### **5**"
   ]
  },
  {
   "cell_type": "code",
   "execution_count": 5,
   "metadata": {
    "colab": {
     "base_uri": "https://localhost:8080/"
    },
    "id": "j_3LyCQFnE7K",
    "outputId": "8c702cbe-9240-41dd-a812-6349904b5255"
   },
   "outputs": [
    {
     "name": "stdout",
     "output_type": "stream",
     "text": [
      "d b\n",
      "d a\n",
      "c b\n",
      "c a\n",
      "SATISFIABLE\n"
     ]
    }
   ],
   "source": [
    "%%clingo -V0 0\n",
    "a :- not b.\n",
    "b :- not a.\n",
    "c :- not d.\n",
    "d :- not c."
   ]
  },
  {
   "cell_type": "code",
   "execution_count": null,
   "metadata": {
    "id": "tekDyDF_nJLf"
   },
   "outputs": [],
   "source": [
    "%%clingo -V0 0\n",
    "a :- not b.\n",
    "b :- not a, e.\n",
    "c :- not d.\n",
    "d :- not c, f.\n",
    "e.\n",
    "f :- e."
   ]
  },
  {
   "cell_type": "markdown",
   "metadata": {
    "id": "2EPx4Jn6oRUc"
   },
   "source": [
    "#### **6**"
   ]
  },
  {
   "cell_type": "code",
   "execution_count": 6,
   "metadata": {
    "colab": {
     "base_uri": "https://localhost:8080/"
    },
    "id": "rVsiBrQSofDj",
    "outputId": "0790a4c1-5359-4669-d912-24d790f74c61"
   },
   "outputs": [
    {
     "name": "stdout",
     "output_type": "stream",
     "text": [
      "d b h\n",
      "d a f\n",
      "c b g\n",
      "c a e\n",
      "SATISFIABLE\n"
     ]
    }
   ],
   "source": [
    "%%clingo -V0 0 \n",
    "a :- not b.\n",
    "b :- not a.\n",
    "c :- not d.\n",
    "d :- not c.\n",
    "e :- a, c.\n",
    "f :- a, d.\n",
    "g :- b, c.\n",
    "h :- b, d."
   ]
  },
  {
   "cell_type": "code",
   "execution_count": null,
   "metadata": {
    "id": "6ElK21vgok0e"
   },
   "outputs": [],
   "source": [
    "%%clingo -V0 0 \n",
    "a :- not b.\n",
    "b :- not c.\n",
    "c :- not d.\n",
    "d :- not c.\n",
    "e :- a, c.\n",
    "e :- a, d.\n",
    "f :- not a, c.\n",
    "f :- b, not c."
   ]
  },
  {
   "cell_type": "markdown",
   "metadata": {
    "id": "2EPx4Jn6oRUc"
   },
   "source": [
    "#### **7**"
   ]
  },
  {
   "cell_type": "code",
   "execution_count": 7,
   "metadata": {
    "colab": {
     "base_uri": "https://localhost:8080/"
    },
    "id": "rVsiBrQSofDj",
    "outputId": "0790a4c1-5359-4669-d912-24d790f74c61"
   },
   "outputs": [
    {
     "name": "stdout",
     "output_type": "stream",
     "text": [
      "a c d\n",
      "b\n",
      "SATISFIABLE\n"
     ]
    }
   ],
   "source": [
    "%%clingo -V0 0 \n",
    "a :- not b.\n",
    "b :- not a.\n",
    "c :- a.\n",
    "d :- c.\n",
    "c :- d."
   ]
  },
  {
   "cell_type": "code",
   "execution_count": null,
   "metadata": {
    "id": "6ElK21vgok0e"
   },
   "outputs": [],
   "source": [
    "%%clingo -V0 0 \n",
    "a :- not b.\n",
    "b :- not a.\n",
    "c :- a.\n",
    "d :- c.\n",
    "c :- d.\n",
    "d :- b."
   ]
  },
  {
   "cell_type": "markdown",
   "metadata": {
    "id": "2EPx4Jn6oRUc"
   },
   "source": [
    "#### **8**"
   ]
  },
  {
   "cell_type": "code",
   "execution_count": 8,
   "metadata": {
    "colab": {
     "base_uri": "https://localhost:8080/"
    },
    "id": "rVsiBrQSofDj",
    "outputId": "0790a4c1-5359-4669-d912-24d790f74c61"
   },
   "outputs": [
    {
     "name": "stdout",
     "output_type": "stream",
     "text": [
      "b\n",
      "a\n",
      "SATISFIABLE\n"
     ]
    }
   ],
   "source": [
    "%%clingo -V0 0 \n",
    "a :- not b.\n",
    "b :- not a.\n",
    "c :- d.\n",
    "d :- c.\n",
    "a :- c, d."
   ]
  },
  {
   "cell_type": "code",
   "execution_count": null,
   "metadata": {
    "id": "6ElK21vgok0e"
   },
   "outputs": [],
   "source": [
    "%%clingo -V0 0 \n",
    "a :- not b.\n",
    "b :- not a.\n",
    "c :- d.\n",
    "d :- c.\n",
    "a :- c, d.\n",
    "c."
   ]
  }
 ],
 "metadata": {
  "colab": {
   "collapsed_sections": [],
   "name": "Learning Easy ASP from Examples.ipynb",
   "provenance": [],
   "toc_visible": true
  },
  "kernelspec": {
   "display_name": "Python 3",
   "language": "python",
   "name": "python3"
  },
  "language_info": {
   "codemirror_mode": {
    "name": "ipython",
    "version": 3
   },
   "file_extension": ".py",
   "mimetype": "text/x-python",
   "name": "python",
   "nbconvert_exporter": "python",
   "pygments_lexer": "ipython3",
   "version": "3.9.0"
  }
 },
 "nbformat": 4,
 "nbformat_minor": 1
}
