{
 "cells": [
  {
   "cell_type": "markdown",
   "metadata": {
    "id": "yWGTIPMXotxs"
   },
   "source": [
    "##### **Exercise 8. Constraints.**\n",
    "\n",
    "In each part of this exercise you are given a pair of programs.\n",
    "You can see the stable models of the first program. \n",
    "Your task is to find the stable models of the second program. \n",
    "\n",
    "The idea is that you learn from the first program, \n",
    "and then you apply this knowledge to find the stable models of the second program.\n",
    "\n",
    "To correct your solution, run clingo on the second program to obtain its stable models.\n",
    "For this, simply click on the cell and then either click the button ``Run`` or press ``Ctrl+Enter``."
   ]
  },
  {
   "cell_type": "markdown",
   "metadata": {
    "id": "Ho57hy3em9Yi"
   },
   "source": [
    "#### **1**"
   ]
  },
  {
   "cell_type": "code",
   "execution_count": 1,
   "metadata": {
    "colab": {
     "base_uri": "https://localhost:8080/"
    },
    "id": "j_3LyCQFnE7K",
    "outputId": "8c702cbe-9240-41dd-a812-6349904b5255"
   },
   "outputs": [
    {
     "name": "stdout",
     "output_type": "stream",
     "text": [
      "a\n",
      "SATISFIABLE\n"
     ]
    }
   ],
   "source": [
    "%%clingo -V0 0 \n",
    "{ a }.\n",
    ":- a."
   ]
  },
  {
   "cell_type": "code",
   "execution_count": null,
   "metadata": {
    "id": "tekDyDF_nJLf"
   },
   "outputs": [],
   "source": [
    "%%clingo -V0 0 \n",
    "{ a }.\n",
    ":- not a."
   ]
  },
  {
   "cell_type": "markdown",
   "metadata": {
    "id": "2EPx4Jn6oRUc"
   },
   "source": [
    "#### **2**"
   ]
  },
  {
   "cell_type": "code",
   "execution_count": 2,
   "metadata": {
    "colab": {
     "base_uri": "https://localhost:8080/"
    },
    "id": "rVsiBrQSofDj",
    "outputId": "0790a4c1-5359-4669-d912-24d790f74c61"
   },
   "outputs": [
    {
     "name": "stdout",
     "output_type": "stream",
     "text": [
      "b a\n",
      "SATISFIABLE\n"
     ]
    }
   ],
   "source": [
    "%%clingo -V0 0 \n",
    "{ a }.\n",
    "b :- a.\n",
    ":- not b."
   ]
  },
  {
   "cell_type": "code",
   "execution_count": null,
   "metadata": {
    "id": "6ElK21vgok0e"
   },
   "outputs": [],
   "source": [
    "%%clingo -V0 0 \n",
    "{ a }.\n",
    "b :- not a.\n",
    ":- b."
   ]
  },
  {
   "cell_type": "markdown",
   "metadata": {
    "id": "2EPx4Jn6oRUc"
   },
   "source": [
    "#### **3**"
   ]
  },
  {
   "cell_type": "code",
   "execution_count": 3,
   "metadata": {
    "colab": {
     "base_uri": "https://localhost:8080/"
    },
    "id": "rVsiBrQSofDj",
    "outputId": "0790a4c1-5359-4669-d912-24d790f74c61"
   },
   "outputs": [
    {
     "name": "stdout",
     "output_type": "stream",
     "text": [
      "UNSATISFIABLE\n"
     ]
    }
   ],
   "source": [
    "%%clingo -V0 0 \n",
    "{ a }.\n",
    "b :- a.\n",
    "c :- not a.\n",
    ":- a, b.\n",
    ":- not a, c."
   ]
  },
  {
   "cell_type": "code",
   "execution_count": null,
   "metadata": {
    "id": "6ElK21vgok0e"
   },
   "outputs": [],
   "source": [
    "%%clingo -V0 0 \n",
    "{ a }.\n",
    "b :- not a.\n",
    "c :- a.\n",
    ":- not a, not b.\n",
    ":- a, c."
   ]
  },
  {
   "cell_type": "markdown",
   "metadata": {
    "id": "2EPx4Jn6oRUc"
   },
   "source": [
    "#### **4**"
   ]
  },
  {
   "cell_type": "code",
   "execution_count": 4,
   "metadata": {
    "colab": {
     "base_uri": "https://localhost:8080/"
    },
    "id": "rVsiBrQSofDj",
    "outputId": "0790a4c1-5359-4669-d912-24d790f74c61"
   },
   "outputs": [
    {
     "name": "stdout",
     "output_type": "stream",
     "text": [
      "\n",
      "a b\n",
      "SATISFIABLE\n"
     ]
    }
   ],
   "source": [
    "%%clingo -V0 0 \n",
    "{ a ; b }.\n",
    "c :- a, not b.\n",
    "d :- not a, b.\n",
    ":- c.\n",
    ":- d."
   ]
  },
  {
   "cell_type": "code",
   "execution_count": null,
   "metadata": {
    "id": "6ElK21vgok0e"
   },
   "outputs": [],
   "source": [
    "%%clingo -V0 0 \n",
    "{ a ; b }.\n",
    ":- a, not b.\n",
    ":- not a, b."
   ]
  },
  {
   "cell_type": "markdown",
   "metadata": {
    "id": "Ho57hy3em9Yi"
   },
   "source": [
    "#### **5**"
   ]
  },
  {
   "cell_type": "code",
   "execution_count": 5,
   "metadata": {
    "colab": {
     "base_uri": "https://localhost:8080/"
    },
    "id": "j_3LyCQFnE7K",
    "outputId": "8c702cbe-9240-41dd-a812-6349904b5255"
   },
   "outputs": [
    {
     "name": "stdout",
     "output_type": "stream",
     "text": [
      "\n",
      "a\n",
      "SATISFIABLE\n"
     ]
    }
   ],
   "source": [
    "%%clingo -V0 0\n",
    "{ a } :- b.\n",
    "{ b } :- c.\n",
    "{ c } :- a.\n",
    "{ a }.\n",
    ":- a, c."
   ]
  },
  {
   "cell_type": "code",
   "execution_count": null,
   "metadata": {
    "id": "tekDyDF_nJLf"
   },
   "outputs": [],
   "source": [
    "%%clingo -V0 0\n",
    "{ a } :- b, c.\n",
    "{ b } :- c.\n",
    "{ c } :- a.\n",
    "{ c }.\n",
    ":- not a."
   ]
  },
  {
   "cell_type": "markdown",
   "metadata": {
    "id": "2EPx4Jn6oRUc"
   },
   "source": [
    "#### **6**"
   ]
  },
  {
   "cell_type": "code",
   "execution_count": 6,
   "metadata": {
    "colab": {
     "base_uri": "https://localhost:8080/"
    },
    "id": "rVsiBrQSofDj",
    "outputId": "0790a4c1-5359-4669-d912-24d790f74c61"
   },
   "outputs": [
    {
     "name": "stdout",
     "output_type": "stream",
     "text": [
      "\n",
      "a b c\n",
      "SATISFIABLE\n"
     ]
    }
   ],
   "source": [
    "%%clingo -V0 0 \n",
    "{ a ; b ; c }.\n",
    ":- a, not b.\n",
    ":- not a, c.\n",
    ":- b, not c."
   ]
  },
  {
   "cell_type": "code",
   "execution_count": null,
   "metadata": {},
   "outputs": [],
   "source": [
    "%%clingo -V0 0 \n",
    "{ a ; b ; c }.\n",
    ":- not a, b.\n",
    ":- a, not c.\n",
    ":- not b, c."
   ]
  },
  {
   "cell_type": "markdown",
   "metadata": {
    "id": "2EPx4Jn6oRUc"
   },
   "source": [
    "#### **7**"
   ]
  },
  {
   "cell_type": "code",
   "execution_count": 7,
   "metadata": {
    "colab": {
     "base_uri": "https://localhost:8080/"
    },
    "id": "rVsiBrQSofDj",
    "outputId": "0790a4c1-5359-4669-d912-24d790f74c61"
   },
   "outputs": [
    {
     "name": "stdout",
     "output_type": "stream",
     "text": [
      "\n",
      "SATISFIABLE\n"
     ]
    }
   ],
   "source": [
    "%%clingo -V0 0 \n",
    "{ a ; b }.\n",
    "a :- b.\n",
    "b :- a.\n",
    ":- a, b."
   ]
  },
  {
   "cell_type": "code",
   "execution_count": null,
   "metadata": {
    "id": "6ElK21vgok0e"
   },
   "outputs": [],
   "source": [
    "%%clingo -V0 0 \n",
    "{ a ; b }.\n",
    ":- not a, b.\n",
    ":- not b, a.\n",
    ":- a, b."
   ]
  },
  {
   "cell_type": "markdown",
   "metadata": {
    "id": "2EPx4Jn6oRUc"
   },
   "source": [
    "#### **8**"
   ]
  },
  {
   "cell_type": "code",
   "execution_count": 8,
   "metadata": {
    "colab": {
     "base_uri": "https://localhost:8080/"
    },
    "id": "rVsiBrQSofDj",
    "outputId": "0790a4c1-5359-4669-d912-24d790f74c61"
   },
   "outputs": [
    {
     "name": "stdout",
     "output_type": "stream",
     "text": [
      "b\n",
      "SATISFIABLE\n"
     ]
    },
    {
     "name": "stderr",
     "output_type": "stream",
     "text": [
      "-:2:10-11: info: atom does not occur in any rule head:\n",
      "  c\n",
      "\n",
      "-:4:15-16: info: atom does not occur in any rule head:\n",
      "  c\n",
      "\n"
     ]
    }
   ],
   "source": [
    "%%clingo -V0 0 \n",
    "a :- not b.\n",
    "b :- not c.\n",
    ":- not a, not b.\n",
    ":- not b, not c."
   ]
  },
  {
   "cell_type": "code",
   "execution_count": null,
   "metadata": {
    "id": "6ElK21vgok0e"
   },
   "outputs": [],
   "source": [
    "%%clingo -V0 0 \n",
    "{ a } :- not b.\n",
    "{ b } :- not c.\n",
    ":- not a, not b.\n",
    ":- not b, not c."
   ]
  },
  {
   "cell_type": "markdown",
   "metadata": {
    "id": "2EPx4Jn6oRUc"
   },
   "source": [
    "#### **9**"
   ]
  },
  {
   "cell_type": "code",
   "execution_count": 9,
   "metadata": {
    "colab": {
     "base_uri": "https://localhost:8080/"
    },
    "id": "rVsiBrQSofDj",
    "outputId": "0790a4c1-5359-4669-d912-24d790f74c61"
   },
   "outputs": [
    {
     "name": "stdout",
     "output_type": "stream",
     "text": [
      "UNSATISFIABLE\n"
     ]
    },
    {
     "name": "stderr",
     "output_type": "stream",
     "text": [
      "-:1:8-9: info: atom does not occur in any rule head:\n",
      "  a\n",
      "\n"
     ]
    }
   ],
   "source": [
    "%%clingo -V0 0 \n",
    ":- not a."
   ]
  },
  {
   "cell_type": "code",
   "execution_count": null,
   "metadata": {},
   "outputs": [],
   "source": [
    "%%clingo -V0 0 \n",
    ":- not a.\n",
    "a."
   ]
  },
  {
   "cell_type": "markdown",
   "metadata": {
    "id": "2EPx4Jn6oRUc"
   },
   "source": [
    "#### **10**"
   ]
  },
  {
   "cell_type": "code",
   "execution_count": 10,
   "metadata": {},
   "outputs": [
    {
     "name": "stdout",
     "output_type": "stream",
     "text": [
      "UNSATISFIABLE\n"
     ]
    }
   ],
   "source": [
    "%%clingo -V0 0 \n",
    ":- ."
   ]
  },
  {
   "cell_type": "code",
   "execution_count": null,
   "metadata": {},
   "outputs": [],
   "source": [
    "%%clingo -V0 0 \n",
    ":- .\n",
    "a."
   ]
  }
 ],
 "metadata": {
  "colab": {
   "collapsed_sections": [],
   "name": "Learning Easy ASP from Examples.ipynb",
   "provenance": [],
   "toc_visible": true
  },
  "kernelspec": {
   "display_name": "Python 3",
   "language": "python",
   "name": "python3"
  },
  "language_info": {
   "codemirror_mode": {
    "name": "ipython",
    "version": 3
   },
   "file_extension": ".py",
   "mimetype": "text/x-python",
   "name": "python",
   "nbconvert_exporter": "python",
   "pygments_lexer": "ipython3",
   "version": "3.9.0"
  }
 },
 "nbformat": 4,
 "nbformat_minor": 1
}
