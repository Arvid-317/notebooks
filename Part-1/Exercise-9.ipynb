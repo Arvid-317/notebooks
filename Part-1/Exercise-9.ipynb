{
 "cells": [
  {
   "cell_type": "markdown",
   "metadata": {
    "id": "yWGTIPMXotxs"
   },
   "source": [
    "##### **Exercise 9. Cardinality constraint atoms.**\n"
   ]
  },
  {
   "cell_type": "markdown",
   "metadata": {
    "id": "Ho57hy3em9Yi"
   },
   "source": [
    "#### **1**"
   ]
  },
  {
   "cell_type": "code",
   "execution_count": 1,
   "metadata": {
    "colab": {
     "base_uri": "https://localhost:8080/"
    },
    "id": "j_3LyCQFnE7K",
    "outputId": "8c702cbe-9240-41dd-a812-6349904b5255"
   },
   "outputs": [
    {
     "name": "stdout",
     "output_type": "stream",
     "text": [
      "c\n",
      "b e d\n",
      "a e d\n",
      "a b f d\n",
      "SATISFIABLE\n"
     ]
    }
   ],
   "source": [
    "%%clingo -V0 0 \n",
    "{ a ; b }.\n",
    "c :- { a ; b }0.\n",
    "d :- 1{ a ; b }.\n",
    "e :- 1{ a ; b }1.\n",
    "f :- 2{ a ; b }."
   ]
  },
  {
   "cell_type": "code",
   "execution_count": null,
   "metadata": {
    "id": "tekDyDF_nJLf"
   },
   "outputs": [],
   "source": [
    "%%clingo -V0 0 \n",
    "{ a ; b }.\n",
    ":- { a ; b }0.\n",
    "d :- 1{ a ; b }.\n",
    "e :- 1{ a ; b }1.\n",
    ":- 2{ a ; b }."
   ]
  },
  {
   "cell_type": "markdown",
   "metadata": {
    "id": "2EPx4Jn6oRUc"
   },
   "source": [
    "#### **2**"
   ]
  },
  {
   "cell_type": "code",
   "execution_count": 2,
   "metadata": {
    "colab": {
     "base_uri": "https://localhost:8080/"
    },
    "id": "rVsiBrQSofDj",
    "outputId": "0790a4c1-5359-4669-d912-24d790f74c61"
   },
   "outputs": [
    {
     "name": "stdout",
     "output_type": "stream",
     "text": [
      "f d\n",
      "b f e d\n",
      "a f e d\n",
      "a b c\n",
      "SATISFIABLE\n"
     ]
    }
   ],
   "source": [
    "%%clingo -V0 0 \n",
    "{ a ; b }.\n",
    "c :- { not a ; not b }0.\n",
    "d :- 1{ not a ; not b }.\n",
    "e :- 1{ not a ; not b }1.\n",
    "f :- 1{ not a ; not b }."
   ]
  },
  {
   "cell_type": "code",
   "execution_count": null,
   "metadata": {
    "id": "6ElK21vgok0e"
   },
   "outputs": [],
   "source": [
    "%%clingo -V0 0 \n",
    "{ a ; b }.\n",
    "c :- { a ; not b }0.\n",
    "d :- 1{ a ; not b }.\n",
    "e :- 1{ a ; not b }1.\n",
    "f :- 1{ a ; not b }."
   ]
  },
  {
   "cell_type": "markdown",
   "metadata": {
    "id": "2EPx4Jn6oRUc"
   },
   "source": [
    "#### **3**"
   ]
  },
  {
   "cell_type": "code",
   "execution_count": 3,
   "metadata": {
    "colab": {
     "base_uri": "https://localhost:8080/"
    },
    "id": "rVsiBrQSofDj",
    "outputId": "0790a4c1-5359-4669-d912-24d790f74c61"
   },
   "outputs": [
    {
     "name": "stdout",
     "output_type": "stream",
     "text": [
      "c\n",
      "a\n",
      "b\n",
      "a b c\n",
      "SATISFIABLE\n"
     ]
    }
   ],
   "source": [
    "%%clingo -V0 0 \n",
    "{ a ; b ; c }.\n",
    ":- { a ; b ; c }0.\n",
    ":- 2{ a ; b ; c }2."
   ]
  },
  {
   "cell_type": "code",
   "execution_count": null,
   "metadata": {
    "id": "6ElK21vgok0e"
   },
   "outputs": [],
   "source": [
    "%%clingo -V0 0 \n",
    "{ a ; b ; c }.\n",
    ":- 3{ a ; b ; c }.\n",
    ":- 1{ a ; b ; c }1."
   ]
  },
  {
   "cell_type": "markdown",
   "metadata": {
    "id": "2EPx4Jn6oRUc"
   },
   "source": [
    "#### **4**"
   ]
  },
  {
   "cell_type": "code",
   "execution_count": 4,
   "metadata": {
    "colab": {
     "base_uri": "https://localhost:8080/"
    },
    "id": "rVsiBrQSofDj",
    "outputId": "0790a4c1-5359-4669-d912-24d790f74c61"
   },
   "outputs": [
    {
     "name": "stdout",
     "output_type": "stream",
     "text": [
      "b\n",
      "c\n",
      "b c\n",
      "a\n",
      "a c\n",
      "a b\n",
      "SATISFIABLE\n"
     ]
    }
   ],
   "source": [
    "%%clingo -V0 0 \n",
    "{ a ; b ; c }.\n",
    ":- not 1{ a ; b ; c }2."
   ]
  },
  {
   "cell_type": "code",
   "execution_count": null,
   "metadata": {
    "id": "6ElK21vgok0e"
   },
   "outputs": [],
   "source": [
    "%%clingo -V0 0 \n",
    "{ a ; b ; c }.\n",
    ":- not { a ; b ; c }1."
   ]
  },
  {
   "cell_type": "markdown",
   "metadata": {
    "id": "Ho57hy3em9Yi"
   },
   "source": [
    "#### **5**"
   ]
  },
  {
   "cell_type": "code",
   "execution_count": 5,
   "metadata": {
    "colab": {
     "base_uri": "https://localhost:8080/"
    },
    "id": "j_3LyCQFnE7K",
    "outputId": "8c702cbe-9240-41dd-a812-6349904b5255"
   },
   "outputs": [
    {
     "name": "stdout",
     "output_type": "stream",
     "text": [
      "b c\n",
      "a c\n",
      "SATISFIABLE\n"
     ]
    }
   ],
   "source": [
    "%%clingo -V0 0\n",
    "{ a ; b }.\n",
    "c :- 1{ a ; b }1.\n",
    ":- not c."
   ]
  },
  {
   "cell_type": "code",
   "execution_count": null,
   "metadata": {
    "id": "tekDyDF_nJLf"
   },
   "outputs": [],
   "source": [
    "%%clingo -V0 0\n",
    "{ a ; b }.\n",
    "c :- not 1{ a ; b }1.\n",
    ":- not c."
   ]
  },
  {
   "cell_type": "markdown",
   "metadata": {
    "id": "2EPx4Jn6oRUc"
   },
   "source": [
    "#### **6**"
   ]
  },
  {
   "cell_type": "code",
   "execution_count": 6,
   "metadata": {
    "colab": {
     "base_uri": "https://localhost:8080/"
    },
    "id": "rVsiBrQSofDj",
    "outputId": "0790a4c1-5359-4669-d912-24d790f74c61"
   },
   "outputs": [
    {
     "name": "stdout",
     "output_type": "stream",
     "text": [
      "b c\n",
      "a c\n",
      "a b\n",
      "SATISFIABLE\n"
     ]
    }
   ],
   "source": [
    "%%clingo -V0 0 \n",
    "{ a ; b }.\n",
    "{ c } :- 1{ a ; b }.\n",
    ":- not 2{ a ; b ; c }2."
   ]
  },
  {
   "cell_type": "code",
   "execution_count": null,
   "metadata": {},
   "outputs": [],
   "source": [
    "%%clingo -V0 0 \n",
    "{ a ; b }.\n",
    "{ c } :- { a ; b }0.\n",
    ":- not 1{ a ; b ; c }1."
   ]
  },
  {
   "cell_type": "markdown",
   "metadata": {
    "id": "2EPx4Jn6oRUc"
   },
   "source": [
    "#### **7**"
   ]
  },
  {
   "cell_type": "code",
   "execution_count": 7,
   "metadata": {
    "colab": {
     "base_uri": "https://localhost:8080/"
    },
    "id": "rVsiBrQSofDj",
    "outputId": "0790a4c1-5359-4669-d912-24d790f74c61"
   },
   "outputs": [
    {
     "name": "stdout",
     "output_type": "stream",
     "text": [
      "\n",
      "a b\n",
      "SATISFIABLE\n"
     ]
    }
   ],
   "source": [
    "%%clingo -V0 0 \n",
    "{ a ; b }.\n",
    "{ c } :- 1{ a ; b }1.\n",
    "b :- a.\n",
    "a :- b."
   ]
  },
  {
   "cell_type": "code",
   "execution_count": null,
   "metadata": {
    "id": "6ElK21vgok0e"
   },
   "outputs": [],
   "source": [
    "%%clingo -V0 0 \n",
    "{ a ; b }.\n",
    ":- not 1{ a ; b }1.\n",
    ":- 1{ a ; b }1."
   ]
  },
  {
   "cell_type": "markdown",
   "metadata": {
    "id": "2EPx4Jn6oRUc"
   },
   "source": [
    "#### **8**"
   ]
  },
  {
   "cell_type": "code",
   "execution_count": 8,
   "metadata": {
    "colab": {
     "base_uri": "https://localhost:8080/"
    },
    "id": "rVsiBrQSofDj",
    "outputId": "0790a4c1-5359-4669-d912-24d790f74c61"
   },
   "outputs": [
    {
     "name": "stdout",
     "output_type": "stream",
     "text": [
      "\n",
      "a b\n",
      "SATISFIABLE\n"
     ]
    }
   ],
   "source": [
    "%%clingo -V0 0 \n",
    "{ a ; b }.\n",
    "c :- a, not b.\n",
    "d :- not a, b.\n",
    ":- c.\n",
    ":- d."
   ]
  },
  {
   "cell_type": "code",
   "execution_count": null,
   "metadata": {
    "id": "6ElK21vgok0e"
   },
   "outputs": [],
   "source": [
    "%%clingo -V0 0 \n",
    "{ a ; b }.\n",
    "c :- 1{ a }, { b }0.\n",
    "d :- 2{ not a, b }.\n",
    ":- 1{ c }.\n",
    ":- 1{ d }."
   ]
  }
 ],
 "metadata": {
  "colab": {
   "collapsed_sections": [],
   "name": "Learning Easy ASP from Examples.ipynb",
   "provenance": [],
   "toc_visible": true
  },
  "kernelspec": {
   "display_name": "Python 3",
   "language": "python",
   "name": "python3"
  },
  "language_info": {
   "codemirror_mode": {
    "name": "ipython",
    "version": 3
   },
   "file_extension": ".py",
   "mimetype": "text/x-python",
   "name": "python",
   "nbconvert_exporter": "python",
   "pygments_lexer": "ipython3",
   "version": "3.9.0"
  }
 },
 "nbformat": 4,
 "nbformat_minor": 1
}
