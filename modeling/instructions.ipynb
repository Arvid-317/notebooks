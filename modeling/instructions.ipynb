{
 "cells": [
  {
   "cell_type": "markdown",
   "metadata": {},
   "source": [
    "# Modeling exercises\n",
    "\n",
    "This directory collects notebooks with basic modeling exercises in Answer Set Programming.\n",
    "\n",
    "They belong to the Modeling part of the course [Answer Set Solving in Practice](https://teaching.potassco.org) of the University of Potsdam.\n",
    "\n",
    "Each notebook describes one exercise.\n",
    "The directories ``instances`` and ``solutions``,\n",
    "as their names indicate, contain the instances and solutions for all the exercises."
    "\n",
    "The environment of the notebooks is described in the file ``environment.ipynb`` at the top directory."
   ]
  }
 ],
 "metadata": {
  "kernelspec": {
   "display_name": "Python 3",
   "language": "python",
   "name": "python3"
  },
  "language_info": {
   "codemirror_mode": {
    "name": "ipython",
    "version": 3
   },
   "file_extension": ".py",
   "mimetype": "text/x-python",
   "name": "python",
   "nbconvert_exporter": "python",
   "pygments_lexer": "ipython3",
   "version": "3.9.0"
  }
 },
 "nbformat": 4,
 "nbformat_minor": 4
}
