{
 "cells": [
  {
   "cell_type": "markdown",
   "metadata": {},
   "source": [
    "# **Exercise 04. Sum aggregates.**"
   ]
  },
  {
   "cell_type": "markdown",
   "metadata": {},
   "source": [
    "#### **1**"
   ]
  },
  {
   "cell_type": "code",
   "execution_count": 43,
   "metadata": {},
   "outputs": [
    {
     "name": "stdout",
     "output_type": "stream",
     "text": [
      "value(i,11) value(h,6) value(g,8) value(f,-3) value(e,4) value(d,5) value(k,1,7) value(j,1,2)\n",
      "SATISFIABLE\n"
     ]
    }
   ],
   "source": [
    "%%script clingo -V0 0\n",
    "a(1,1). a(1,2). a(2,1). a(2,2). a(2,3).\n",
    "b(1,1).                 b(2,2).         b(3,3).\n",
    "c(1).\n",
    "\n",
    "value(d,C) :- C = #sum{ 1,X,Y : a(X,Y) }.\n",
    "value(e,C) :- C = #sum{   2,X : a(X,Y) }.\n",
    "value(f,C) :- C = #sum{  -1,Y : a(X,Y) }.\n",
    "value(g,C) :- C = #sum{   X,Y : a(X,Y) }.\n",
    "\n",
    "value(h,C) :- C = #sum{ 1,X,Y : a(X,Y);   1,Z,W : b(Z,W) }.\n",
    "value(i,C) :- C = #sum{ 1,X,Y : a(X,Y);   2,X,Y : b(X,Y) }.\n",
    "\n",
    "value(j,X,C) :- C = #sum{ 1,Y : a(X,Y);     1,Z : b(X,Z) }, c(X).\n",
    "value(k,X,C) :- C = #sum{ 1,Y : a(X,Y);     5,Y : b(X,Y) }, c(X).\n",
    "\n",
    "#show value/2. #show value/3."
   ]
  },
  {
   "cell_type": "code",
   "execution_count": null,
   "metadata": {},
   "outputs": [],
   "source": [
    "%%script clingo -V0 0\n",
    "a(1,1). a(1,2).         a(2,2). a(2,3).\n",
    "b(1,1).                                 b(3,3).\n",
    "c(1).\n",
    "\n",
    "value(d,C) :- C = #sum{ 1,X,Y : a(X,Y) }.\n",
    "value(e,C) :- C = #sum{   2,X : a(X,Y) }.\n",
    "value(f,C) :- C = #sum{  -1,Y : a(X,Y) }.\n",
    "value(g,C) :- C = #sum{   X,Y : a(X,Y) }.\n",
    "\n",
    "value(h,C) :- C = #sum{ 1,X,Y : a(X,Y);   1,Z,W : b(Z,W) }.\n",
    "value(i,C) :- C = #sum{ 1,X,Y : a(X,Y);   2,X,Y : b(X,Y) }.\n",
    "\n",
    "value(j,X,C) :- C = #sum{ 1,Y : a(X,Y);     1,Z : b(X,Z) }, c(X).\n",
    "value(k,X,C) :- C = #sum{ 1,Y : a(X,Y);     5,Y : b(X,Y) }, c(X).\n",
    "\n",
    "#show value/2. #show value/3."
   ]
  },
  {
   "cell_type": "markdown",
   "metadata": {},
   "source": [
    "#### **2**"
   ]
  },
  {
   "cell_type": "code",
   "execution_count": 44,
   "metadata": {},
   "outputs": [
    {
     "name": "stdout",
     "output_type": "stream",
     "text": [
      "\n",
      "a(1)\n",
      "SATISFIABLE\n"
     ]
    }
   ],
   "source": [
    "%%script clingo -V0 0\n",
    "n(1..2).\n",
    "{ a(X) : n(X) }.\n",
    ":- 2 #sum{ X : a(X) }.\n",
    "#show a/1."
   ]
  },
  {
   "cell_type": "code",
   "execution_count": null,
   "metadata": {},
   "outputs": [],
   "source": [
    "%%script clingo -V0 0\n",
    "n(1..2). n(0).\n",
    "{ a(X) : n(X) }.\n",
    ":- 2 #sum{ X : a(X) }.\n",
    "#show a/1."
   ]
  },
  {
   "cell_type": "markdown",
   "metadata": {},
   "source": [
    "#### **3**"
   ]
  },
  {
   "cell_type": "code",
   "execution_count": 45,
   "metadata": {},
   "outputs": [
    {
     "name": "stdout",
     "output_type": "stream",
     "text": [
      "\n",
      "a(1,2)\n",
      "a(2,1)\n",
      "a(2,2)\n",
      "a(1,1)\n",
      "SATISFIABLE\n"
     ]
    }
   ],
   "source": [
    "%%script clingo -V0 0\n",
    "n(1..2).\n",
    "{ a(X,Y) : n(X), n(Y) }.\n",
    ":- 2 #sum{ 1,X,Y : a(X,Y) }.\n",
    "#show a/2."
   ]
  },
  {
   "cell_type": "code",
   "execution_count": null,
   "metadata": {},
   "outputs": [],
   "source": [
    "%%script clingo -V0 0\n",
    "n(1..2).\n",
    "{ a(X,Y) : n(X), n(Y) }.\n",
    ":- 2 #sum{ 1,X : a(X,Y) }.\n",
    "#show a/2."
   ]
  },
  {
   "cell_type": "markdown",
   "metadata": {},
   "source": [
    "This time we have another exercise for the same example."
   ]
  },
  {
   "cell_type": "code",
   "execution_count": null,
   "metadata": {},
   "outputs": [],
   "source": [
    "%%script clingo -V0 0\n",
    "n(1..2).\n",
    "{ a(X,Y) : n(X), n(Y) }.\n",
    ":- 2 #sum{ 1,Y : a(X,Y) }.\n",
    "#show a/2."
   ]
  },
  {
   "cell_type": "markdown",
   "metadata": {},
   "source": [
    "#### **4**"
   ]
  },
  {
   "cell_type": "code",
   "execution_count": 46,
   "metadata": {},
   "outputs": [
    {
     "name": "stdout",
     "output_type": "stream",
     "text": [
      "a(2,2) b(2,2)\n",
      "a(1,2) b(1,2)\n",
      "a(2,1) b(2,1)\n",
      "a(1,1) b(1,1)\n",
      "SATISFIABLE\n"
     ]
    }
   ],
   "source": [
    "%%script clingo -V0 0\n",
    "n(1..2).\n",
    "1 { a(X,Y) : n(X), n(Y) } 1.\n",
    "1 { b(X,Y) : n(X), n(Y) } 1.\n",
    ":- 4 #sum{ 2,X,Y : a(X,Y);   2,Z,W : b(Z,W) }.\n",
    "#show a/2. #show b/2."
   ]
  },
  {
   "cell_type": "code",
   "execution_count": null,
   "metadata": {},
   "outputs": [],
   "source": [
    "%%script clingo -V0 0\n",
    "n(1..2).\n",
    "1 { a(X,Y) : n(X), n(Y) } 1.\n",
    "1 { b(X,Y) : n(X), n(Y) } 1.\n",
    ":- 3 #sum{ 1,X,Y : a(X,Y);   2,Z,W : b(Z,W) }.\n",
    "#show a/2. #show b/2."
   ]
  },
  {
   "cell_type": "markdown",
   "metadata": {},
   "source": [
    "#### **5**"
   ]
  },
  {
   "cell_type": "code",
   "execution_count": 47,
   "metadata": {},
   "outputs": [
    {
     "name": "stdout",
     "output_type": "stream",
     "text": [
      "b(1,1) a(1,2) ok(1)\n",
      "a(1,1) b(1,2) ok(1)\n",
      "b(2,1) a(2,2) ok(2)\n",
      "a(2,1) b(2,2) ok(2)\n",
      "SATISFIABLE\n"
     ]
    }
   ],
   "source": [
    "%%script clingo -V0 0\n",
    "n(1..2).\n",
    "1 { a(X,Y) : n(X), n(Y) } 1.\n",
    "1 { b(X,Y) : n(X), n(Y) } 1.\n",
    "ok(X) :- 2 #sum{ 1,Y : a(X,Y);   1,Z : b(X,Z) }, n(X).\n",
    ":- not ok(1), not ok(2).\n",
    "#show a/2. #show b/2. #show ok/1."
   ]
  },
  {
   "cell_type": "code",
   "execution_count": null,
   "metadata": {},
   "outputs": [],
   "source": [
    "%%script clingo -V0 0\n",
    "n(1..2).\n",
    "1 { a(X,Y) : n(X), n(Y) } 1.\n",
    "1 { b(X,Y) : n(X), n(Y) } 1.\n",
    "ok(X) :- 2 #count{ 1,Y : a(X,Y);   2,Z : b(X,Z) }, n(X).\n",
    ":- not ok(1), not ok(2).\n",
    "#show a/2. #show b/2. #show ok/1."
   ]
  }
 ],
 "metadata": {
  "kernelspec": {
   "display_name": "Python 3",
   "language": "python",
   "name": "python3"
  },
  "language_info": {
   "codemirror_mode": {
    "name": "ipython",
    "version": 3
   },
   "file_extension": ".py",
   "mimetype": "text/x-python",
   "name": "python",
   "nbconvert_exporter": "python",
   "pygments_lexer": "ipython3",
   "version": "3.5.3"
  }
 },
 "nbformat": 4,
 "nbformat_minor": 2
}
