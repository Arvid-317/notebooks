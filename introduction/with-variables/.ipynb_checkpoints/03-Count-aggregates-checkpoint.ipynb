{
 "cells": [
  {
   "cell_type": "markdown",
   "metadata": {},
   "source": [
    "# **Exercise 03. Count aggregates.**"
   ]
  },
  {
   "cell_type": "markdown",
   "metadata": {},
   "source": [
    "#### **1**"
   ]
  },
  {
   "cell_type": "code",
   "execution_count": 63,
   "metadata": {},
   "outputs": [
    {
     "name": "stdout",
     "output_type": "stream",
     "text": [
      "value(k,8) value(i,8) value(h,6) value(g,6) value(f,3) value(e,2) value(d,5) value(h,1,3) value(g,1,2)\n",
      "SATISFIABLE\n"
     ]
    }
   ],
   "source": [
    "%%script clingo -V0 0\n",
    "a(1,1). a(1,2). a(2,1). a(2,2). a(2,3).\n",
    "b(1,1).                 b(2,2).         b(3,3).\n",
    "c(1).\n",
    "\n",
    "value(d,C) :- C = #count{ X,Y : a(X,Y) }.\n",
    "value(e,C) :- C = #count{   X : a(X,Y) }.\n",
    "value(f,C) :- C = #count{   Y : a(X,Y) }.\n",
    "\n",
    "value(g,C) :- C = #count{   X,Y : a(X,Y);      X,Y : b(X,Y) }.\n",
    "value(h,C) :- C = #count{   X,Y : a(X,Y);      Z,W : b(Z,W) }.\n",
    "value(i,C) :- C = #count{ X,Y,1 : a(X,Y);    X,Y,2 : b(X,Y) }. \n",
    "value(k,C) :- C = #count{   X,Y : a(X,Y);    X,Y,2 : b(X,Y) }. \n",
    "\n",
    "value(g,X,C) :- C = #count{   Y : a(X,Y);        Z : b(X,Z) }, c(X).\n",
    "value(h,X,C) :- C = #count{ Y,a : a(X,Y);      Z,b : b(X,Z) }, c(X).\n",
    "\n",
    "#show value/2. #show value/3."
   ]
  },
  {
   "cell_type": "code",
   "execution_count": null,
   "metadata": {},
   "outputs": [],
   "source": [
    "%%script clingo -V0 0\n",
    "a(1,1). a(1,2).         a(2,2). a(2,3).\n",
    "b(1,1).                                 b(3,3).\n",
    "c(1).\n",
    "\n",
    "value(d,C) :- C = #count{ X,Y : a(X,Y) }.\n",
    "value(e,C) :- C = #count{   X : a(X,Y) }.\n",
    "value(f,C) :- C = #count{   Y : a(X,Y) }.\n",
    "\n",
    "value(g,C) :- C = #count{   X,Y : a(X,Y);     X,Y : b(X,Y) }.\n",
    "value(h,C) :- C = #count{   X,Y : a(X,Y);     Z,W : b(Z,W) }.\n",
    "value(i,C) :- C = #count{ X,Y,1 : a(X,Y);   X,Y,2 : b(X,Y) }. \n",
    "value(k,C) :- C = #count{   X,Y : a(X,Y);   X,Y,2 : b(X,Y) }. \n",
    "\n",
    "value(g,X,C) :- C = #count{   Y : a(X,Y);       Z : b(X,Z) }, c(X).\n",
    "value(h,X,C) :- C = #count{ Y,a : a(X,Y);     Z,b : b(X,Z) }, c(X).\n",
    "\n",
    "#show value/2. #show value/3."
   ]
  },
  {
   "cell_type": "markdown",
   "metadata": {},
   "source": [
    "#### **2**"
   ]
  },
  {
   "cell_type": "code",
   "execution_count": 64,
   "metadata": {},
   "outputs": [
    {
     "name": "stdout",
     "output_type": "stream",
     "text": [
      "\n",
      "a(2)\n",
      "a(1)\n",
      "SATISFIABLE\n"
     ]
    }
   ],
   "source": [
    "%%script clingo -V0 0\n",
    "n(1..2).\n",
    "{ a(X) : n(X) }.\n",
    ":- 2 #count{ X : a(X) }.\n",
    "#show a/1."
   ]
  },
  {
   "cell_type": "code",
   "execution_count": null,
   "metadata": {},
   "outputs": [],
   "source": [
    "%%script clingo -V0 0\n",
    "n(1..3).\n",
    "{ a(X) : n(X) }.\n",
    ":- 2 #count{ X : a(X) }.\n",
    "#show a/1."
   ]
  },
  {
   "cell_type": "markdown",
   "metadata": {},
   "source": [
    "#### **3**"
   ]
  },
  {
   "cell_type": "code",
   "execution_count": 65,
   "metadata": {},
   "outputs": [
    {
     "name": "stdout",
     "output_type": "stream",
     "text": [
      "\n",
      "a(1,2)\n",
      "a(2,1)\n",
      "a(2,2)\n",
      "a(1,1)\n",
      "SATISFIABLE\n"
     ]
    }
   ],
   "source": [
    "%%script clingo -V0 0\n",
    "n(1..2).\n",
    "{ a(X,Y) : n(X), n(Y) }.\n",
    ":- 2 #count{ X,Y : a(X,Y) }.\n",
    "#show a/2."
   ]
  },
  {
   "cell_type": "code",
   "execution_count": null,
   "metadata": {},
   "outputs": [],
   "source": [
    "%%script clingo -V0 0\n",
    "n(1..2).\n",
    "{ a(X,Y) : n(X), n(Y) }.\n",
    ":- 2 #count{ X : a(X,Y) }.\n",
    "#show a/2."
   ]
  },
  {
   "cell_type": "markdown",
   "metadata": {},
   "source": [
    "This time we have another exercise for the same example."
   ]
  },
  {
   "cell_type": "code",
   "execution_count": null,
   "metadata": {},
   "outputs": [],
   "source": [
    "%%script clingo -V0 0\n",
    "n(1..2).\n",
    "{ a(X,Y) : n(X), n(Y) }.\n",
    ":- 2 #count{ Y : a(X,Y) }.\n",
    "#show a/2."
   ]
  },
  {
   "cell_type": "markdown",
   "metadata": {},
   "source": [
    "#### **4**"
   ]
  },
  {
   "cell_type": "code",
   "execution_count": 67,
   "metadata": {},
   "outputs": [
    {
     "name": "stdout",
     "output_type": "stream",
     "text": [
      "a(2,2) b(2,2)\n",
      "a(1,2) b(1,2)\n",
      "a(2,1) b(2,1)\n",
      "a(1,1) b(1,1)\n",
      "SATISFIABLE\n"
     ]
    }
   ],
   "source": [
    "%%script clingo -V0 0\n",
    "n(1..2).\n",
    "1 { a(X,Y) : n(X), n(Y) } 1.\n",
    "1 { b(X,Y) : n(X), n(Y) } 1.\n",
    ":- 2 #count{ X,Y : a(X,Y);   Z,W : b(Z,W) }.\n",
    "#show a/2. #show b/2."
   ]
  },
  {
   "cell_type": "code",
   "execution_count": null,
   "metadata": {},
   "outputs": [],
   "source": [
    "%%script clingo -V0 0\n",
    "n(1..2).\n",
    "1 { a(X,Y) : n(X), n(Y) } 1.\n",
    "1 { b(X,Y) : n(X), n(Y) } 1.\n",
    ":- 2 #count{ X,Y,a : a(X,Y);   Z,W,b : b(Z,W) }.\n",
    "#show a/2. #show b/2."
   ]
  },
  {
   "cell_type": "markdown",
   "metadata": {},
   "source": [
    "#### **5**"
   ]
  },
  {
   "cell_type": "code",
   "execution_count": 68,
   "metadata": {},
   "outputs": [
    {
     "name": "stdout",
     "output_type": "stream",
     "text": [
      "b(1,1) a(1,2) ok(1)\n",
      "a(1,1) b(1,2) ok(1)\n",
      "b(2,1) a(2,2) ok(2)\n",
      "a(2,1) b(2,2) ok(2)\n",
      "SATISFIABLE\n"
     ]
    }
   ],
   "source": [
    "%%script clingo -V0 0\n",
    "n(1..2).\n",
    "1 { a(X,Y) : n(X), n(Y) } 1.\n",
    "1 { b(X,Y) : n(X), n(Y) } 1.\n",
    "ok(X) :- 2 #count{ Y : a(X,Y);   Z : b(X,Z) }, n(X).\n",
    ":- not ok(1), not ok(2).\n",
    "#show a/2. #show b/2. #show ok/1."
   ]
  },
  {
   "cell_type": "code",
   "execution_count": null,
   "metadata": {},
   "outputs": [],
   "source": [
    "%%script clingo -V0 0\n",
    "n(1..2).\n",
    "1 { a(X,Y) : n(X), n(Y) } 1.\n",
    "1 { b(X,Y) : n(X), n(Y) } 1.\n",
    "ok(X) :- 2 #count{ Y,first : a(X,Y);   Z,second : b(X,Z) }, n(X).\n",
    ":- not ok(1), not ok(2).\n",
    "#show a/2. #show b/2. #show ok/1."
   ]
  }
 ],
 "metadata": {
  "kernelspec": {
   "display_name": "Python 3",
   "language": "python",
   "name": "python3"
  },
  "language_info": {
   "codemirror_mode": {
    "name": "ipython",
    "version": 3
   },
   "file_extension": ".py",
   "mimetype": "text/x-python",
   "name": "python",
   "nbconvert_exporter": "python",
   "pygments_lexer": "ipython3",
   "version": "3.5.3"
  }
 },
 "nbformat": 4,
 "nbformat_minor": 2
}
