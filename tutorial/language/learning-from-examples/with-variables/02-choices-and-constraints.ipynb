{
 "cells": [
  {
   "cell_type": "markdown",
   "metadata": {},
   "source": [
    "# **Exercise 02. Extended logic programs.**"
   ]
  },
  {
   "cell_type": "markdown",
   "metadata": {},
   "source": [
    "#### **1**"
   ]
  },
  {
   "cell_type": "code",
   "execution_count": 30,
   "metadata": {},
   "outputs": [
    {
     "name": "stdout",
     "output_type": "stream",
     "text": [
      "b(1) b(2)\n",
      "b(1) b(2) a(2)\n",
      "b(1) b(2) a(1)\n",
      "b(1) b(2) a(1) a(2)\n",
      "SATISFIABLE\n"
     ]
    }
   ],
   "source": [
    "%%clingo -V0 0\n",
    "{ a(X) : b(X) }.\n",
    "b(1). b(2)."
   ]
  },
  {
   "cell_type": "code",
   "execution_count": null,
   "metadata": {},
   "outputs": [],
   "source": [
    "%%clingo -V0 0\n",
    "{ a(X) : b(X) }.\n",
    "b(1). b(2). b(3)."
   ]
  },
  {
   "cell_type": "markdown",
   "metadata": {},
   "source": [
    "#### **2**"
   ]
  },
  {
   "cell_type": "code",
   "execution_count": 31,
   "metadata": {},
   "outputs": [
    {
     "name": "stdout",
     "output_type": "stream",
     "text": [
      "b(1) b(2) c(2) a(2)\n",
      "b(1) b(2) c(1) a(1)\n",
      "SATISFIABLE\n"
     ]
    }
   ],
   "source": [
    "%%clingo -V0 0\n",
    "1 { a(X) : b(X) } 1.\n",
    "b(1). b(2).\n",
    "c(X) :- a(X)."
   ]
  },
  {
   "cell_type": "code",
   "execution_count": null,
   "metadata": {},
   "outputs": [],
   "source": [
    "%%clingo -V0 0\n",
    "1 { a(X) : b(X) } 1.\n",
    "b(1). b(2). b(3).\n",
    "c(X) :- a(X)."
   ]
  },
  {
   "cell_type": "markdown",
   "metadata": {},
   "source": [
    "#### **3**"
   ]
  },
  {
   "cell_type": "code",
   "execution_count": 32,
   "metadata": {},
   "outputs": [
    {
     "name": "stdout",
     "output_type": "stream",
     "text": [
      "d(2,3)\n",
      "d(1,3)\n",
      "d(1,4)\n",
      "d(2,4)\n",
      "SATISFIABLE\n"
     ]
    }
   ],
   "source": [
    "%%clingo -V0 0\n",
    "1 { a(X,Y) : b(X), c(Y) } 1.\n",
    "b(1). b(2). c(3). c(4).\n",
    "d(X,Y) :- a(X,Y).\n",
    "#show d/2."
   ]
  },
  {
   "cell_type": "code",
   "execution_count": null,
   "metadata": {},
   "outputs": [],
   "source": [
    "%%clingo -V0 0\n",
    "  { a(X,Y) : b(X), c(Y) } 1.\n",
    "b(1). b(2). c(3). c(4).\n",
    "d(X,Y) :- a(X,Y).\n",
    "#show d/2."
   ]
  },
  {
   "cell_type": "markdown",
   "metadata": {},
   "source": [
    "#### **4**"
   ]
  },
  {
   "cell_type": "code",
   "execution_count": 33,
   "metadata": {},
   "outputs": [
    {
     "name": "stdout",
     "output_type": "stream",
     "text": [
      "b(1) b(2)\n",
      "b(1) b(2) a(2)\n",
      "SATISFIABLE\n"
     ]
    }
   ],
   "source": [
    "%%clingo -V0 0\n",
    "{ a(X) : b(X) }.\n",
    "b(1). b(2).\n",
    ":- b(X), Y=X-1, a(Y)."
   ]
  },
  {
   "cell_type": "code",
   "execution_count": null,
   "metadata": {},
   "outputs": [],
   "source": [
    "%%clingo -V0 0\n",
    "{ a(X) : b(X) }.\n",
    "b(1). b(2). b(3).\n",
    ":- b(X), Y=X-1, a(Y)."
   ]
  },
  {
   "cell_type": "markdown",
   "metadata": {},
   "source": [
    "#### **5**"
   ]
  },
  {
   "cell_type": "code",
   "execution_count": 34,
   "metadata": {},
   "outputs": [
    {
     "name": "stdout",
     "output_type": "stream",
     "text": [
      "UNSATISFIABLE\n"
     ]
    }
   ],
   "source": [
    "%%clingo -V0 0\n",
    "1 { a(X) : b(X) } 1.\n",
    "b(1). b(2).\n",
    "c(X) :- a(X).\n",
    ":- b(X), not a(X)."
   ]
  },
  {
   "cell_type": "code",
   "execution_count": null,
   "metadata": {},
   "outputs": [],
   "source": [
    "%%clingo -V0 0\n",
    "1 { a(X) : b(X) } 1.\n",
    "b(1).\n",
    "c(X) :- a(X).\n",
    ":- b(X), not a(X)."
   ]
  },
  {
   "cell_type": "markdown",
   "metadata": {},
   "source": [
    "#### **6**"
   ]
  },
  {
   "cell_type": "code",
   "execution_count": 35,
   "metadata": {},
   "outputs": [
    {
     "name": "stdout",
     "output_type": "stream",
     "text": [
      "d(2,3) d(1,4)\n",
      "d(2,3) d(2,4)\n",
      "d(1,3) d(1,4)\n",
      "d(1,3) d(2,4)\n",
      "SATISFIABLE\n"
     ]
    }
   ],
   "source": [
    "%%clingo -V0 0\n",
    "1 { a(X,Y) : b(X) } 1 :- c(Y).\n",
    "b(1). b(2). c(3). c(4).\n",
    "d(X,Y) :- a(X,Y).\n",
    "#show d/2."
   ]
  },
  {
   "cell_type": "code",
   "execution_count": null,
   "metadata": {},
   "outputs": [],
   "source": [
    "%%clingo -V0 0\n",
    "1 { a(X,Y) : b(X) } 1 :- c(Y).\n",
    "b(1). b(2). b(3). c(4).\n",
    "d(X,Y) :- a(X,Y).\n",
    "#show d/2."
   ]
  }
 ],
 "metadata": {
  "kernelspec": {
   "display_name": "Python 3",
   "language": "python",
   "name": "python3"
  },
  "language_info": {
   "codemirror_mode": {
    "name": "ipython",
    "version": 3
   },
   "file_extension": ".py",
   "mimetype": "text/x-python",
   "name": "python",
   "nbconvert_exporter": "python",
   "pygments_lexer": "ipython3",
   "version": "3.5.3"
  }
 },
 "nbformat": 4,
 "nbformat_minor": 2
}
