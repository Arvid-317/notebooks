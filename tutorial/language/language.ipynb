{
 "cells": [
  {
   "cell_type": "markdown",
   "id": "8b176228-a226-497d-a990-274c9a7b9d4c",
   "metadata": {},
   "source": [
    "# Language\n",
    "This notebook contains the examples of the Language part of the tutorial *Easy answer set programming*."
   ]
  },
  {
   "cell_type": "markdown",
   "id": "3e769924-af0c-49a2-b37f-f335ddaa8b89",
   "metadata": {},
   "source": [
    "## A note on Easy Answer Set Programming"
   ]
  },
  {
   "cell_type": "markdown",
   "id": "a781edcb-9318-4a88-9cdc-8414fa4ea6f7",
   "metadata": {},
   "source": [
    "To make things easy, for most of this tutorial we are only going to write non-recursive programs.\n",
    "\n",
    "A program is non-recursive if we can write its rules in order, \n",
    "and we say that the rules are written in order if \n",
    "the predicates that occur in the body of any rule `r` do not occur in the head of any rule that is written after `r`.\n",
    "\n",
    "The answer sets of a non-recursive program are very easy to define:\n",
    "they are the result of applying the rules in order.\n",
    "\n",
    "Following the approach of Easy Answer Set Programming, \n",
    "we will always write the rules in order.\n",
    "In this way, the answer sets of a logic program are simply the result of applying the rules in the order in which they are written.\n",
    "\n",
    "We will also see some examples of non-recursive programs, but that will be in the last part of the tutorial."
   ]
  },
  {
   "cell_type": "markdown",
   "id": "cc81fe6b-da88-4218-84dc-593bb96da6b2",
   "metadata": {
    "tags": []
   },
   "source": [
    "# The Student Course Timetabling Problem"
   ]
  },
  {
   "cell_type": "markdown",
   "id": "60c9f803-7565-4b4f-8ccf-dc2f874e52a9",
   "metadata": {},
   "source": [
    "Imagine that you are a student and you have to choose your courses for the next semester: \n",
    "this is the Student Course Timetabling Problem!\n",
    "\n",
    "We will use this problem to illustrate different aspects of the language of (Easy) Answer Set Programming.\n",
    "\n",
    "And of course, at the end we will put all together and write a logic program to solve the problem :)"
   ]
  },
  {
   "cell_type": "markdown",
   "id": "b767f831-4e80-41cc-a8c9-572c29b7d02d",
   "metadata": {
    "tags": []
   },
   "source": [
    "## Facts "
   ]
  },
  {
   "cell_type": "markdown",
   "id": "1c3a2dc7-0379-4b7a-aaba-9f9c03be76ff",
   "metadata": {},
   "source": [
    "To begin with, we write down some facts representing the information about the available courses:\n",
    "* Every course has a given number of credits.\n",
    "* Each lecture of every course takes place at some time period of some day.\n",
    "\n",
    "We assume that every day is divided into some time periods of a fixed time length."
   ]
  },
  {
   "cell_type": "code",
   "execution_count": 3,
   "id": "15777a79-d2b6-4224-b35b-83a5477e402d",
   "metadata": {},
   "outputs": [
    {
     "name": "stdout",
     "output_type": "stream",
     "text": [
      "Overwriting facts.lp\n"
     ]
    }
   ],
   "source": [
    "%%file facts.lp\n",
    "\n",
    "% credits(C,Cr): the course C has Cr credits\n",
    "credits( asp,9).\n",
    "credits(  ml,9).\n",
    "credits(ling,6).\n",
    "credits(phil,9).\n",
    "% ...\n",
    "\n",
    "% lecture(C,D,P): the course C has a lecture the day D at period P\n",
    "lecture(asp,thu,3). lecture(asp,fri,3).\n",
    "lecture(ml,wed,2). lecture(ml,thu,3). lecture(ml,fri,4).\n",
    "lecture(ling,tue,1). lecture(ling,thu,2). \n",
    "lecture(phil,tue,3). lecture(phil,wed,4).\n",
    "% ..."
   ]
  },
  {
   "cell_type": "markdown",
   "id": "09fd5031-48dc-4a54-84c3-98f1bec14126",
   "metadata": {},
   "source": [
    "We write the comments `% ...` to indicate that in the real-world we would have more facts like the ones over the comments."
   ]
  },
  {
   "cell_type": "markdown",
   "id": "434a680e-ea47-4eda-98a5-4f317880d70e",
   "metadata": {},
   "source": [
    "This program has a unique answer set that contains all the atoms occurring in those facts. \n",
    "We can compute it with `clingo` as follows. We use option `-V0` to print a short output."
   ]
  },
  {
   "cell_type": "code",
   "execution_count": 4,
   "id": "2870a920-3918-412b-bee8-0c8535d38ed4",
   "metadata": {
    "tags": []
   },
   "outputs": [
    {
     "name": "stdout",
     "output_type": "stream",
     "text": [
      "credits(asp,9) credits(ml,9) credits(ling,6) credits(phil,9) lecture(asp,thu,3) lecture(asp,fri,3) lecture(ml,wed,2) lecture(ml,thu,3) lecture(ml,fri,4) lecture(ling,tue,1) lecture(ling,thu,2) lecture(phil,tue,3) lecture(phil,wed,4)\n",
      "SATISFIABLE\n"
     ]
    }
   ],
   "source": [
    "!clingo facts.lp -V0"
   ]
  },
  {
   "cell_type": "markdown",
   "id": "1baef97f-371a-43fd-90e7-72f7a644d432",
   "metadata": {},
   "source": [
    "Before we try to solve the real problem, we add ourselves a possible choice of courses."
   ]
  },
  {
   "cell_type": "code",
   "execution_count": 5,
   "id": "14faa106-2893-41af-a05e-a6d47ce48590",
   "metadata": {},
   "outputs": [
    {
     "name": "stdout",
     "output_type": "stream",
     "text": [
      "Overwriting enroll.lp\n"
     ]
    }
   ],
   "source": [
    "%%file enroll.lp\n",
    "\n",
    "% enroll(C): I enroll in course C\n",
    "enroll(asp). enroll(ml). enroll(ling). \n",
    "% ..."
   ]
  },
  {
   "cell_type": "markdown",
   "id": "3d9ec66e-b5ac-4cc8-9d53-fe9d5d86e89e",
   "metadata": {},
   "source": [
    "In the cells below we will add further rules to define properties of this enrollment.\n",
    "\n",
    "In the end, we will replace these facts about `enroll` by some choice rules, to let `clingo` choose the right selection of courses."
   ]
  },
  {
   "cell_type": "markdown",
   "id": "e9ccb254-8b18-4074-bfb6-1f0d043ae74e",
   "metadata": {
    "tags": []
   },
   "source": [
    "## Variables"
   ]
  },
  {
   "cell_type": "markdown",
   "id": "cbf2a825-3e1f-44a9-b6e8-8f4f03e6445b",
   "metadata": {},
   "source": [
    "We define some basic concepts of the problem using rules with variables. They will be useful later when we write further rules.\n",
    "\n",
    "We begin defining a `course`, a `day`, a `period`, and a time `slot`. \n",
    "\n",
    "For example, the first rule says that for every `C`, `D` an `P`, if `lecture(C,D,P)` is in an answer set, then `course(C)` must also be in that answer set. "
   ]
  },
  {
   "cell_type": "code",
   "execution_count": 6,
   "id": "15a515df-ce3d-4ba3-8ea5-44b8217aacb1",
   "metadata": {},
   "outputs": [
    {
     "name": "stdout",
     "output_type": "stream",
     "text": [
      "Overwriting basic_1.lp\n"
     ]
    }
   ],
   "source": [
    "%%file basic_1.lp\n",
    "\n",
    "course(C) :- lecture(C,D,P).\n",
    "   day(D) :- lecture(C,D,P).\n",
    "period(P) :- lecture(C,D,P).\n",
    "slot(D,P) :- lecture(C,D,P)."
   ]
  },
  {
   "cell_type": "markdown",
   "id": "13db1258-7a67-47f9-a9b9-9b344277a010",
   "metadata": {},
   "source": [
    "We next define the days where there is some lecture according to our enrollment.\n",
    "\n",
    "The next rule says that for every `C`, `D` and `P`, if `enroll(C)` and `lecture(C,D,P)` are in an answer set, then `some_lecture(D)` must also be in that answer set. "
   ]
  },
  {
   "cell_type": "code",
   "execution_count": 7,
   "id": "d691fbdc-9aca-4cc5-a6b5-b697f0dd475a",
   "metadata": {},
   "outputs": [
    {
     "name": "stdout",
     "output_type": "stream",
     "text": [
      "Overwriting basic_2.lp\n"
     ]
    }
   ],
   "source": [
    "%%file basic_2.lp \n",
    "\n",
    "% I am enrolled to some lecture on day D\n",
    "some_lecture(D) :- enroll(C), lecture(C,D,P)."
   ]
  },
  {
   "cell_type": "markdown",
   "id": "95773148-d27b-4363-bc48-e4f21f2cef5c",
   "metadata": {},
   "source": [
    "We run `clingo`:"
   ]
  },
  {
   "cell_type": "code",
   "execution_count": 8,
   "id": "9bf8d941-3f42-4a79-82b5-f4b9d2715b40",
   "metadata": {},
   "outputs": [
    {
     "name": "stdout",
     "output_type": "stream",
     "text": [
      "lecture(asp,thu,3) lecture(asp,fri,3) lecture(ml,wed,2) lecture(ml,thu,3) lecture(ml,fri,4) lecture(ling,tue,1) lecture(ling,thu,2) lecture(phil,tue,3) lecture(phil,wed,4) enroll(asp) enroll(ml) enroll(ling) some_lecture(thu) some_lecture(fri) some_lecture(wed) some_lecture(tue) course(asp) course(ml) course(ling) course(phil) day(thu) day(fri) day(wed) day(tue) period(3) period(2) period(4) period(1) slot(thu,3) slot(fri,3) slot(wed,2) slot(fri,4) slot(tue,1) slot(thu,2) slot(tue,3) slot(wed,4) credits(asp,9) credits(ml,9) credits(ling,6) credits(phil,9)\n",
      "SATISFIABLE\n"
     ]
    }
   ],
   "source": [
    "!clingo facts.lp enroll.lp basic_1.lp basic_2.lp -V0"
   ]
  },
  {
   "cell_type": "markdown",
   "id": "f4d6f4dd-d8be-40b1-9db0-e4e2cc9e2466",
   "metadata": {},
   "source": [
    "We can tell `clingo` to show only the atoms of predicate `some_lecture` with `1` argument (written `some_lecture/1`)\n",
    "adding the following show statement:"
   ]
  },
  {
   "cell_type": "code",
   "execution_count": 9,
   "id": "11b5fd00-cd42-47f6-8959-9f965f272be9",
   "metadata": {},
   "outputs": [
    {
     "name": "stdout",
     "output_type": "stream",
     "text": [
      "Overwriting show_some_lecture.lp\n"
     ]
    }
   ],
   "source": [
    "%%file show_some_lecture.lp\n",
    "#show some_lecture/1."
   ]
  },
  {
   "cell_type": "code",
   "execution_count": 10,
   "id": "2d5ed543-15e5-4668-a554-e3c770ba9cb6",
   "metadata": {},
   "outputs": [
    {
     "name": "stdout",
     "output_type": "stream",
     "text": [
      "some_lecture(thu) some_lecture(fri) some_lecture(wed) some_lecture(tue)\n",
      "SATISFIABLE\n"
     ]
    }
   ],
   "source": [
    "!clingo facts.lp enroll.lp basic_1.lp basic_2.lp show_some_lecture.lp -V0"
   ]
  },
  {
   "cell_type": "markdown",
   "id": "7c74a3d1-e70f-4a83-b20c-439995914f37",
   "metadata": {
    "tags": []
   },
   "source": [
    "### Safety"
   ]
  },
  {
   "cell_type": "markdown",
   "id": "f3249b6d-ac46-49ab-92ef-fa1c96479e13",
   "metadata": {},
   "source": [
    "A rule is safe if every variable occuring in the rule occurs in some *positive literal* in its body.\n",
    "\n",
    "`clingo` returns an error if it finds an unsafe rule, like in the next example:"
   ]
  },
  {
   "cell_type": "code",
   "execution_count": 11,
   "id": "d8b31e37-8dc3-429c-8d57-947be9db456b",
   "metadata": {
    "tags": []
   },
   "outputs": [
    {
     "name": "stdout",
     "output_type": "stream",
     "text": [
      "clingo version 5.5.1\n",
      "Reading from -\n",
      "UNKNOWN\n",
      "\n",
      "Models       : 0+\n",
      "Calls        : 1\n",
      "Time         : 0.000s (Solving: 0.00s 1st Model: 0.00s Unsat: 0.00s)\n",
      "CPU Time     : 0.000s\n"
     ]
    },
    {
     "name": "stderr",
     "output_type": "stream",
     "text": [
      "-:1:1-11: error: unsafe variables in:\n",
      "  course(C):-[#inc_base].\n",
      "-:1:8-9: note: 'C' is unsafe\n",
      "\n",
      "-:2:1-47: error: unsafe variables in:\n",
      "  some_lecture(DD):-[#inc_base];lecture(C,D,P);enroll(C).\n",
      "-:2:14-16: note: 'DD' is unsafe\n",
      "\n",
      "*** ERROR: (clingo): grounding stopped because of errors\n"
     ]
    }
   ],
   "source": [
    "%%clingo - \n",
    "course(C).\n",
    "some_lecture(DD) :- enroll(C), lecture(C,D,P)."
   ]
  },
  {
   "cell_type": "markdown",
   "id": "81b70132-8d2e-4ec2-ae1a-81b81e9904cb",
   "metadata": {},
   "source": [
    "Observe how `clingo` detects that both rules are unsafe, and tells us what specific variables (`C` and `DD`) make the rule unsafe."
   ]
  },
  {
   "cell_type": "markdown",
   "id": "85a4c06c-e39e-4954-8754-a84e16873c87",
   "metadata": {},
   "source": [
    "Note: A *positive literal* is an atom, a *negative literal* is an atom preceeded by `not`, and\n",
    "a *literal* is a positive literal or a negative literal.\n",
    "In the previous rules we have only seen positive literals."
   ]
  },
  {
   "cell_type": "markdown",
   "id": "01a85063-2bd9-42cf-b986-5fdb89d5de25",
   "metadata": {
    "tags": []
   },
   "source": [
    "## Arithmetics"
   ]
  },
  {
   "cell_type": "markdown",
   "id": "a29aa5df-683a-4cae-b09c-9ffb97a1fd65",
   "metadata": {},
   "source": [
    "In the next example, we want to know how many hours are we supposed to work per week, according to the students' legislation."
   ]
  },
  {
   "cell_type": "code",
   "execution_count": 12,
   "id": "182a0b06-604b-4fb5-a0f7-52951f76b26b",
   "metadata": {},
   "outputs": [
    {
     "name": "stdout",
     "output_type": "stream",
     "text": [
      "hours_per_semester(900) hours_per_week(42)\n",
      "SATISFIABLE\n"
     ]
    }
   ],
   "source": [
    "%%clingo - -V0\n",
    "\n",
    "credits_per_semester(30). % there are 30 credits per semester\n",
    "hours_per_credit(30).     % every credit amounts to 30 hours of work\n",
    "lecture_weeks(15).        % there are 15 lecture weeks per semester\n",
    "exam_weeks(6).            % there are 6 weeks for exams per semester\n",
    "\n",
    "% hours_per_semester(H) : every semester amounts for H hours of work\n",
    "hours_per_semester(Cr * H) :- credits_per_semester(Cr), hours_per_credit(H).\n",
    "\n",
    "% hours_per_week(H): every week of the semester we are supposed to work H hours\n",
    "hours_per_week(H/(L + E)) :- hours_per_semester(H), lecture_weeks(L), exam_weeks(E).\n",
    "\n",
    "#show hours_per_semester/1. \n",
    "#show hours_per_week/1. "
   ]
  },
  {
   "cell_type": "markdown",
   "id": "daeb7752-fab5-4164-91f4-ad90a8d50458",
   "metadata": {},
   "source": [
    "We obtain a total of `900` hours per semester and `42` per week. \n",
    "\n",
    "The symbol `*` is used for multiplication, `+` is used for addition, and `/` is used for integer division. \n",
    "Other arithmetic operators available in `clingo` are\n",
    "substraction (`-`),\n",
    "modulo (`\\`),\n",
    "exponentiation (`**`) and\n",
    "absolute value (`|.|`). You can see them in the next example:"
   ]
  },
  {
   "cell_type": "code",
   "execution_count": 13,
   "id": "d5c24d02-d113-4a10-a7a1-e1880a50b355",
   "metadata": {},
   "outputs": [
    {
     "name": "stdout",
     "output_type": "stream",
     "text": [
      "right(2) left(7) minus(5) modulo(1) power(49) abs(2)\n",
      "SATISFIABLE\n"
     ]
    }
   ],
   "source": [
    "%%clingo - -V0 \n",
    "left(7).\n",
    "right(2).\n",
    "minus ( L -  R ) :- left(L), right(R).\n",
    "modulo( L \\  R ) :- left(L), right(R).\n",
    "power ( L ** R ) :- left(L), right(R).\n",
    "abs   (|  -  R|) :-          right(R)."
   ]
  },
  {
   "cell_type": "markdown",
   "id": "ccddb712-7675-4fa5-9934-bd3b8ec1192e",
   "metadata": {
    "tags": []
   },
   "source": [
    "## Constants"
   ]
  },
  {
   "cell_type": "markdown",
   "id": "502075f3-0d9b-4458-a3af-d5d1cdd9c59b",
   "metadata": {},
   "source": [
    "In the example of `Arithmetics` we have stated that the hours per credit are `30`.\n",
    "But actually, the hours per credit may range between 25 and 30.\n",
    "\n",
    "We can then replace `hours_per_credit(30).`\n",
    "by \n",
    "`hours_per_credit(25).` \n",
    "and then we obtain `750` hours per semester and `35` per week.\n",
    "\n",
    "To make these kind of changes easier, we can instead replace \n",
    "`hours_per_credit(30).`\n",
    "by \n",
    "`hours_per_credit(hpc).` \n",
    "where `hpc` is a constant whose value can be set using `clingo` option `-c hpc=30` or `-c hpc=25`."
   ]
  },
  {
   "cell_type": "code",
   "execution_count": 14,
   "id": "6e905c92-6774-4137-a7a4-03e923992768",
   "metadata": {},
   "outputs": [
    {
     "name": "stdout",
     "output_type": "stream",
     "text": [
      "credits_per_semester(30) hours_per_credit(30)\n",
      "SATISFIABLE\n"
     ]
    }
   ],
   "source": [
    "%%clingo - -V0 -c hpc=30\n",
    " \n",
    "credits_per_semester(30). % there are 30 credits per semester\n",
    "hours_per_credit(hpc).    % every credit amounts to hpc hours of work"
   ]
  },
  {
   "cell_type": "markdown",
   "id": "614fc74f-9d6a-4412-9677-ff8a330607b3",
   "metadata": {},
   "source": [
    "Additionally, we can write the directive \n",
    "`#const hpc=25.` \n",
    "in the logic program and then `hpc` is replaced by the integer `25` unless some \n",
    "option `-c hpc=...` is used."
   ]
  },
  {
   "cell_type": "code",
   "execution_count": 15,
   "id": "f647beec-4df4-42d8-9b69-11efeeec2126",
   "metadata": {},
   "outputs": [
    {
     "name": "stdout",
     "output_type": "stream",
     "text": [
      "credits_per_semester(30) hours_per_credit(25)\n",
      "SATISFIABLE\n"
     ]
    }
   ],
   "source": [
    "%%clingo - -V0\n",
    " \n",
    "credits_per_semester(30). % there are 30 credits per semester\n",
    "hours_per_credit(hpc).    % every credit amounts to hpc hours of work\n",
    "\n",
    "#const hpc=25."
   ]
  },
  {
   "cell_type": "markdown",
   "id": "a1e2ead9-b7a9-4023-8c7d-82778a12375b",
   "metadata": {
    "tags": []
   },
   "source": [
    "## Comparison predicates"
   ]
  },
  {
   "cell_type": "markdown",
   "id": "3f716e73-f2fe-47eb-bf83-a92369f9f08a",
   "metadata": {},
   "source": [
    "We want to identify if we have some conflict between our courses at any time slot. \n",
    "We can *try* to do it with the next rule, that says that: \n",
    "* For every `C1`, `C2`, `D` and `P`, if `enroll(C1)`, `lecture(C,D,P)`, `enroll(C2)`, and `lecture(C2,D,P)` are in an answer set, then `conflict(D,P)` must also be in that answer set. "
   ]
  },
  {
   "cell_type": "code",
   "execution_count": 16,
   "id": "07007543-aa2b-4083-a463-f8e41d557d09",
   "metadata": {
    "tags": []
   },
   "outputs": [
    {
     "name": "stdout",
     "output_type": "stream",
     "text": [
      "Overwriting comparison_1.lp\n"
     ]
    }
   ],
   "source": [
    "%%file comparison_1.lp\n",
    "\n",
    "% there is a conflict on day D at period P\n",
    "conflict(D,P) :- enroll(C1), lecture(C1,D,P), \n",
    "                 enroll(C2), lecture(C2,D,P).\n",
    "#show conflict/2."
   ]
  },
  {
   "cell_type": "markdown",
   "id": "827220fd-0450-4d08-948f-0d59af65447a",
   "metadata": {},
   "source": [
    "Recall our facts using clingo:"
   ]
  },
  {
   "cell_type": "code",
   "execution_count": 17,
   "id": "f2390ddc-80a9-4066-bdda-0ba75f66573f",
   "metadata": {},
   "outputs": [
    {
     "name": "stdout",
     "output_type": "stream",
     "text": [
      "enroll(asp) enroll(ml) enroll(ling) credits(asp,9) credits(ml,9) credits(ling,6) credits(phil,9) lecture(asp,thu,3) lecture(asp,fri,3) lecture(ml,wed,2) lecture(ml,thu,3) lecture(ml,fri,4) lecture(ling,tue,1) lecture(ling,thu,2) lecture(phil,tue,3) lecture(phil,wed,4)\n",
      "SATISFIABLE\n"
     ]
    }
   ],
   "source": [
    "!clingo -V0 facts.lp enroll.lp"
   ]
  },
  {
   "cell_type": "markdown",
   "id": "a6c4d2c2-683d-4ed3-b195-efa479a2b3b5",
   "metadata": {},
   "source": [
    "Then `clingo` tell us that..."
   ]
  },
  {
   "cell_type": "code",
   "execution_count": 18,
   "id": "87ed2443-e82f-48db-9e04-544d3ea0c49e",
   "metadata": {},
   "outputs": [
    {
     "name": "stdout",
     "output_type": "stream",
     "text": [
      "conflict(thu,3) conflict(fri,3) conflict(wed,2) conflict(fri,4) conflict(tue,1) conflict(thu,2)\n",
      "SATISFIABLE\n"
     ]
    }
   ],
   "source": [
    "!clingo facts.lp enroll.lp comparison_1.lp 0 -V0"
   ]
  },
  {
   "cell_type": "markdown",
   "id": "b02138bb-b386-4227-8134-07512e343c92",
   "metadata": {},
   "source": [
    "... we have conflicts all over the week. But this cannot be correct! For example, on Thursday at the 2nd period we only have the linguistics course, hence no conflict can occur at that time slot. \n",
    "\n",
    "The problem is that in the rule above nothing forbids `C1` and `C2` to refer to the same course. Then, we derive a `conflict` for every time slot of every lecture to which we have enrolled. We can fix the problem forcing those two variable to be distinct with the comparison predicate `!=`:"
   ]
  },
  {
   "cell_type": "code",
   "execution_count": 19,
   "id": "f6ef8405-a41a-4ce7-b95e-adf8b95b53ab",
   "metadata": {},
   "outputs": [
    {
     "name": "stdout",
     "output_type": "stream",
     "text": [
      "Overwriting comparison_2.lp\n"
     ]
    }
   ],
   "source": [
    "%%file comparison_2.lp \n",
    "conflict(D,P) :- enroll(C1), lecture(C1,D,P), \n",
    "                 enroll(C2), lecture(C2,D,P), C1 != C2.\n",
    "#show conflict/2."
   ]
  },
  {
   "cell_type": "code",
   "execution_count": 20,
   "id": "137baa3c-80e2-4bee-a65c-180e70797764",
   "metadata": {},
   "outputs": [
    {
     "name": "stdout",
     "output_type": "stream",
     "text": [
      "conflict(thu,3)\n",
      "SATISFIABLE\n"
     ]
    }
   ],
   "source": [
    "!clingo facts.lp enroll.lp comparison_2.lp 0 -V0"
   ]
  },
  {
   "cell_type": "markdown",
   "id": "ce25ad66-c11b-4b9d-8277-9f9c68463a46",
   "metadata": {},
   "source": [
    "Now the result is correct: we have a conflict on Thursday at the 3rd period.\n",
    "\n",
    "You can replace the symbol `!=` by `<` or by `>` and see that the result is the same. This shows that in `clingo` the constants (like `mon` or `thu`) are ordered. \n",
    "In fact, they are ordered lexicographically, but this order is not always meaningful to us. \n",
    "To see this, let's *try* to define when day `D1` is `before` day `D2`:"
   ]
  },
  {
   "cell_type": "code",
   "execution_count": 21,
   "id": "a1899cde-3ab6-4a35-9852-d02adae3b679",
   "metadata": {},
   "outputs": [
    {
     "name": "stdout",
     "output_type": "stream",
     "text": [
      "before(fri,mon) before(mon,tue) before(thu,tue) before(fri,tue) before(mon,wed) before(tue,wed) before(thu,wed) before(fri,wed) before(mon,thu) before(fri,thu)\n",
      "SATISFIABLE\n"
     ]
    }
   ],
   "source": [
    "%%clingo - -V0\n",
    "\n",
    "day(mon). day(tue). day(wed). day(thu). day(fri).\n",
    "before(D1,D2) :- day(D1), day(D2), D1 < D2.\n",
    "\n",
    "#show before/2."
   ]
  },
  {
   "cell_type": "markdown",
   "id": "ece5f8fe-ed65-4104-a22b-529a794d0776",
   "metadata": {},
   "source": [
    "This doesn't work nicely. For example, `fri`day should not be before `mon`day. \n",
    "In this case, it is better to use numbers to refer directly to the elements we want to order:"
   ]
  },
  {
   "cell_type": "code",
   "execution_count": 22,
   "id": "274bb956-cd19-471d-8f5b-8c2a00608eff",
   "metadata": {},
   "outputs": [
    {
     "name": "stdout",
     "output_type": "stream",
     "text": [
      "before(1,2) before(1,3) before(2,3) before(1,4) before(2,4) before(3,4) before(1,5) before(2,5) before(3,5) before(4,5)\n",
      "SATISFIABLE\n"
     ]
    }
   ],
   "source": [
    "%%clingo - -V0\n",
    "\n",
    "day(1). day(2). day(3). day(4). day(5).\n",
    "before(D1,D2) :- day(D1), day(D2), D1 < D2.\n",
    "\n",
    "#show before/2."
   ]
  },
  {
   "cell_type": "markdown",
   "id": "e36f41a0-e376-4a70-83e2-acc7c2558052",
   "metadata": {},
   "source": [
    "or use some additional predicate to define that order, like `position/2` in the next example:"
   ]
  },
  {
   "cell_type": "code",
   "execution_count": 23,
   "id": "1bbe0c82-be53-48c8-bbc6-7d4692437071",
   "metadata": {},
   "outputs": [
    {
     "name": "stdout",
     "output_type": "stream",
     "text": [
      "before(mon,tue) before(mon,wed) before(tue,wed) before(mon,thu) before(tue,thu) before(wed,thu) before(mon,fri) before(tue,fri) before(wed,fri) before(thu,fri)\n",
      "SATISFIABLE\n"
     ]
    }
   ],
   "source": [
    "%%clingo - -V0\n",
    "\n",
    "day(mon). day(tue). day(wed). day(thu). day(fri).\n",
    "position(mon,1). position(tue,2). position(wed,3). position(thu,4). position(fri,5).\n",
    "before(D1,D2) :- day(D1), day(D2), position(D1,P1), position(D2,P2), P1 < P2.\n",
    "\n",
    "#show before/2."
   ]
  },
  {
   "cell_type": "markdown",
   "id": "73b10ef4-eb56-4a1d-aca7-608984b6c2fa",
   "metadata": {},
   "source": [
    "Let's move one and see more comparison operators at work. \n",
    "We want to define the time slots that are early, at the first period of the day, given our enrollment.\n",
    "We can do this with any of the rules of the following program.\n",
    "You can uncomment each of them individually and see that they lead to the same result:"
   ]
  },
  {
   "cell_type": "code",
   "execution_count": 24,
   "id": "c8bb4042-e263-4410-b4a8-ee10fd718692",
   "metadata": {},
   "outputs": [
    {
     "name": "stdout",
     "output_type": "stream",
     "text": [
      "early(ling,tue)\n",
      "SATISFIABLE\n"
     ]
    }
   ],
   "source": [
    "%%clingo - facts.lp enroll.lp -V0\n",
    "\n",
    "% uncomment one\n",
    "  early(C,D) :- enroll(C), lecture(C,D,1).\n",
    "% early(C,D) :- enroll(C), lecture(C,D,P), P  = 1.\n",
    "% early(C,D) :- enroll(C), lecture(C,D,P), P <= 1.\n",
    "% #const early_time=2.\n",
    "% early(C,D) :- enroll(C), lecture(C,D,P), P  < early_time. % uncomment also the line above\n",
    "% early(C,D) :- enroll(C), lecture(C,D,P), P != 2, P != 3, P != 4.\n",
    "\n",
    "#show early/2."
   ]
  },
  {
   "cell_type": "markdown",
   "id": "002d9b8e-fff8-4e31-8267-6e969d1df877",
   "metadata": {
    "tags": []
   },
   "source": [
    "## Intervals"
   ]
  },
  {
   "cell_type": "markdown",
   "id": "bb96badd-13c3-4ad0-864b-a64f417ce0ff",
   "metadata": {},
   "source": [
    "Above we have defined the days of the week using numbers:"
   ]
  },
  {
   "cell_type": "code",
   "execution_count": 25,
   "id": "82212e99-ca49-44ad-952c-9e75a4b9fb8f",
   "metadata": {},
   "outputs": [
    {
     "name": "stdout",
     "output_type": "stream",
     "text": [
      "day(1) day(2) day(3) day(4) day(5)\n",
      "SATISFIABLE\n"
     ]
    }
   ],
   "source": [
    "%%clingo - -V0\n",
    "day(1). day(2). day(3). day(4). day(5)."
   ]
  },
  {
   "cell_type": "markdown",
   "id": "fce4fcea-bda0-4d12-96cd-1dfb88794198",
   "metadata": {},
   "source": [
    "We can do the same more compactly, using intervals in the head:"
   ]
  },
  {
   "cell_type": "code",
   "execution_count": 26,
   "id": "903c0f04-8840-420a-bb11-860e3d59deb8",
   "metadata": {},
   "outputs": [
    {
     "name": "stdout",
     "output_type": "stream",
     "text": [
      "day(1) day(2) day(3) day(4) day(5)\n",
      "SATISFIABLE\n"
     ]
    }
   ],
   "source": [
    "%%clingo - -V0\n",
    "day(1..5)."
   ]
  },
  {
   "cell_type": "markdown",
   "id": "702b74f9-ad04-480a-9639-b98eaf3bddd4",
   "metadata": {},
   "source": [
    "or in the body:"
   ]
  },
  {
   "cell_type": "code",
   "execution_count": 27,
   "id": "8e7f7b2f-b84e-4a4f-ad61-6a0461f73713",
   "metadata": {},
   "outputs": [
    {
     "name": "stdout",
     "output_type": "stream",
     "text": [
      "day(1) day(2) day(3) day(4) day(5)\n",
      "SATISFIABLE\n"
     ]
    }
   ],
   "source": [
    "%%clingo - -V0\n",
    "day(D) :- D=1..5."
   ]
  },
  {
   "cell_type": "markdown",
   "id": "31805337-85a3-4eac-abd0-1f93f395ded8",
   "metadata": {},
   "source": [
    "The bounds of the interval can be variables, like here:"
   ]
  },
  {
   "cell_type": "code",
   "execution_count": 28,
   "id": "56285bcb-9f8e-4020-b24f-ad5f6d78a189",
   "metadata": {},
   "outputs": [
    {
     "name": "stdout",
     "output_type": "stream",
     "text": [
      "max(5) min(1) day(1) day(2) day(3) day(4) day(5)\n",
      "SATISFIABLE\n"
     ]
    }
   ],
   "source": [
    "%%clingo - -V0\n",
    "min(1). max(5).\n",
    "day(Min..Max) :- min(Min), max(Max)."
   ]
  },
  {
   "cell_type": "markdown",
   "id": "2184d8a0-ae72-4e13-b4d5-1a7d5892db8d",
   "metadata": {},
   "source": [
    "or here:"
   ]
  },
  {
   "cell_type": "code",
   "execution_count": 29,
   "id": "a29710a1-36ac-460f-a8ec-5c8bd3aa66af",
   "metadata": {},
   "outputs": [
    {
     "name": "stdout",
     "output_type": "stream",
     "text": [
      "max(5) min(1) day(1) day(2) day(3) day(4) day(5)\n",
      "SATISFIABLE\n"
     ]
    }
   ],
   "source": [
    "%%clingo - -V0\n",
    "min(1). max(5).\n",
    "day(D) :- D=Min..Max, min(Min), max(Max)."
   ]
  },
  {
   "cell_type": "markdown",
   "id": "a7f19bb7-e85c-4a42-b30a-af7a2a0b2fd2",
   "metadata": {},
   "source": [
    "More than one interval can occur in one rule, \n",
    "like in the next rules defining time slots:"
   ]
  },
  {
   "cell_type": "code",
   "execution_count": 30,
   "id": "dbc2847f-1c88-4e27-9d43-dd9d0689a03d",
   "metadata": {},
   "outputs": [
    {
     "name": "stdout",
     "output_type": "stream",
     "text": [
      "slot(1,1) slot(2,1) slot(3,1) slot(4,1) slot(5,1) slot(1,2) slot(2,2) slot(3,2) slot(4,2) slot(5,2) slot(1,3) slot(2,3) slot(3,3) slot(4,3) slot(5,3) slot(1,4) slot(2,4) slot(3,4) slot(4,4) slot(5,4)\n",
      "SATISFIABLE\n"
     ]
    }
   ],
   "source": [
    "%%clingo - -V0\n",
    "slot(1..5,1..4)."
   ]
  },
  {
   "cell_type": "code",
   "execution_count": 31,
   "id": "6ce7f1dd-6581-4646-bd28-2fab14bd40fd",
   "metadata": {},
   "outputs": [
    {
     "name": "stdout",
     "output_type": "stream",
     "text": [
      "slot(1,1) slot(2,1) slot(3,1) slot(4,1) slot(5,1) slot(1,2) slot(2,2) slot(3,2) slot(4,2) slot(5,2) slot(1,3) slot(2,3) slot(3,3) slot(4,3) slot(5,3) slot(1,4) slot(2,4) slot(3,4) slot(4,4) slot(5,4)\n",
      "SATISFIABLE\n"
     ]
    }
   ],
   "source": [
    "%%clingo - -V0\n",
    "slot(D,P) :- D=1..5, P=1..4."
   ]
  },
  {
   "cell_type": "markdown",
   "id": "a8a65dc9-847e-4bf6-aed4-cb5d2cd77ddd",
   "metadata": {
    "tags": []
   },
   "source": [
    "## Pooling"
   ]
  },
  {
   "cell_type": "markdown",
   "id": "494b14fa-8913-47b8-8dc7-06ca5a37226d",
   "metadata": {},
   "source": [
    "Another useful feature of our language is pooling. Remember our definition of the days of the week:"
   ]
  },
  {
   "cell_type": "code",
   "execution_count": 32,
   "id": "38b2e991-9d22-41c5-a599-5fee87597aab",
   "metadata": {},
   "outputs": [
    {
     "name": "stdout",
     "output_type": "stream",
     "text": [
      "day(mon) day(tue) day(wed) day(thu) day(fri)\n",
      "SATISFIABLE\n"
     ]
    }
   ],
   "source": [
    "%%clingo - -V0\n",
    "day(mon). day(tue). day(wed). day(thu). day(fri)."
   ]
  },
  {
   "cell_type": "markdown",
   "id": "6a7ce5b7-23dd-4690-a990-72904bf6cf30",
   "metadata": {},
   "source": [
    "We can write it simply like this:"
   ]
  },
  {
   "cell_type": "code",
   "execution_count": 33,
   "id": "561e7edb-69d9-4a0a-ad26-ae52a6808608",
   "metadata": {},
   "outputs": [
    {
     "name": "stdout",
     "output_type": "stream",
     "text": [
      "day(mon) day(tue) day(wed) day(thu) day(fri)\n",
      "SATISFIABLE\n"
     ]
    }
   ],
   "source": [
    "%%clingo - -V0\n",
    "day(mon;tue;wed;thu;fri)."
   ]
  },
  {
   "cell_type": "markdown",
   "id": "57dfd335-16d2-4b75-acc1-ee48bb24a56c",
   "metadata": {},
   "source": [
    "We can also use pools to define the time slots with day names:"
   ]
  },
  {
   "cell_type": "code",
   "execution_count": 34,
   "id": "b1b43c2d-be6d-40ec-a19d-62f5e9a54866",
   "metadata": {},
   "outputs": [
    {
     "name": "stdout",
     "output_type": "stream",
     "text": [
      "slot(fri,1) slot(fri,2) slot(fri,3) slot(fri,4) slot(thu,1) slot(thu,2) slot(thu,3) slot(thu,4) slot(wed,1) slot(wed,2) slot(wed,3) slot(wed,4) slot(tue,1) slot(tue,2) slot(tue,3) slot(tue,4) slot(mon,1) slot(mon,2) slot(mon,3) slot(mon,4)\n",
      "SATISFIABLE\n"
     ]
    }
   ],
   "source": [
    "%%clingo - -V0 0\n",
    "\n",
    "period(1..4).\n",
    "slot(mon,P;tue,P;wed,P;thu,P;fri,P) :- period(P).\n",
    "\n",
    "#show slot/2."
   ]
  },
  {
   "cell_type": "markdown",
   "id": "d9e83517-e165-4699-b3e4-d018ba87dea0",
   "metadata": {
    "tags": []
   },
   "source": [
    "## Negation"
   ]
  },
  {
   "cell_type": "markdown",
   "id": "90233c18-98fe-4c26-9b88-fe87334e915d",
   "metadata": {},
   "source": [
    "Let's define which courses are nice for us because they do not have any early lecture at the first period of some day.\n",
    "This is our first attempt:"
   ]
  },
  {
   "cell_type": "code",
   "execution_count": 35,
   "id": "013badf8-b691-4959-9b93-40bcd9fcb70c",
   "metadata": {},
   "outputs": [
    {
     "name": "stdout",
     "output_type": "stream",
     "text": [
      "\n",
      "SATISFIABLE\n"
     ]
    }
   ],
   "source": [
    "%%clingo - -V0 facts.lp\n",
    "\n",
    "% course C is nice on day D\n",
    "nice(C,D) :- lecture(C,D,P), P = 2..4.\n",
    "\n",
    "% course C is nice\n",
    "nice(C) :- nice(C,mon), nice(C,tue), nice(C,wed), nice(C,thu), nice(C,fri).\n",
    "\n",
    "#show nice/1."
   ]
  },
  {
   "cell_type": "markdown",
   "id": "ebfd6f6d-1364-45c1-ba5f-344a283cfd77",
   "metadata": {},
   "source": [
    "The result tells us that there is no nice course! But this cannot be true. Let's see again the lectures..."
   ]
  },
  {
   "cell_type": "code",
   "execution_count": 36,
   "id": "eab1fc5c-d68a-41be-92be-16fdcc85e881",
   "metadata": {},
   "outputs": [
    {
     "name": "stdout",
     "output_type": "stream",
     "text": [
      "lecture(asp,thu,3) lecture(asp,fri,3) lecture(ml,wed,2) lecture(ml,thu,3) lecture(ml,fri,4) lecture(ling,tue,1) lecture(ling,thu,2) lecture(phil,tue,3) lecture(phil,wed,4)\n",
      "SATISFIABLE\n"
     ]
    }
   ],
   "source": [
    "%%clingo - -V0 facts.lp\n",
    "#show lecture/3."
   ]
  },
  {
   "cell_type": "markdown",
   "id": "2f63a655-0cf0-4d36-a957-2bbd19fa2d87",
   "metadata": {},
   "source": [
    "The only course that is not nice, according to our informal definition, is `ling`, because we have `lecture(ling,tue,1)`. \n",
    "\n",
    "The problem with our rules is that for a course `C` to be nice we require that *every day* there is some nice lecture.\n",
    "\n",
    "Actually, we would like to say that `C` is nice if there is no day that is early. We can do this using negation:"
   ]
  },
  {
   "cell_type": "code",
   "execution_count": 37,
   "id": "7e814ac9-e7dd-45d9-817b-2a682e017eb7",
   "metadata": {},
   "outputs": [
    {
     "name": "stdout",
     "output_type": "stream",
     "text": [
      "nice(asp) nice(ml) nice(phil)\n",
      "SATISFIABLE\n"
     ]
    }
   ],
   "source": [
    "%%clingo - -V0 facts.lp basic_1.lp\n",
    "\n",
    "% course C is early on day D\n",
    "early(C,D) :- lecture(C,D,1).\n",
    "\n",
    "% course C is nice\n",
    "nice(C) :- course(C), \n",
    "           not early(C,mon), not early(C,tue), not early(C,wed), not early(C,thu), not early(C,fri).\n",
    "\n",
    "#show nice/1."
   ]
  },
  {
   "cell_type": "markdown",
   "id": "abc0411f-5050-43ad-b9c1-8873ef8122c5",
   "metadata": {},
   "source": [
    "Now we obtain the right answer!\n",
    "\n",
    "However, the rule defining `nice(C)` looks too complicated, and it does not work if there are lectures on Saturdays... \n",
    "\n",
    "Let's give it another try:"
   ]
  },
  {
   "cell_type": "code",
   "execution_count": 38,
   "id": "406ac469-7098-4c27-acbf-60011dd9a537",
   "metadata": {},
   "outputs": [
    {
     "name": "stdout",
     "output_type": "stream",
     "text": [
      "nice(asp) nice(ml) nice(phil)\n",
      "SATISFIABLE\n"
     ]
    }
   ],
   "source": [
    "%%clingo - -V0 facts.lp basic_1.lp\n",
    "\n",
    "% course C is early (some day)\n",
    "early(C) :- lecture(C,D,1).\n",
    "\n",
    "% course C is nice\n",
    "nice(C) :- course(C), not early(C).\n",
    "\n",
    "#show nice/1."
   ]
  },
  {
   "cell_type": "markdown",
   "id": "e72280a3-e49f-43d1-9551-5e0c010988dc",
   "metadata": {},
   "source": [
    "This looks much simpler, and it is closer to our description in natural language of a nice course."
   ]
  },
  {
   "cell_type": "markdown",
   "id": "57b8f862-3005-437c-8ab8-71fbaf0d1cae",
   "metadata": {
    "tags": []
   },
   "source": [
    "### Safety"
   ]
  },
  {
   "cell_type": "markdown",
   "id": "6c812246-4f21-4185-b76f-d5ab3e442ff7",
   "metadata": {},
   "source": [
    "Now you could be asking yourself: why do we need to add the atom `course(C)` to the body of the rules for `nice(C)`? Let's see what `clingo` says if we delete it from the rules:"
   ]
  },
  {
   "cell_type": "code",
   "execution_count": 39,
   "id": "5343b4fc-c7f3-4f75-a600-d88f7c078638",
   "metadata": {},
   "outputs": [
    {
     "name": "stdout",
     "output_type": "stream",
     "text": [
      "UNKNOWN\n"
     ]
    },
    {
     "name": "stderr",
     "output_type": "stream",
     "text": [
      "-:6:1-7:101: error: unsafe variables in:\n",
      "  nice(C):-[#inc_base];not early(C,fri);not early(C,thu);not early(C,wed);not early(C,tue);not early(C,mon).\n",
      "-:6:6-7: note: 'C' is unsafe\n",
      "\n",
      "-:13:1-25: error: unsafe variables in:\n",
      "  nice(C):-[#inc_base];not early(C).\n",
      "-:13:6-7: note: 'C' is unsafe\n",
      "\n",
      "*** ERROR: (clingo): grounding stopped because of errors\n"
     ]
    }
   ],
   "source": [
    "%%clingo - -V0 facts.lp basic_1.lp\n",
    "\n",
    "% course C is early on day D\n",
    "early(C,D) :- lecture(C,D,1).\n",
    "\n",
    "% course C is nice\n",
    "nice(C) :- \n",
    "           not early(C,mon), not early(C,tue), not early(C,wed), not early(C,thu), not early(C,fri).\n",
    "    \n",
    "% course C is early (some day)\n",
    "early(C) :- lecture(C,D,1).\n",
    "\n",
    "% course C is nice\n",
    "nice(C) :- not early(C)."
   ]
  },
  {
   "cell_type": "markdown",
   "id": "d176d0c2-fe56-4c9d-a445-d590699c505e",
   "metadata": {},
   "source": [
    "`clingo` gives an error and tells us that now the rules are not safe!\n",
    "\n",
    "Remember that a rule is safe if every variable occurring in the rule occurs in some *positive literal* in its body. \n",
    "\n",
    "Without the atom `course(C)`, the variable `C` does not occur in any positive literal of the bodies, and the rules are unsafe."
   ]
  },
  {
   "cell_type": "markdown",
   "id": "30a71005-65fc-4955-9d79-5c150fb66964",
   "metadata": {
    "tags": []
   },
   "source": [
    "## Anonymous variables"
   ]
  },
  {
   "cell_type": "markdown",
   "id": "8f758a51-3d8f-476d-a8ac-50932546b8d3",
   "metadata": {},
   "source": [
    "We have defined a time slot with a rule like this:"
   ]
  },
  {
   "cell_type": "code",
   "execution_count": 40,
   "id": "af49c26b-9924-4944-b463-e2a31cf9fb51",
   "metadata": {},
   "outputs": [
    {
     "name": "stdout",
     "output_type": "stream",
     "text": [
      "slot(thu,3) slot(fri,3) slot(wed,2) slot(fri,4) slot(tue,1) slot(thu,2) slot(tue,3) slot(wed,4)\n",
      "SATISFIABLE\n"
     ]
    }
   ],
   "source": [
    "%%clingo - -V0 facts.lp\n",
    "\n",
    "slot(D,P) :- lecture(C,D,P).\n",
    "\n",
    "#show slot/2."
   ]
  },
  {
   "cell_type": "markdown",
   "id": "36a3d90a-532b-4007-96c3-09986f6dcb08",
   "metadata": {},
   "source": [
    "The variable `C` occurs only in the body of the rule, in the atom `lecture(C,D,P)`. It is not used anywhere else. In this case, we can replace the variable `C` by an anonymous variable `_`."
   ]
  },
  {
   "cell_type": "code",
   "execution_count": 41,
   "id": "a157b716-0718-4c3c-8091-f1e1d50d2ba8",
   "metadata": {},
   "outputs": [
    {
     "name": "stdout",
     "output_type": "stream",
     "text": [
      "slot(thu,3) slot(fri,3) slot(wed,2) slot(fri,4) slot(tue,1) slot(thu,2) slot(tue,3) slot(wed,4)\n",
      "SATISFIABLE\n"
     ]
    }
   ],
   "source": [
    "%%clingo - -V0 facts.lp\n",
    "\n",
    "slot(D,P) :- lecture(_,D,P).\n",
    "\n",
    "#show slot/2."
   ]
  },
  {
   "cell_type": "markdown",
   "id": "48081923-2f11-4aba-9113-43116e9f4ec3",
   "metadata": {},
   "source": [
    "In the other direction, we can always replace an anonymous variable by a new variable that does not occur anywhere in the rule. \n",
    "For example, in the last program we can replace `_` by `X`, or by `C` again.\n",
    "\n",
    "When we see an anonymous variable, we know that the value of the argument at the position of the variable is not relevant.\n",
    "\n",
    "Using anonymous variables or not is mainly a matter of style. "
   ]
  },
  {
   "cell_type": "markdown",
   "id": "c38a8323-e4cb-4fbb-8c39-6dc38e9a07db",
   "metadata": {},
   "source": [
    "### Implementation\n",
    "\n",
    "`clingo` handles anonymous variables by adding an auxiliary atom. \n",
    "For example, the program above is rewritten by `clingo` into this one:"
   ]
  },
  {
   "cell_type": "code",
   "execution_count": 82,
   "id": "a8ef87fa-6774-4d92-ae16-959630150519",
   "metadata": {},
   "outputs": [
    {
     "name": "stdout",
     "output_type": "stream",
     "text": [
      "slot(thu,3) slot(fri,3) slot(wed,2) slot(fri,4) slot(tue,1) slot(thu,2) slot(tue,3) slot(wed,4)\n",
      "SATISFIABLE\n"
     ]
    }
   ],
   "source": [
    "%%clingo - -V0 facts.lp\n",
    "\n",
    "% auxiliary atom\n",
    "aux_lecture(D,P) :- lecture(X,D,P).\n",
    "\n",
    "% replace lecture(_,D,P) by auxiliary atom aux_lecture(D,P)\n",
    "slot(D,P) :- aux_lecture(D,P).\n",
    "\n",
    "#show slot/2."
   ]
  },
  {
   "cell_type": "markdown",
   "id": "f2726ba1-d74b-4cbc-b467-ee8c006dc69d",
   "metadata": {},
   "source": [
    "Note that this affects the meaning of anonymous variables in negative literals. To see this, let's define a nice enrollment with these rules:"
   ]
  },
  {
   "cell_type": "code",
   "execution_count": 83,
   "id": "1bdde623-d341-4c8a-8d9f-c782ae9bf934",
   "metadata": {},
   "outputs": [
    {
     "name": "stdout",
     "output_type": "stream",
     "text": [
      "\n",
      "SATISFIABLE\n"
     ]
    }
   ],
   "source": [
    "%%clingo - -V0 facts.lp basic_1.lp\n",
    "\n",
    "% course C is early (some day)\n",
    "early(C) :- lecture(C,D,1).\n",
    "\n",
    "% the enrollment is nice if there is no early course\n",
    "nice :- not early(_).\n",
    "\n",
    "#show nice/0."
   ]
  },
  {
   "cell_type": "markdown",
   "id": "2a98ee63-148d-4db8-a064-de82fac2cd75",
   "metadata": {},
   "source": [
    "This looks good. But what happens if we replace the atom `early(_)` by `early(C)`? Try it and you will see that `clingo` gives an error, because now the rule becomes unsafe. But remember that `clingo` is actually replacing the `early(_)` atom by an auxiliary predicate, like here: "
   ]
  },
  {
   "cell_type": "code",
   "execution_count": 85,
   "id": "e680e03e-f5d1-4411-83f7-f6a8afc64aa8",
   "metadata": {},
   "outputs": [
    {
     "name": "stdout",
     "output_type": "stream",
     "text": [
      "\n",
      "SATISFIABLE\n"
     ]
    }
   ],
   "source": [
    "%%clingo - -V0 facts.lp basic_1.lp\n",
    "\n",
    "% course C is early (some day)\n",
    "early(C) :- lecture(C,D,1).\n",
    "\n",
    "% auxiliary atom\n",
    "aux_early :- early(C).\n",
    "\n",
    "% replace early(_) by auxiliary atom aux_early\n",
    "nice :- not aux_early.\n",
    "\n",
    "#show nice/0."
   ]
  },
  {
   "cell_type": "markdown",
   "id": "47a1b5ba-da0f-46b1-9b28-a28fa86917c5",
   "metadata": {},
   "source": [
    "Observe that the program is safe, and we obtain the same solution as before."
   ]
  },
  {
   "cell_type": "markdown",
   "id": "86e49164-ee12-4465-a04d-9f8f2fd8641b",
   "metadata": {
    "tags": []
   },
   "source": [
    "## Cardinality constraints"
   ]
  },
  {
   "cell_type": "markdown",
   "id": "0ab630ad-b430-4bc2-8b6b-b5a0ce098849",
   "metadata": {},
   "source": [
    "In the next step, we want to know if we have enrolled in many courses. And let's say that by many courses we mean at least `2` courses. We can write this rule for that:"
   ]
  },
  {
   "cell_type": "code",
   "execution_count": 105,
   "id": "239032a7-a6d1-499a-b1d2-db9332512718",
   "metadata": {},
   "outputs": [
    {
     "name": "stdout",
     "output_type": "stream",
     "text": [
      "enroll(asp) enroll(ml) enroll(ling) many_courses\n",
      "SATISFIABLE\n"
     ]
    }
   ],
   "source": [
    "%%clingo - -V0 enroll.lp\n",
    "\n",
    "% enrolled in at least two courses\n",
    "many_courses :- enroll(C1), enroll(C2), C1 != C2."
   ]
  },
  {
   "cell_type": "markdown",
   "id": "02b13e34-46f8-4b2d-92e3-00b6efecd927",
   "metadata": {},
   "source": [
    "Good, now we change our mind and say that by many courses we mean at least `3` courses. Let's extend the previous rule for that:"
   ]
  },
  {
   "cell_type": "code",
   "execution_count": 106,
   "id": "7b1d2512-ee6f-49e7-8931-16f0c2179b4b",
   "metadata": {},
   "outputs": [
    {
     "name": "stdout",
     "output_type": "stream",
     "text": [
      "enroll(asp) enroll(ml) enroll(ling) many_courses\n",
      "SATISFIABLE\n"
     ]
    }
   ],
   "source": [
    "%%clingo - -V0 enroll.lp\n",
    "\n",
    "% enrolled in at least two courses\n",
    "many_courses :- enroll(C1), enroll(C2), C1 != C2, \n",
    "                enroll(C3), C1 != C3, C2 != C3."
   ]
  },
  {
   "cell_type": "markdown",
   "id": "0017c8fb-0b7f-419a-bdc5-e56b60329ab9",
   "metadata": {},
   "source": [
    "This works, but it is getting very tedious... \n",
    "\n",
    "Moreover, the approach is not very general. We would like to say something like this: by many courses we mean at least `m` courses, where \n",
    "`m` is a constant that we fix from the command line. How could we handle this case?"
   ]
  },
  {
   "cell_type": "code",
   "execution_count": null,
   "id": "e92cae56-0a7c-45ad-90e7-cc208ad772e8",
   "metadata": {},
   "outputs": [],
   "source": [
    "%%clingo - -V0 enroll.lp -c m=2\n",
    "\n",
    "% enrolled in at least m courses\n",
    "many_courses :- enroll(C1), enroll(C2), C1 != C2, ..."
   ]
  },
  {
   "cell_type": "markdown",
   "id": "23756a9a-b78e-4114-9b4c-510b78dc79de",
   "metadata": {},
   "source": [
    "I don't know how to do it! \n",
    "\n",
    "Let's try a different approach. \n",
    "We would like to talk about how many `enroll(C)` atoms do we have.\n",
    "We can do exactly this with cardinality constraints.\n",
    "They allow us to consider the set of all `enroll(C)` atoms in an answer set, \n",
    "and specify a constraint on its cardinality.\n",
    "In our case, that it is at least `m`."
   ]
  },
  {
   "cell_type": "code",
   "execution_count": 108,
   "id": "6dda4587-28d2-4b17-b49e-5981c36583e6",
   "metadata": {},
   "outputs": [
    {
     "name": "stdout",
     "output_type": "stream",
     "text": [
      "enroll(asp) enroll(ml) enroll(ling) many_courses\n",
      "SATISFIABLE\n"
     ]
    }
   ],
   "source": [
    "%%clingo - -V0 enroll.lp -c m=2\n",
    "\n",
    "% enrolled in at least m courses\n",
    "many_courses :- m { enroll(C) }."
   ]
  },
  {
   "cell_type": "markdown",
   "id": "16101658-6139-4669-ac91-ed6b95387045",
   "metadata": {},
   "source": [
    "The rule says: \n",
    "* Consider the set of literals of the form `enroll(C)`  such that `enroll(C)` belongs to an answer set. \n",
    "* If the cardinality of that set is greater or equal than `m`, then `many_courses` must be in that answer set."
   ]
  },
  {
   "cell_type": "markdown",
   "id": "78e206fa-32a9-4c4c-92a8-6ce6fc088c53",
   "metadata": {},
   "source": [
    "In this case, the set mentioned in the first bullet is `{ enroll(asp), enroll(ml), enroll(ling) `}. \n",
    "Its cardinality is greater than `m`, that is equal to `2` given the option `-c m=2`, and therefore `many_courses` is added to the answer set.\n",
    "You can change the value of the constant `m` to `2` and see how in that case the atom `many_courses` is not added."
   ]
  },
  {
   "cell_type": "markdown",
   "id": "d08f40be-e00c-4860-9e79-f6c37e1e5a86",
   "metadata": {},
   "source": [
    "We could also specify the value of `m` using a predicate `many/1`, and we obtain the same result:"
   ]
  },
  {
   "cell_type": "code",
   "execution_count": 110,
   "id": "27384657-935a-4ce5-ae6f-b902af4565ee",
   "metadata": {},
   "outputs": [
    {
     "name": "stdout",
     "output_type": "stream",
     "text": [
      "many(2) enroll(asp) enroll(ml) enroll(ling) many_courses\n",
      "SATISFIABLE\n"
     ]
    }
   ],
   "source": [
    "%%clingo - -V0 enroll.lp -c m=2\n",
    "\n",
    "% by many we mean at least m\n",
    "many(m).\n",
    "\n",
    "% we are enrolled to many courses\n",
    "many_courses :- many(M), M { enroll(C) }."
   ]
  },
  {
   "cell_type": "markdown",
   "id": "0154fb05-2f1c-47b1-8d2b-aaa551d89bb6",
   "metadata": {},
   "source": [
    "We can read the new rule as follows:\n",
    "* For every `M`, if `many(M)` is in an answer set:\n",
    "  * Consider the set of literals of the form `enroll(C)` such that `enroll(C)` belongs to that answer set. \n",
    "  * If the cardinality of that set is greater or equal than `M`, then `many_courses` must be in that answer set."
   ]
  },
  {
   "cell_type": "markdown",
   "id": "797ff1bb-2689-472b-88b3-1ec60f88ece7",
   "metadata": {},
   "source": [
    "Next, we want to know what days do we have many different courses. Following the previous examples, we could use these rules:"
   ]
  },
  {
   "cell_type": "code",
   "execution_count": 112,
   "id": "cccd5a24-5f82-46cf-97a9-14bc54a3e7b2",
   "metadata": {},
   "outputs": [
    {
     "name": "stdout",
     "output_type": "stream",
     "text": [
      "many_courses(thu) many_courses(fri)\n",
      "SATISFIABLE\n"
     ]
    }
   ],
   "source": [
    "%%clingo - -V0 facts.lp enroll.lp basic.lp -c m=2\n",
    "\n",
    "% by many we mean at least m\n",
    "many(m).\n",
    "\n",
    "% on day D we are enrolled to some lecture(s) of course C\n",
    "enroll(C,D) :- enroll(C), lecture(C,D,P).\n",
    "\n",
    "% on day D we are enrolled to lectures of many courses \n",
    "many_courses(D) :- day(D), many(M), M { enroll(C,D) }.\n",
    "\n",
    "#show many_courses/1."
   ]
  },
  {
   "cell_type": "markdown",
   "id": "19c4acb1-5e06-4d61-8571-010103747ba4",
   "metadata": {},
   "source": [
    "That's nice! \n",
    "\n",
    "We can read the last rule as follows:\n",
    "* For every `D` and `M`, if `day(D)` and `many(M)` are in an answer set:\n",
    "  * Consider the set of literals of the form `enroll(C,D)` such that `enroll(C,D)` belongs to that answer set.\n",
    "  * If the cardinality of that set is greater or equal than `M`, then `many_courses(D)` must be in that answer set."
   ]
  },
  {
   "cell_type": "markdown",
   "id": "ad86e6e6-190f-4962-8bee-ad5c52f704ee",
   "metadata": {},
   "source": [
    "We can also represent the last two rules with a single one, like here:"
   ]
  },
  {
   "cell_type": "code",
   "execution_count": 114,
   "id": "f1c8c788-8acc-4d9e-b16b-7e0e02ccfcdd",
   "metadata": {},
   "outputs": [
    {
     "name": "stdout",
     "output_type": "stream",
     "text": [
      "many_courses(thu) many_courses(fri)\n",
      "SATISFIABLE\n"
     ]
    }
   ],
   "source": [
    "%%clingo - -V0 facts.lp enroll.lp basic.lp -c m=2\n",
    "\n",
    "% by many we mean at least m\n",
    "many(m).\n",
    "\n",
    "% on day D we are enrolled to lectures of many courses \n",
    "many_courses(D) :- day(D), many(M), M { enroll(C) : lecture(C,D,P) }.\n",
    "\n",
    "#show many_courses/1."
   ]
  },
  {
   "cell_type": "markdown",
   "id": "b910c126-ef07-4c01-9a81-7e3287b4ff77",
   "metadata": {},
   "source": [
    "Nice, we obtain the same result! \n",
    "\n",
    "But how do we read the rule now? Only the reading of the cardinality constraint changes:\n",
    "* For every `D` and `M`, if `day(D)` and `many(M)` are in an answer set:\n",
    "  * Consider the set of literals of the form `enroll(C)` such that ...\n",
    "  * ... for some `P`, `enroll(C)` and `lecture(C,D,P)` belong to that answer set.\n",
    "  * If the cardinality of that set is greater or equal than `M`, then `many_courses(D)` must be in that answer set.\n",
    "  \n",
    "Observe that, to add `enroll(C)` to the set to consider,\n",
    "it is enough to have *one* `P` such that `enroll(C)` and `lecture(C,D,P)` belong to the answer set.\n",
    "  \n",
    "To understand this a bit better, let's remember the facts about `enroll/1` and `lecture/3`."
   ]
  },
  {
   "cell_type": "code",
   "execution_count": 116,
   "id": "33ea650d-f934-4304-9ba9-670e985759c4",
   "metadata": {},
   "outputs": [
    {
     "name": "stdout",
     "output_type": "stream",
     "text": [
      "enroll(asp) enroll(ml) enroll(ling) lecture(asp,thu,3) lecture(asp,fri,3) lecture(ml,wed,2) lecture(ml,thu,3) lecture(ml,fri,4) lecture(ling,tue,1) lecture(ling,thu,2) lecture(phil,tue,3) lecture(phil,wed,4)\n",
      "SATISFIABLE\n"
     ]
    }
   ],
   "source": [
    "%%clingo - -V0 facts.lp enroll.lp\n",
    "#show enroll/1.\n",
    "#show lecture/3."
   ]
  },
  {
   "cell_type": "markdown",
   "id": "7fca7dba-fc1d-4c73-8fb1-17d4892480d6",
   "metadata": {},
   "source": [
    "When day `D` is `wed` and `M` is `2`, the set that we have to consider is `{ enroll(ml) }`, of cardinality smaller than `M`. Moreover, for other values of `M`, there is no atom `many_courses(M)` in the answer set. This explains why `many_courses(wed)` is not in the answer set.\n",
    "\n",
    "When day `D` is `thu` and `M` is `2`, the set that we have to consider is `{ enroll(asp), enroll(ml)}`, of cardinality greater or equal than `M`. For this reason, `many_courses(thu)` is added to the answer set."
   ]
  },
  {
   "cell_type": "markdown",
   "id": "e60bfd63-3fa3-421b-94e1-6e1325be708b",
   "metadata": {
    "tags": []
   },
   "source": [
    "### Some notes\n",
    "\n",
    "In the cardinality constraint `M { enroll(C) : lecture(C,D,P) }`, the part `enroll(C) : lecture(C,D,P)` is called *conditional literal*. \n",
    "It is  composed of the *(positive) literal* `enroll(C)` and the *condition* `lecture(C,D,P)`. \n",
    "\n",
    "\n",
    "**Note** that the literal may be negative. To see this, just replace in the previous program the last rule by this one:\n",
    "* `many_courses(D) :- day(D), many(M), M { not enroll(C) : lecture(C,D,P) }.`\n",
    "  \n",
    "In this case, we consider the set of literals of the form `not enroll(C)` such that, for some `P`, `enroll(C)` does not belong to that answer set and `lecture(C,D,P)` belongs to that answer set. When `D` is `wed` and `M` is `2`, that set is `{ not enroll(phil) }`, and when `D` is `thu` and `M` is `2`, that set is `{}`.\n",
    "\n",
    "**Note** also that the condition of the conditional literal may have more literals. To see this, just replace in the previous program the last rule by this one:\n",
    "* `many_courses(D) :- day(D), many(MC), M { enroll(C) : lecture(C,D,P), P >= 3 }.`\n",
    "\n",
    "In this case, we consider the set of literals of the form `enroll(C)` such that, for some `P`, `enroll(C)` and `lecture(C,D,P)` belong to that answer set and `P >= 3`. When `D` is `wed` and `M` is `2`, that set is `{}`, and when `D` is `thu` and `M` is `2`, that set is `{ enroll(asp), enroll(ml) }`.\n",
    "\n",
    "**Note** also that the constraint may have more conditional literals. To see this, just replace in the previous program the last rule by this one:\n",
    "* `many_courses(D) :- day(D), many(M), M { enroll(C) : lecture(C,D,P), P <= 1; enroll(C) : lecture(C,D,P), P >= 4 }.`\n",
    "\n",
    "In this case, we consider the set of literals that are\n",
    "*either* of the form `enroll(C)` and, for some `P`, `enroll(C)` and `lecture(C,D,P)` belong to that answer set and `P <= 1`;\n",
    "*or* of the form `enroll(C)` and, for some `P`, `enroll(C)` and `lecture(C,D,P)` belongs to that answer set and `P >= 4`.\n",
    "When `D` is `wed` and `M` is `2`, that set is `{}`, and when `D` is `thu` and `M` is `2`, that set is also `{}`."
   ]
  },
  {
   "cell_type": "markdown",
   "id": "c502525b-cbdf-4b39-8bd0-4ca3d482cdf3",
   "metadata": {},
   "source": [
    "### Comparison operators\n",
    "\n",
    "We can state different constraints over sets using the comparison operators `<`, `<=`, `>=` and `>`. \n",
    "We can also use the comparison operator `=`, but we will talk about it later.\n",
    "Observe that having no comparison operator, as in the previous examples, is the same as having the operator `<=`.\n",
    "Let's see an example with two cardinality constraints represented in different but equivalent ways:"
   ]
  },
  {
   "cell_type": "code",
   "execution_count": 144,
   "id": "b0186767-1d2b-428f-89ad-94f087c14307",
   "metadata": {},
   "outputs": [
    {
     "name": "stdout",
     "output_type": "stream",
     "text": [
      "many_courses(thu) many_courses(fri) some_courses(fri) some_courses(wed) some_courses(tue)\n",
      "SATISFIABLE\n"
     ]
    }
   ],
   "source": [
    "%%clingo - -V0 facts.lp enroll.lp basic.lp -c m=2\n",
    "\n",
    "% by many we mean m\n",
    "many(m).\n",
    "\n",
    "% uncommenting any of the rules below we obtain the same result\n",
    "% all cardinality constraints express the same constraint over the same set\n",
    "% on day D we are enrolled to lectures of many courses \n",
    "many_courses(D) :- day(D), many(M), M { enroll(C) : lecture(C,D,P) }.\n",
    "% many_courses(D) :- day(D), many(M), M <= { enroll(C) : lecture(C,D,P) }.\n",
    "% many_courses(D) :- day(D), many(M), { enroll(C) : lecture(C,D,P) } >= M.\n",
    "% many_courses(D) :- day(D), many(M), { enroll(C) : lecture(C,D,P) } >  M.\n",
    "\n",
    "% uncommenting any of the rules below we obtain the same result\n",
    "% all cardinality constraints express the same constraint over the same set\n",
    "% on day D we are enrolled to lectures of between 1 and 2 courses\n",
    "some_courses(D) :- day(D), 1 { enroll(C) : lecture(C,D,P) } 2.\n",
    "% some_courses(D) :- day(D), 1 <= { enroll(C) : lecture(C,D,P) } 2.\n",
    "% some_courses(D) :- day(D), 1 <= { enroll(C) : lecture(C,D,P) } <= 2.\n",
    "% some_courses(D) :- day(D), 1 <= { enroll(C) : lecture(C,D,P) } <  3.\n",
    "% some_courses(D) :- day(D), 3 >  { enroll(C) : lecture(C,D,P) } >  0.\n",
    "\n",
    "#show many_courses/1.\n",
    "#show some_courses/1."
   ]
  },
  {
   "cell_type": "markdown",
   "id": "18b553f5-75d5-4433-ac7a-cd588a535321",
   "metadata": {},
   "source": [
    "We can read the first rule for `some_courses(D)` as follows:\n",
    "* For every `D`, if `day(D)` is in an answer set:\n",
    "  * Consider the set of literals of the form `enroll(C)` such that ...\n",
    "  * ... for some `P`, `enroll(C)` and `lecture(C,D,P)` belong to that answer set.\n",
    "  * If the cardinality of that set is between `1` and `2`, then `some_courses(D)` must be in that answer set."
   ]
  },
  {
   "cell_type": "markdown",
   "id": "5dcd6199-d389-4346-a33c-f2c09cf581aa",
   "metadata": {},
   "source": [
    "### Swapping the elements of a conditional literal\n",
    "\n",
    "The previous program was telling us what days do we have many different courses.\n",
    "In this way, if we had two lectures of the same course on the same day, we were counting them only once.\n",
    "To see this, you can add the fact `lecture(ml,wed,1).` to the previous program and see that we still obtain that \n",
    "on `wed`nesdays there are not many courses.\n",
    "\n",
    "Now we would like to know what days do we have many different *lectures*, \n",
    "so that if we have two lectures of the same course on the same day, \n",
    "they are counted twice.\n",
    "We can do this with this program, simply swapping the elements of the conditional literal:"
   ]
  },
  {
   "cell_type": "code",
   "execution_count": 117,
   "id": "0be574a8-170b-460b-b8d9-3460ba1c401c",
   "metadata": {},
   "outputs": [
    {
     "name": "stdout",
     "output_type": "stream",
     "text": [
      "many_lectures(thu) many_lectures(fri) many_lectures(wed)\n",
      "SATISFIABLE\n"
     ]
    }
   ],
   "source": [
    "%%clingo - -V0 facts.lp enroll.lp basic.lp -c m=2\n",
    "\n",
    "% by many we mean at least m\n",
    "many(m).\n",
    "\n",
    "% on day D we are enrolled to many lectures of many courses \n",
    "many_lectures(D) :- day(D), many(M), M { lecture(C,D,P) : enroll(C) }.\n",
    "\n",
    "% we add the lecture of ml on wednesdays\n",
    "lecture(ml,wed,1).\n",
    "\n",
    "#show many_lectures/1."
   ]
  },
  {
   "cell_type": "markdown",
   "id": "31e97500-c37e-4c38-a1db-9a8222fad02c",
   "metadata": {},
   "source": [
    "The rule with the cardinality constraint says: \n",
    "* For every `D` and `M`, if `day(D)` and `many(M)` are in an answer set:\n",
    "  * Consider the set of literals of the form `lecture(C,D,P)` such that ...\n",
    "  * ... for some `P`, `lecture(C,D,P)` and `enroll(C)` belong to that answer set.\n",
    "  * If the cardinality of that set is greater or equal than `M`, then `many_lectures(D)` must be in that answer set.\n",
    "  \n",
    "The only change is that now we do not count the number of literals of the form `enroll(C)`, but the number of literals of the form `lecture(C,D,P)`. Then, for example, when day `D` is `wed` and `M` is `2`, the set to consider is `{ lecture(ml,wed,1), lecture(ml,wed,2) }`, of cardinality greater or equal than `M`, and `many_lectures(wed)` is added to the answer set."
   ]
  },
  {
   "cell_type": "markdown",
   "id": "acc5d692-068c-459a-b66e-48a877a8f8a7",
   "metadata": {},
   "source": [
    "### Local and global variables\n",
    "\n",
    "In the previous examples, \n",
    "the variables `C` and `P` are local to the corresponding conditional literals, \n",
    "because they *only* occur inside the cardinality constraint. \n",
    "On the other hand, the variables `D` and `M` are global, because they do not occur *only* inside the cardinality constraint.\n",
    "\n",
    "Inside a conditional literal, we can freely rename the local variables, but not the global ones. \n",
    "For example, in the next program, there is no difference between the first rule for `many_lectures` and the second, while the third is different. \n",
    "See the different results commenting and uncommenting the rules:"
   ]
  },
  {
   "cell_type": "code",
   "execution_count": 118,
   "id": "d2ae173e-650b-46c2-8aa6-f52c52ad49e7",
   "metadata": {},
   "outputs": [
    {
     "name": "stdout",
     "output_type": "stream",
     "text": [
      "extreme(mon)\n",
      "SATISFIABLE\n"
     ]
    }
   ],
   "source": [
    "%%clingo - -V0 -c m=2\n",
    "\n",
    "% facts\n",
    "day(mon;tue;wed;thu;fri). \n",
    "many(m). \n",
    "enroll(asp). lecture(asp,mon,1).\n",
    "enroll(ml).  lecture(ml,mon,1). lecture(ml,mon,4).\n",
    "\n",
    "% C and P are local to the first conditional literal, and to the second as well\n",
    "extreme(D) :- day(D), many(M), M { enroll(C) : lecture(C,D,P), P <= 1 ; \n",
    "                                   enroll(C) : lecture(C,D,P), P >= 4 }.\n",
    "\n",
    "% CC and PP are local to the first conditional literal; CC and PP are local to the second\n",
    "% extreme(D) :- day(D), many(M), M { enroll(CC) : lecture(CC,D, PP),  PP <= 1 ; \n",
    "%                                    enroll(CC) : lecture(CC,D,PPP), PPP >= 4 }.\n",
    "\n",
    "% C, DD and P are local to the first conditional literal; C and P are also local to the second\n",
    "% extreme(D) :- day(D), many(M), M { enroll(C) : lecture(C,DD,P), P <= 1 ;  \n",
    "%                                    enroll(C) : lecture(C, D,P), P >= 4 }.\n",
    "\n",
    "#show extreme/1."
   ]
  },
  {
   "cell_type": "markdown",
   "id": "2c4ad024-f8e7-4a68-b401-bfbaddd5b9c3",
   "metadata": {},
   "source": [
    "The second rule modifies the first rule by renaming the *local* variables `C` and `P` of the conditional literals.\n",
    "Given that those variables are local, the answer sets using the second rule remain the same as using the first one.\n",
    "Note also how, in the second rule, \n",
    "the `CC` of the first conditional literal is independent of the `CC` of the second one, \n",
    "just as `PP` is independent of `PPP`.\n",
    "\n",
    "The third rule modifies the first rule by renaming the *global* variable `D` *only* inside the first conditional literal.\n",
    "Given that `D` is global, the answer sets using the third rule may change, and indeed they change in the previous program.\n",
    "On the other hand, if we also replace in the third rule the other three occurrences of `D` by `DD`, \n",
    "then we have the same answer sets as with the first rule."
   ]
  },
  {
   "cell_type": "markdown",
   "id": "c16959cf-9c6b-44db-b737-8adffc545abe",
   "metadata": {},
   "source": [
    "### Safety"
   ]
  },
  {
   "cell_type": "markdown",
   "id": "f2379841-8103-4a8b-9da9-7736e8cdd626",
   "metadata": {},
   "source": [
    "We have to update our definition of safety to handle global and local variables.\n",
    "We say that a rule with cardinality constraints is safe if:\n",
    "* every global variable occurring in the rule occurs in some *positive literal* in its body, and\n",
    "* every variable local to some conditional literal occurs in some *positive literal* of that conditional literal.\n",
    "\n",
    "You can see how this works looking at the following program and the errors reported by `clingo` below:"
   ]
  },
  {
   "cell_type": "code",
   "execution_count": 119,
   "id": "c34bc48c-c0b1-479a-ac73-ef84720d9f86",
   "metadata": {},
   "outputs": [
    {
     "name": "stdout",
     "output_type": "stream",
     "text": [
      "UNKNOWN\n"
     ]
    },
    {
     "name": "stderr",
     "output_type": "stream",
     "text": [
      "-:12:1-13:77: error: unsafe variables in:\n",
      "  extreme(D):-[#inc_base];many(M);M<=#count{0,enroll(C):lecture(C,D,P),P<=1,enroll(C);0,enroll(C):lecture(C,D,P),P>=4,enroll(C)};not day(D).\n",
      "-:12:9-10: note: 'D' is unsafe\n",
      "\n",
      "-:17:32-18:76: error: unsafe variables in:\n",
      "  M<=#count{0,enroll(C):lecture(C,D,P),P<=1,enroll(C);0,enroll(C):not lecture(C,D,P),P>=4,enroll(C)}\n",
      "-:18:64-65: note: 'P' is unsafe\n",
      "\n",
      "*** ERROR: (clingo): grounding stopped because of errors\n"
     ]
    }
   ],
   "source": [
    "%%clingo - -V0\n",
    "\n",
    "% safe\n",
    "extreme(D) :- day(D), many(M), M { enroll(C) : lecture(C,D,P), P <= 1 ; \n",
    "                                   enroll(C) : lecture(C,D,P), P >= 4 }.\n",
    "\n",
    "% safe:\n",
    "extreme(D) :- day(D), many(M), M { enroll(C) : lecture(C,D,P), P <= 1 ; \n",
    "                                   not enroll(C) : lecture(C,D,P), P >= 4 }.\n",
    "\n",
    "% unsafe: D is global and \n",
    "%         does not occur in any positive literal in the body\n",
    "extreme(D) :- not day(D), many(M), M { enroll(C) : lecture(C,D,P), P <= 1 ; \n",
    "                                       enroll(C) : lecture(C,D,P), P >= 4 }.\n",
    "\n",
    "% unsafe: P is local to the second conditional literal and\n",
    "%         does not occur in a positive literal of that conditional literal\n",
    "extreme(D) :- day(D), many(M), M { enroll(C) : lecture(C,D,P), P <= 1 ; \n",
    "                                   enroll(C) : not lecture(C,D,P), P >= 4 }."
   ]
  },
  {
   "cell_type": "markdown",
   "id": "39f0b72c-233c-45bd-b327-5251695ccb2f",
   "metadata": {
    "tags": []
   },
   "source": [
    "## Count Aggregates"
   ]
  },
  {
   "cell_type": "markdown",
   "id": "b06d942d-6a0b-4141-9921-ef82ba64684f",
   "metadata": {},
   "source": [
    "Count aggregates are similar to cardinality constraints,\n",
    "but consider sets of tuples of terms instead of sets of literals.\n",
    "\n",
    "A tuple of terms is just a list of terms separated by commas.\n",
    "So far, we have seen the following types of terms: integers (`1`), constants (`mon`), and variables (`X`).\n",
    "Some tuples of terms are `1,mon,X` or `2`.\n",
    "\n",
    "For example, the cardinality constraint:\n",
    "* `M { enroll(C) : lecture(C,D,P) }`\n",
    "\n",
    "considers \n",
    "* the set of *literals* of the form `enroll(C) ` such that `enroll(C)` and `lecture(C,D,P)` belong to a given answer answer set,\n",
    "\n",
    "and expresses the constraint that the cardinality of that set must be at least `M`. \n",
    "The cardinality constraint can be replaced by the following count aggregate:\n",
    "* `M #count { C : enroll(C), lecture(C,D,P) }`\n",
    "\n",
    "that considers: \n",
    "* the set of *tuples* of the form `C` such that `enroll(C)` and `lecture(C,D,P)` belong to a given answer set.\n",
    "\n",
    "and also expresses the constraint that the cardinality of that set must be at least `M`. \n",
    "\n",
    "The part `C : enroll(C), lecture(C,D,P)` is called *aggregate element*. \n",
    "It is composed of the tuple of terms `C` and the condition `enroll(C), lecture(C,D,P)`.\n",
    "An aggregate may have one or more aggregate elements.\n",
    "\n",
    "Let's see this in action:"
   ]
  },
  {
   "cell_type": "code",
   "execution_count": 125,
   "id": "c2a44453-89ab-454d-8a97-714e5caaa728",
   "metadata": {},
   "outputs": [
    {
     "name": "stdout",
     "output_type": "stream",
     "text": [
      "many_courses(thu) many_courses(fri)\n",
      "SATISFIABLE\n"
     ]
    }
   ],
   "source": [
    "%%clingo - -V0 facts.lp enroll.lp basic.lp -c m=2\n",
    "\n",
    "% by many we mean at least m\n",
    "many(m).\n",
    "\n",
    "% uncommenting any of the rules below we obtain the same result\n",
    "% on day D we are enrolled to lectures of many courses \n",
    "many_courses(D) :- day(D), many(M), M { enroll(C) : lecture(C,D,P) }.\n",
    "% many_courses(D) :- day(D), many(M), M #count { C : enroll(C), lecture(C,D,P) }. \n",
    "\n",
    "#show many_courses/1."
   ]
  },
  {
   "cell_type": "markdown",
   "id": "558c178e-ef02-423f-878e-821ddfbf9182",
   "metadata": {},
   "source": [
    "When day `D` is `wed` and `M` is `2`, \n",
    "the set of literals considered by the cardinality constraint is `{ enroll(ml) }`, \n",
    "while the set of tuples considered by the count aggregate is `{ ml }`.\n",
    "The constraints expressed over those sets do not hold because their cardinality is smaller than `MC`.\n",
    "\n",
    "When day `D` is `thu` and `M` is `2`, the set of literals considered by the cardinality constraint is `{ enroll(asp), enroll(ml)}`, \n",
    "and the set of tuples considered by the count aggregate is `{ asp, ml `}.\n",
    "The constraints expressed over those sets do hold because their cardinality is at least `M`.\n"
   ]
  },
  {
   "cell_type": "markdown",
   "id": "8b045f0d-8394-4725-9d84-c2ae3521147e",
   "metadata": {},
   "source": [
    "Let's see the example about the number of lectures per day:"
   ]
  },
  {
   "cell_type": "code",
   "execution_count": 129,
   "id": "140f5dec-ad34-4b45-9fa8-5ea9cd3e49e1",
   "metadata": {},
   "outputs": [
    {
     "name": "stdout",
     "output_type": "stream",
     "text": [
      "many_lectures(thu) many_lectures(fri) many_lectures(wed)\n",
      "SATISFIABLE\n"
     ]
    }
   ],
   "source": [
    "%%clingo - -V0 facts.lp enroll.lp basic.lp -c m=2\n",
    "\n",
    "% by many we mean at least m\n",
    "many(m).\n",
    "\n",
    "% uncommenting any of the rules below we obtain the same result\n",
    "% on day D we are enrolled to many lectures of many courses \n",
    "many_lectures(D) :- day(D), many(M), M { lecture(C,D,P) : enroll(C) }.\n",
    "% many_lectures(D) :- day(D), many(M), M #count { C,D,P : enroll(C), lecture(C,D,P) }.\n",
    "% many_lectures(D) :- day(D), many(M), M #count { C,P : enroll(C), lecture(C,D,P) }.\n",
    "\n",
    "% we add the lecture of ml on wednesdays\n",
    "lecture(ml,wed,1).\n",
    "\n",
    "#show many_lectures/1."
   ]
  },
  {
   "cell_type": "markdown",
   "id": "3e815801-257a-4e9f-b5c5-c38662720cd9",
   "metadata": {},
   "source": [
    "When day `D` is `wed` and `M` is `2`, the set of literals considered by the cardinality constraint is `{ lecture(ml,wed,1), lecture(ml,wed,2) }`, \n",
    "while the set of tuples considered by the first aggregate is `{ ml,wed,1; ml,wed,2 }` (here we use `;` to separate the tuples) and \n",
    "the set of tuples considered by the second aggregate is `{ ml,1; ml,2 }`.\n",
    "The constraints expressed over those sets hold because their cardinality is at least `M`.\n",
    "\n",
    "Given that `D` is a global variable, we can replace the tuple `C,D,P` in the first aggregate \n",
    "by `C,P` in the second aggregate, and the constraint expressed by the aggregate does not change.\n",
    "In fact, it does not make sense to use global variables in the tuples of aggregate elements, \n",
    "and `clingo` informs us about this usage in the first aggregate.\n",
    "\n",
    "Observe that we can express different constraints using different tuples and the same condition.\n",
    "For example, assuming that `D` and `M` are global variables:\n",
    "* `M #count { C : enroll(C), lecture(C,D,P) }` expresses a constraint over the *courses* `C` to which we have enrolled in day `D`;\n",
    "* `M #count { C,P : enroll(C), lecture(C,D,P) }` expresses a constraint over the pairs `C,P` of courses `C` and periods `P` \n",
    "   (that define a *lecture*) to which we have enrolled in day `D`; and\n",
    "* `M #count { P : enroll(C), lecture(C,D,P) }` expresses a constraint over the *periods* `P` when there is some course \n",
    "  to which we have enrolled in day `D`. \n",
    "  \n",
    "  "
   ]
  },
  {
   "cell_type": "markdown",
   "id": "e4366b87-f5f9-42d9-98a4-4a7fcf44eb10",
   "metadata": {},
   "source": [
    "Let's see another example, this time about conflicting lectures:"
   ]
  },
  {
   "cell_type": "code",
   "execution_count": 131,
   "id": "d8db8980-0b8b-4b77-8dfd-b25eaad2731a",
   "metadata": {},
   "outputs": [
    {
     "name": "stdout",
     "output_type": "stream",
     "text": [
      "many_conflicts(lectures) many_conflicts(courses)\n",
      "SATISFIABLE\n"
     ]
    }
   ],
   "source": [
    "%%clingo - -V0 facts.lp enroll.lp basic.lp -c m=2\n",
    "\n",
    "% by many we mean m\n",
    "many(m).\n",
    "\n",
    "% there is a conflict on day D at period P\n",
    "conflict(D,P) :- enroll(C1), lecture(C1,D,P), \n",
    "                 enroll(C2), lecture(C2,D,P), C1 < C2.\n",
    "    \n",
    "% there are conflicts on many courses, days, slots or lectures \n",
    "many_conflicts( courses) :- many(M), M #count {     C : conflict(D,P), lecture(C,D,P) }.\n",
    "many_conflicts(    days) :- many(M), M #count {     D : conflict(D,P), lecture(C,D,P) }.\n",
    "many_conflicts(   slots) :- many(M), M #count {   D,P : conflict(D,P), lecture(C,D,P) }.\n",
    "many_conflicts(lectures) :- many(M), M #count { C,D,P : conflict(D,P), lecture(C,D,P) }.\n",
    "\n",
    "#show many_conflicts/1."
   ]
  },
  {
   "cell_type": "markdown",
   "id": "ab75baf9-0ee8-4354-b101-0e20da11d8f9",
   "metadata": {},
   "source": [
    "Local variables, global variables and safety are defined similarly as for cardinality constraints. \n",
    "Next, you can see the previous example of safety, now  with count aggregates:"
   ]
  },
  {
   "cell_type": "code",
   "execution_count": 133,
   "id": "12fb1f76-9dc6-4eeb-ba8a-c04a08745c4b",
   "metadata": {},
   "outputs": [
    {
     "name": "stdout",
     "output_type": "stream",
     "text": [
      "UNKNOWN\n"
     ]
    },
    {
     "name": "stderr",
     "output_type": "stream",
     "text": [
      "-:12:1-13:87: error: unsafe variables in:\n",
      "  extreme(D):-[#inc_base];many(M);M<=#count{C:enroll(C),lecture(C,D,P),P<=1;C:enroll(C),lecture(C,D,P),P>=4};not day(D).\n",
      "-:12:9-10: note: 'D' is unsafe\n",
      "\n",
      "-:17:32-18:86: error: unsafe variables in:\n",
      "  M<=#count{C:enroll(C),lecture(C,D,P),P<=1;C:enroll(C),not lecture(C,D,P),P>=4}\n",
      "-:18:74-75: note: 'P' is unsafe\n",
      "\n",
      "*** ERROR: (clingo): grounding stopped because of errors\n"
     ]
    }
   ],
   "source": [
    "%%clingo - -V0\n",
    "\n",
    "% safe\n",
    "extreme(D) :- day(D), many(M), M #count { C : enroll(C), lecture(C,D,P), P <= 1 ; \n",
    "                                          C : enroll(C), lecture(C,D,P), P >= 4 }.\n",
    "\n",
    "% safe:\n",
    "extreme(D) :- day(D), many(M), M #count { C : enroll(C), lecture(C,D,P), P <= 1 ; \n",
    "                                          C : not enroll(C), lecture(C,D,P), P >= 4 }.\n",
    "\n",
    "% unsafe: D is global and \n",
    "%         does not occur in any positive literal in the body\n",
    "extreme(D) :- not day(D), many(M), M #count { C : enroll(C), lecture(C,D,P), P <= 1 ; \n",
    "                                              C : enroll(C), lecture(C,D,P), P >= 4 }.\n",
    "\n",
    "% unsafe: P is local to the second conditional literal and\n",
    "%         does not occur in a positive literal of that conditional literal\n",
    "extreme(D) :- day(D), many(M), M #count { C : enroll(C), lecture(C,D,P), P <= 1 ; \n",
    "                                          C : enroll(C), not lecture(C,D,P), P >= 4 }."
   ]
  },
  {
   "cell_type": "markdown",
   "id": "02e67a69-9515-413d-b288-ab182049f5b8",
   "metadata": {
    "jp-MarkdownHeadingCollapsed": true,
    "tags": []
   },
   "source": [
    "## Sum Aggregates"
   ]
  },
  {
   "cell_type": "code",
   "execution_count": null,
   "id": "d3c47039-3fbf-4648-8d88-a1aaed97836f",
   "metadata": {},
   "outputs": [],
   "source": [
    "%%file sum_aggregates_1.lp\n",
    "many(D) :- day(D), number(N), N { enroll(C) : lecture(C,D,P) }.\n",
    "many(D) :- day(D), number(N), N #count { C : enroll(C), lecture(C,D,P) }.\n",
    "many(D) :- day(D), number(N), N #sum { 1,C : enroll(C), lecture(C,D,P) }.\n",
    "\n",
    "many(D) :- day(D), number(N), N { lecture(C,D,P) : enroll(C) }.\n",
    "many(D) :- day(D), number(N), N #count { C,D,P : enroll(C), lecture(C,D,P) }.\n",
    "many(D) :- day(D), number(N), N #sum { 1,C,D,P : enroll(C), lecture(C,D,P) }."
   ]
  },
  {
   "cell_type": "code",
   "execution_count": null,
   "id": "f9ba691d-9c72-4279-a1a0-3d88118f05e5",
   "metadata": {},
   "outputs": [],
   "source": [
    "%%file sum_aggregates_2.lp\n",
    "credits(C,Cr). ...\n",
    "credits_range(25,35).\n",
    "in_limits :- limit(M,N), M { Cr,C : enroll(C), credits(C,Cr) }.\n",
    "                           % Cr   : enroll(C), credits(C,Cr) } ?\n",
    "                           %    C : enroll(C), credits(C,Cr) } ?    "
   ]
  },
  {
   "cell_type": "code",
   "execution_count": null,
   "id": "251252c5-67cf-4931-a39b-d4a1a5b91854",
   "metadata": {},
   "outputs": [],
   "source": [
    "%%file sum_aggregates_3.lp\n",
    "good_limit(30).\n",
    "good :- good_limit(N), \n",
    "        N #sum { 5,D,P : enroll(C), lecture(C,D,P), early(C,D) ;\n",
    "                 2,D,P : enroll(C), lecture(C,D,P), late(C,D)  ;\n",
    "                -2,D,P : enroll(C1), lecture(C1,D,P1), \n",
    "                         enroll(C2), lecture(C2,D,P1+1),       ;\n",
    "                -5,D   : free_day(D)                           }. % multiply by credits credits(C,Cr) [arithmetics]\n",
    "\n",
    "busy_day(D) :- day(D), enroll(C), lecture(C,D,P).\n",
    "free_day(D) :- day(D), not busy_day(D)."
   ]
  },
  {
   "cell_type": "markdown",
   "id": "c41014c6-2f0d-4fb4-b161-f07fc14655cb",
   "metadata": {},
   "source": [
    "* Safety"
   ]
  },
  {
   "cell_type": "markdown",
   "id": "c06c56ac-37ad-4bda-b319-41fb7e4fbe0c",
   "metadata": {
    "jp-MarkdownHeadingCollapsed": true,
    "tags": []
   },
   "source": [
    "## Conditional literals"
   ]
  },
  {
   "cell_type": "code",
   "execution_count": null,
   "id": "4fa905b2-3aba-4782-a357-ad9690ca11a2",
   "metadata": {},
   "outputs": [],
   "source": [
    "%%file conditional_literals_1.lp\n",
    "\n",
    " free_day(D) :- day(D), not enroll(C) : lecture(C,D,P).     \n",
    "free_late(D) :- day(D), not enroll(C) : lecture(C,D,P), P >= 2.     \n",
    "\n",
    "full_slot(D,P) :- day(D), period(P), enroll(C), lecture(C,D,P).\n",
    "full_day(D) :- day(D), full_slot(D,P) : period(P).\n",
    "full_week :- full_day(D) : day(D).           \n",
    "        \n",
    "full_week :- 0 #sum { -1,D : day(D)              ;\n",
    "                       1,D : day(D), full_day(D) } 0.\n",
    "\n",
    "free_day(D) :- day(D), 0 #sum { -1,C,D,P : lecture(C,D,P)                ;\n",
    "                                 1,C,D,P : lecture(C,D,P), not enroll(C) }.\n",
    "\n",
    "% unsafe\n",
    "% full_week :- full_day(D) : not day(D).    \n",
    "% because unsafe\n",
    "% full_week :- 0 #sum { -1,D : not day(D)              ;\n",
    "%                        1,D : full_day(D), day(D) } 0.\n"
   ]
  },
  {
   "cell_type": "markdown",
   "id": "12336056-cd5c-4634-bb7e-77ab69db2c2f",
   "metadata": {
    "jp-MarkdownHeadingCollapsed": true,
    "tags": []
   },
   "source": [
    "## Recursion"
   ]
  },
  {
   "cell_type": "code",
   "execution_count": null,
   "id": "7e5ecb47-c3b0-416e-8521-a638eb388c3a",
   "metadata": {},
   "outputs": [],
   "source": [
    "%%file recursion_1.lp\n",
    "course(C).\n",
    "module(M).\n",
    "depends(M,C).\n",
    "\n",
    "idepends(M,X) :- depends(M,X).\n",
    "idepends(M,X) :- idepends(M,Y), idepends(Y,X).\n",
    "\n",
    "passed(M) :- module(M), 2 { passed(X) : depends(M,X) }.\n",
    "\n",
    "passed(M) :- module(M), passed(X) : depends(M,X).\n",
    "passed(M) :- module(M), 0 #sum { -1,M,X : depends(M,X);\n",
    "                                  1,M,X : depends(M,X), passed(X) }."
   ]
  },
  {
   "cell_type": "code",
   "execution_count": null,
   "id": "7e049404-8174-443a-9a82-a97ff557c4ed",
   "metadata": {},
   "outputs": [],
   "source": [
    "%%file recursion_2.lp\n",
    "\n",
    "a :- not b. \n",
    "b :- not a.\n",
    "\n",
    "a :- { b } 0.\n",
    "b :- { a } 0.\n",
    "% Easy ASP: in recursive aggregates there are no upper bounds\n",
    "\n",
    "a :- 0 #sum { -1 : b }.\n",
    "b :- 0 #sum { -1 : a }.\n",
    "% Easy ASP: in recursive aggregates the recursive predicates have positive weight\n",
    "\n",
    "% Easy ASP: if the body holds, it will also hold if more atoms of the recursive predicates hold\n",
    "\n",
    "% Observe conditional literals: Easy if only recursion is in the left literal and it is an atom...\n"
   ]
  },
  {
   "cell_type": "markdown",
   "id": "5350e0b3-2072-4260-88a6-2b3da4c6ab2f",
   "metadata": {
    "jp-MarkdownHeadingCollapsed": true,
    "tags": []
   },
   "source": [
    "## Optimization"
   ]
  },
  {
   "cell_type": "code",
   "execution_count": null,
   "id": "5b0eb35b-e2b6-4de2-8409-89f0f7c72fc3",
   "metadata": {},
   "outputs": [],
   "source": [
    "%%file optimization.lp\n",
    "good :- good_limit(N), \n",
    "        N #sum { 5,D,P : enroll(C), lecture(C,D,P), early(C,D)   ;\n",
    "                 2,D,P : enroll(C), lecture(C,D,P), late(C,D)    ;\n",
    "                -2,D,P : enroll(C1), lecture(C1,D,P1), \n",
    "                         enroll(C2), lecture(C2,D,P2), P2 = P+1  ;\n",
    "                -5,D   : free_day(D)                             }.\n",
    "\n",
    "#minimize { 5,D,P : enroll(C), lecture(C,D,P), early(C,D)   ;\n",
    "            2,D,P : enroll(C), lecture(C,D,P), late(C,D)    ;\n",
    "           -2,D,P : enroll(C1), lecture(C1,D,P1), \n",
    "                    enroll(C2), lecture(C2,D,P2), P2 = P+1  ;\n",
    "           -5,D   : free_day(D)                             }.\n",
    "\n",
    "#maximize { -5,D,P : enroll(C), lecture(C,D,P), early(C,D)   ;\n",
    "            -2,D,P : enroll(C), lecture(C,D,P), late(C,D)    ;\n",
    "             2,D,P : enroll(C1), lecture(C1,D,P1), \n",
    "                    enroll(C2), lecture(C2,D,P2), P2 = P+1  ;\n",
    "             5,D   : free_day(D)                             }.\n",
    "\n",
    "% one minimize per line\n",
    "\n",
    "% maximizes\n",
    "\n",
    "% one weak constraint per line\n",
    "                \n",
    "% priorities"
   ]
  }
 ],
 "metadata": {
  "kernelspec": {
   "display_name": "Python 3 (ipykernel)",
   "language": "python",
   "name": "python3"
  },
  "language_info": {
   "codemirror_mode": {
    "name": "ipython",
    "version": 3
   },
   "file_extension": ".py",
   "mimetype": "text/x-python",
   "name": "python",
   "nbconvert_exporter": "python",
   "pygments_lexer": "ipython3",
   "version": "3.9.7"
  }
 },
 "nbformat": 4,
 "nbformat_minor": 5
}
