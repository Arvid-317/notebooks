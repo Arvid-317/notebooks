{
 "cells": [
  {
   "cell_type": "markdown",
   "id": "8b176228-a226-497d-a990-274c9a7b9d4c",
   "metadata": {},
   "source": [
    "# Language\n",
    "This notebook contains the examples of the Language part of the tutorial *Easy answer set programming*."
   ]
  },
  {
   "cell_type": "code",
   "execution_count": 34,
   "id": "5bbe9fa4-b83e-49b0-b091-834d3f2e880f",
   "metadata": {
    "collapsed": true,
    "jupyter": {
     "outputs_hidden": true,
     "source_hidden": true
    },
    "tags": []
   },
   "outputs": [
    {
     "name": "stdout",
     "output_type": "stream",
     "text": [
      "Created `%%clingo` as an alias for `%%script clingo --no-raise-error`.\n"
     ]
    }
   ],
   "source": [
    "%alias_magic clingo script -p \"clingo --no-raise-error\""
   ]
  },
  {
   "cell_type": "markdown",
   "id": "3e769924-af0c-49a2-b37f-f335ddaa8b89",
   "metadata": {},
   "source": [
    "## A note on Easy Answer Set Programming"
   ]
  },
  {
   "cell_type": "markdown",
   "id": "a781edcb-9318-4a88-9cdc-8414fa4ea6f7",
   "metadata": {},
   "source": [
    "To make things easy, for most of this tutorial we are only going to write non-recursive programs.\n",
    "\n",
    "A program is non-recursive if we can write its rules in order, \n",
    "and we say that the rules are written in order if \n",
    "the predicates that occur in the body of any rule `r` do not occur in the head of any rule that is written after `r`.\n",
    "\n",
    "The answer sets of a non-recursive program are very easy to define:\n",
    "they are the result of applying the rules in order.\n",
    "\n",
    "Following the approach of Easy Answer Set Programming, \n",
    "we will always write the rules in order.\n",
    "In this way, the answer sets of a logic program are simply the result of applying the rules in the order in which they are written.\n",
    "\n",
    "We will also see some examples of non-recursive programs, but that will be in the last part of the tutorial."
   ]
  },
  {
   "cell_type": "markdown",
   "id": "cc81fe6b-da88-4218-84dc-593bb96da6b2",
   "metadata": {
    "tags": []
   },
   "source": [
    "# The Student Course Timetabling Problem"
   ]
  },
  {
   "cell_type": "markdown",
   "id": "60c9f803-7565-4b4f-8ccf-dc2f874e52a9",
   "metadata": {},
   "source": [
    "Imagine that you are a student and you have to choose your courses for the next semester: \n",
    "this is the Student Course Timetabling Problem!\n",
    "\n",
    "We will use this problem to illustrate different aspects of the language of (Easy) Answer Set Programming.\n",
    "\n",
    "And of course, at the end we will put all together and write a logic program to solve the problem :)"
   ]
  },
  {
   "cell_type": "markdown",
   "id": "b767f831-4e80-41cc-a8c9-572c29b7d02d",
   "metadata": {
    "tags": []
   },
   "source": [
    "## Facts "
   ]
  },
  {
   "cell_type": "markdown",
   "id": "1c3a2dc7-0379-4b7a-aaba-9f9c03be76ff",
   "metadata": {},
   "source": [
    "To begin with, we write down some facts representing the information about the available courses:\n",
    "* Every course has a given number of credits.\n",
    "* Each lecture of every course takes place at some time period of some day.\n",
    "\n",
    "We assume that every day is divided into some time periods of a fixed time length."
   ]
  },
  {
   "cell_type": "code",
   "execution_count": 96,
   "id": "15777a79-d2b6-4224-b35b-83a5477e402d",
   "metadata": {},
   "outputs": [
    {
     "name": "stdout",
     "output_type": "stream",
     "text": [
      "Overwriting facts.lp\n"
     ]
    }
   ],
   "source": [
    "%%file facts.lp\n",
    "\n",
    "% credits(C,Cr): the course C has Cr credits\n",
    "credits( asp,9).\n",
    "credits(  ml,9).\n",
    "credits(ling,6).\n",
    "credits(phil,9).\n",
    "% ...\n",
    "\n",
    "% lecture(C,D,P): the course C has a lecture the day D at period D\n",
    "lecture(asp,thu,3). lecture(asp,fri,3).\n",
    "lecture(ml,wed,2). lecture(ml,thu,3). lecture(ml,fri,4).\n",
    "lecture(ling,tue,1). lecture(ling,thu,2). \n",
    "lecture(phil,tue,3). lecture(phil,wed,4).\n",
    "% ..."
   ]
  },
  {
   "cell_type": "markdown",
   "id": "09fd5031-48dc-4a54-84c3-98f1bec14126",
   "metadata": {},
   "source": [
    "We write the comments `% ...` to indicate that in the real-world we would have more facts like the ones over the comments."
   ]
  },
  {
   "cell_type": "markdown",
   "id": "434a680e-ea47-4eda-98a5-4f317880d70e",
   "metadata": {},
   "source": [
    "This program has a unique answer set that contains all the atoms occurring in those facts. \n",
    "We can compute it with `clingo` as follows. We use option `-V0` to print a short output."
   ]
  },
  {
   "cell_type": "code",
   "execution_count": 149,
   "id": "2870a920-3918-412b-bee8-0c8535d38ed4",
   "metadata": {
    "tags": []
   },
   "outputs": [
    {
     "name": "stdout",
     "output_type": "stream",
     "text": [
      "credits(asp,9) credits(ml,9) credits(ling,6) credits(phil,9) lecture(asp,thu,3) lecture(asp,fri,3) lecture(ml,wed,2) lecture(ml,thu,3) lecture(ml,fri,4) lecture(ling,tue,1) lecture(ling,thu,2) lecture(phil,tue,3) lecture(phil,wed,4)\n",
      "SATISFIABLE\n"
     ]
    }
   ],
   "source": [
    "!clingo facts.lp -V0"
   ]
  },
  {
   "cell_type": "markdown",
   "id": "1baef97f-371a-43fd-90e7-72f7a644d432",
   "metadata": {},
   "source": [
    "Before we try to solve the real problem, we add ourselves a possible choice of courses."
   ]
  },
  {
   "cell_type": "code",
   "execution_count": 92,
   "id": "14faa106-2893-41af-a05e-a6d47ce48590",
   "metadata": {},
   "outputs": [
    {
     "name": "stdout",
     "output_type": "stream",
     "text": [
      "Overwriting enroll.lp\n"
     ]
    }
   ],
   "source": [
    "%%file enroll.lp\n",
    "\n",
    "% enroll(C): I enroll in course C\n",
    "enroll(asp). enroll(ml). enroll(ling). \n",
    "% ..."
   ]
  },
  {
   "cell_type": "markdown",
   "id": "3d9ec66e-b5ac-4cc8-9d53-fe9d5d86e89e",
   "metadata": {},
   "source": [
    "In the cells below we will add further rules to define properties of this enrollment.\n",
    "\n",
    "In the end, we will replace these facts about `enroll` by some choice rules, to let `clingo` choose the right selection of courses."
   ]
  },
  {
   "cell_type": "markdown",
   "id": "e9ccb254-8b18-4074-bfb6-1f0d043ae74e",
   "metadata": {
    "tags": []
   },
   "source": [
    "## Variables"
   ]
  },
  {
   "cell_type": "markdown",
   "id": "cbf2a825-3e1f-44a9-b6e8-8f4f03e6445b",
   "metadata": {},
   "source": [
    "We define some basic concepts of the problem using rules with variables. They will be useful later when we write further rules.\n",
    "\n",
    "We begin defining a `course`, a `day`, a `period`, and a time `slot`. \n",
    "\n",
    "For example, the first rule says that for every `C`, `D` an `P`, if `lecture(C,D,P)` is in an answer set, then `course(C)` must also be in that answer set. "
   ]
  },
  {
   "cell_type": "code",
   "execution_count": 169,
   "id": "15a515df-ce3d-4ba3-8ea5-44b8217aacb1",
   "metadata": {},
   "outputs": [
    {
     "name": "stdout",
     "output_type": "stream",
     "text": [
      "Writing basic_1.lp\n"
     ]
    }
   ],
   "source": [
    "%%file basic_1.lp\n",
    "\n",
    "course(C) :- lecture(C,D,P).\n",
    "   day(D) :- lecture(C,D,P).\n",
    "period(P) :- lecture(C,D,P).\n",
    "slot(D,P) :- lecture(C,D,P)."
   ]
  },
  {
   "cell_type": "markdown",
   "id": "13db1258-7a67-47f9-a9b9-9b344277a010",
   "metadata": {},
   "source": [
    "We next define the days where there is some lecture according to our enrollment.\n",
    "\n",
    "The next rule says that for every `C`, `D` and `P`, if `enroll(C)` and `lecture(C,D,P)` are in an answer set, then `some_lecture(D)` must also be in that answer set. "
   ]
  },
  {
   "cell_type": "code",
   "execution_count": 179,
   "id": "d691fbdc-9aca-4cc5-a6b5-b697f0dd475a",
   "metadata": {},
   "outputs": [
    {
     "name": "stdout",
     "output_type": "stream",
     "text": [
      "Overwriting basic_2.lp\n"
     ]
    }
   ],
   "source": [
    "%%file basic_2.lp \n",
    "\n",
    "% I am enrolled to some lecture on day D\n",
    "some_lecture(D) :- enroll(C), lecture(C,D,P)."
   ]
  },
  {
   "cell_type": "markdown",
   "id": "95773148-d27b-4363-bc48-e4f21f2cef5c",
   "metadata": {},
   "source": [
    "We run `clingo`:"
   ]
  },
  {
   "cell_type": "code",
   "execution_count": 171,
   "id": "9bf8d941-3f42-4a79-82b5-f4b9d2715b40",
   "metadata": {},
   "outputs": [
    {
     "name": "stdout",
     "output_type": "stream",
     "text": [
      "lecture(asp,thu,3) lecture(asp,fri,3) lecture(ml,wed,2) lecture(ml,thu,3) lecture(ml,fri,4) lecture(ling,tue,1) lecture(ling,thu,2) lecture(phil,tue,3) lecture(phil,wed,4) enroll(asp) enroll(ml) enroll(ling) some_lecture(thu) some_lecture(fri) some_lecture(wed) some_lecture(tue) course(asp) course(ml) course(ling) course(phil) day(thu) day(fri) day(wed) day(tue) period(3) period(2) period(4) period(1) slot(thu,3) slot(fri,3) slot(wed,2) slot(fri,4) slot(tue,1) slot(thu,2) slot(tue,3) slot(wed,4) credits(asp,9) credits(ml,9) credits(ling,6) credits(phil,9)\n",
      "SATISFIABLE\n"
     ]
    }
   ],
   "source": [
    "!clingo facts.lp enroll.lp basic_1.lp basic_2.lp -V0"
   ]
  },
  {
   "cell_type": "markdown",
   "id": "f4d6f4dd-d8be-40b1-9db0-e4e2cc9e2466",
   "metadata": {},
   "source": [
    "We can tell `clingo` to show only the atoms of predicate `some_lecture` with `1` argument (written `some_lecture/1`)\n",
    "adding the following show statement:"
   ]
  },
  {
   "cell_type": "code",
   "execution_count": 95,
   "id": "11b5fd00-cd42-47f6-8959-9f965f272be9",
   "metadata": {},
   "outputs": [
    {
     "name": "stdout",
     "output_type": "stream",
     "text": [
      "Overwriting show_some_lecture.lp\n"
     ]
    }
   ],
   "source": [
    "%%file show_some_lecture.lp\n",
    "#show some_lecture/1."
   ]
  },
  {
   "cell_type": "code",
   "execution_count": 172,
   "id": "2d5ed543-15e5-4668-a554-e3c770ba9cb6",
   "metadata": {},
   "outputs": [
    {
     "name": "stdout",
     "output_type": "stream",
     "text": [
      "some_lecture(thu) some_lecture(fri) some_lecture(wed) some_lecture(tue)\n",
      "SATISFIABLE\n"
     ]
    }
   ],
   "source": [
    "!clingo facts.lp enroll.lp basic_1.lp basic_2.lp show_some_lecture.lp -V0"
   ]
  },
  {
   "cell_type": "markdown",
   "id": "7c74a3d1-e70f-4a83-b20c-439995914f37",
   "metadata": {
    "tags": []
   },
   "source": [
    "### Safety"
   ]
  },
  {
   "cell_type": "markdown",
   "id": "f3249b6d-ac46-49ab-92ef-fa1c96479e13",
   "metadata": {},
   "source": [
    "A rule is safe if every variable occuring in the rule occurs in some *positive literal* in its body.\n",
    "\n",
    "`clingo` returns an error if it finds an unsafe rule, like in the next example:"
   ]
  },
  {
   "cell_type": "code",
   "execution_count": 154,
   "id": "d8b31e37-8dc3-429c-8d57-947be9db456b",
   "metadata": {
    "tags": []
   },
   "outputs": [
    {
     "name": "stdout",
     "output_type": "stream",
     "text": [
      "clingo version 5.5.1\n",
      "Reading from -\n",
      "UNKNOWN\n",
      "\n",
      "Models       : 0+\n",
      "Calls        : 1\n",
      "Time         : 0.000s (Solving: 0.00s 1st Model: 0.00s Unsat: 0.00s)\n",
      "CPU Time     : 0.000s\n"
     ]
    },
    {
     "name": "stderr",
     "output_type": "stream",
     "text": [
      "-:1:1-11: error: unsafe variables in:\n",
      "  course(C):-[#inc_base].\n",
      "-:1:8-9: note: 'C' is unsafe\n",
      "\n",
      "-:2:1-47: error: unsafe variables in:\n",
      "  some_lecture(DD):-[#inc_base];lecture(C,D,P);enroll(C).\n",
      "-:2:14-16: note: 'DD' is unsafe\n",
      "\n",
      "*** ERROR: (clingo): grounding stopped because of errors\n"
     ]
    }
   ],
   "source": [
    "%%clingo - \n",
    "course(C).\n",
    "some_lecture(DD) :- enroll(C), lecture(C,D,P)."
   ]
  },
  {
   "cell_type": "markdown",
   "id": "81b70132-8d2e-4ec2-ae1a-81b81e9904cb",
   "metadata": {},
   "source": [
    "Observe how `clingo` detects that both rules are unsafe, and tells us what specific variables (`C` and `DD`) make the rule unsafe."
   ]
  },
  {
   "cell_type": "markdown",
   "id": "85a4c06c-e39e-4954-8754-a84e16873c87",
   "metadata": {},
   "source": [
    "Note: A *positive literal* is an atom, a *negative literal* is an atom preceeded by `not`, and\n",
    "a *literal* is a positive literal or a negative literal.\n",
    "In the previous rules we have only seen positive literals."
   ]
  },
  {
   "cell_type": "markdown",
   "id": "01a85063-2bd9-42cf-b986-5fdb89d5de25",
   "metadata": {
    "tags": []
   },
   "source": [
    "## Arithmetics"
   ]
  },
  {
   "cell_type": "markdown",
   "id": "a29aa5df-683a-4cae-b09c-9ffb97a1fd65",
   "metadata": {},
   "source": [
    "In the next example, we want to know how many hours are we supposed to work per week, according to the students' legislation."
   ]
  },
  {
   "cell_type": "code",
   "execution_count": 88,
   "id": "182a0b06-604b-4fb5-a0f7-52951f76b26b",
   "metadata": {},
   "outputs": [
    {
     "name": "stdout",
     "output_type": "stream",
     "text": [
      "hours_per_semester(900) hours_per_week(42)\n",
      "SATISFIABLE\n"
     ]
    }
   ],
   "source": [
    "%%clingo - -V0\n",
    "\n",
    "credits_per_semester(30). % there are 30 credits per semester\n",
    "hours_per_credit(30).     % every credit amounts to 30 hours of work\n",
    "lecture_weeks(15).        % there are 15 lecture weeks per semester\n",
    "exam_weeks(6).            % there are 6 weeks for exams per semester\n",
    "\n",
    "% hours_per_semester(H) : every semester amounts for H hours of work\n",
    "hours_per_semester(Cr * H) :- credits_per_semester(Cr), hours_per_credit(H).\n",
    "\n",
    "% hours_per_week(H): every week of the semester we are supposed to work H hours\n",
    "hours_per_week(H/(L + E)) :- hours_per_semester(H), lecture_weeks(L), exam_weeks(E).\n",
    "\n",
    "#show hours_per_semester/1. \n",
    "#show hours_per_week/1. "
   ]
  },
  {
   "cell_type": "markdown",
   "id": "daeb7752-fab5-4164-91f4-ad90a8d50458",
   "metadata": {},
   "source": [
    "We obtain a total of `900` hours per semester and `42` per week. \n",
    "\n",
    "Note that the symbol `/` stands for integer division. \n",
    "Other arithmetic operators available in `clingo` are\n",
    "substraction (`-`),\n",
    "modulo (`\\`),\n",
    "exponentiation (`**`) and\n",
    "absolute value (`|.|`). You can see them in the next example:"
   ]
  },
  {
   "cell_type": "code",
   "execution_count": 51,
   "id": "d5c24d02-d113-4a10-a7a1-e1880a50b355",
   "metadata": {},
   "outputs": [
    {
     "name": "stdout",
     "output_type": "stream",
     "text": [
      "right(2) left(7) minus(5) modulo(1) power(49) abs(2)\n",
      "SATISFIABLE\n"
     ]
    }
   ],
   "source": [
    "%%clingo - -V0 \n",
    "left(7).\n",
    "right(2).\n",
    "minus ( L -  R ) :- left(L), right(R).\n",
    "modulo( L \\  R ) :- left(L), right(R).\n",
    "power ( L ** R ) :- left(L), right(R).\n",
    "abs   (|  -  R|) :-          right(R)."
   ]
  },
  {
   "cell_type": "markdown",
   "id": "ccddb712-7675-4fa5-9934-bd3b8ec1192e",
   "metadata": {
    "tags": []
   },
   "source": [
    "## Constants"
   ]
  },
  {
   "cell_type": "markdown",
   "id": "502075f3-0d9b-4458-a3af-d5d1cdd9c59b",
   "metadata": {},
   "source": [
    "In the example of `Arithmetics` we have stated that the hours per credit are `30`.\n",
    "But actually, the hours per credit may range between 25 and 30.\n",
    "\n",
    "We can then replace `hours_per_credit(30).`\n",
    "by \n",
    "`hours_per_credit(25).` \n",
    "and then we obtain `750` hours per semester and `35` per week.\n",
    "\n",
    "To make these kind of changes easier, we can instead replace \n",
    "`hours_per_credit(30).`\n",
    "by \n",
    "`hours_per_credit(hpc).` \n",
    "where `hpc` is a constant whose value can be set using `clingo` option `-c hpc=30` or `-c hpc=25`."
   ]
  },
  {
   "cell_type": "code",
   "execution_count": 150,
   "id": "6e905c92-6774-4137-a7a4-03e923992768",
   "metadata": {},
   "outputs": [
    {
     "name": "stdout",
     "output_type": "stream",
     "text": [
      "credits_per_semester(30) hours_per_credit(30)\n",
      "SATISFIABLE\n"
     ]
    }
   ],
   "source": [
    "%%clingo - -V0 -c hpc=30\n",
    " \n",
    "credits_per_semester(30). % there are 30 credits per semester\n",
    "hours_per_credit(hpc).    % every credit amounts to hpc hours of work"
   ]
  },
  {
   "cell_type": "markdown",
   "id": "614fc74f-9d6a-4412-9677-ff8a330607b3",
   "metadata": {},
   "source": [
    "Additionally, we can write the directive \n",
    "`#const hpc=25.` \n",
    "in the logic program and then `hpc` is replaced by the integer `25` unless some \n",
    "option `-c hpc=...` is used."
   ]
  },
  {
   "cell_type": "code",
   "execution_count": 151,
   "id": "f647beec-4df4-42d8-9b69-11efeeec2126",
   "metadata": {},
   "outputs": [
    {
     "name": "stdout",
     "output_type": "stream",
     "text": [
      "credits_per_semester(30) hours_per_credit(25)\n",
      "SATISFIABLE\n"
     ]
    }
   ],
   "source": [
    "%%clingo - -V0\n",
    " \n",
    "credits_per_semester(30). % there are 30 credits per semester\n",
    "hours_per_credit(hpc).    % every credit amounts to hpc hours of work\n",
    "\n",
    "#const hpc=25."
   ]
  },
  {
   "cell_type": "markdown",
   "id": "a1e2ead9-b7a9-4023-8c7d-82778a12375b",
   "metadata": {
    "tags": []
   },
   "source": [
    "## Comparison predicates"
   ]
  },
  {
   "cell_type": "markdown",
   "id": "3f716e73-f2fe-47eb-bf83-a92369f9f08a",
   "metadata": {},
   "source": [
    "We want to identify if we have some conflict between our courses at any time slot. \n",
    "We can *try* to do it with the next rule, that says that: \n",
    "* For every `C1`, `C2`, `D` and `P`, if `enroll(C1)`, `lecture(C,D,P)`, `enroll(C2)`, and `lecture(C2,D,P)` are in an answer set, then `conflict(D,P)` must also be in that answer set. "
   ]
  },
  {
   "cell_type": "code",
   "execution_count": 178,
   "id": "07007543-aa2b-4083-a463-f8e41d557d09",
   "metadata": {
    "tags": []
   },
   "outputs": [
    {
     "name": "stdout",
     "output_type": "stream",
     "text": [
      "Overwriting comparison_1.lp\n"
     ]
    }
   ],
   "source": [
    "%%file comparison_1.lp\n",
    "\n",
    "% there is a conflict on day D at period P\n",
    "conflict(D,P) :- enroll(C1), lecture(C1,D,P), \n",
    "                 enroll(C2), lecture(C2,D,P).\n",
    "#show conflict/2."
   ]
  },
  {
   "cell_type": "markdown",
   "id": "827220fd-0450-4d08-948f-0d59af65447a",
   "metadata": {},
   "source": [
    "Recall our facts using clingo:"
   ]
  },
  {
   "cell_type": "code",
   "execution_count": 109,
   "id": "f2390ddc-80a9-4066-bdda-0ba75f66573f",
   "metadata": {},
   "outputs": [
    {
     "name": "stdout",
     "output_type": "stream",
     "text": [
      "enroll(asp) enroll(ml) enroll(ling) credits(asp,9) credits(ml,9) credits(ling,6) credits(phil,9) lecture(asp,thu,3) lecture(asp,fri,3) lecture(ml,wed,2) lecture(ml,thu,3) lecture(ml,fri,4) lecture(ling,tue,1) lecture(ling,thu,2) lecture(phil,tue,3) lecture(phil,wed,4)\n",
      "SATISFIABLE\n"
     ]
    }
   ],
   "source": [
    "!clingo -V0 facts.lp enroll.lp"
   ]
  },
  {
   "cell_type": "markdown",
   "id": "a6c4d2c2-683d-4ed3-b195-efa479a2b3b5",
   "metadata": {},
   "source": [
    "Then `clingo` tell us that..."
   ]
  },
  {
   "cell_type": "code",
   "execution_count": 114,
   "id": "87ed2443-e82f-48db-9e04-544d3ea0c49e",
   "metadata": {},
   "outputs": [
    {
     "name": "stdout",
     "output_type": "stream",
     "text": [
      "conflict(thu,3) conflict(fri,3) conflict(wed,2) conflict(fri,4) conflict(tue,1) conflict(thu,2)\n",
      "SATISFIABLE\n"
     ]
    }
   ],
   "source": [
    "!clingo facts.lp enroll.lp comparison_1.lp 0 -V0"
   ]
  },
  {
   "cell_type": "markdown",
   "id": "b02138bb-b386-4227-8134-07512e343c92",
   "metadata": {},
   "source": [
    "... we have conflicts all over the week. But this cannot be correct! For example, on Thursday at the 2nd period we only have the linguistics course, hence no conflict can occur at that time slot. \n",
    "\n",
    "The problem is that in the rule above nothing forbids `C1` and `C2` to refer to the same course. Then, we derive a `conflict` for every time slot of every lecture to which we have enrolled. We can fix the problem forcing those two variable to be distinct with the comparison predicate `!=`:"
   ]
  },
  {
   "cell_type": "code",
   "execution_count": 116,
   "id": "f6ef8405-a41a-4ce7-b95e-adf8b95b53ab",
   "metadata": {},
   "outputs": [
    {
     "name": "stdout",
     "output_type": "stream",
     "text": [
      "Writing comparison_2.lp\n"
     ]
    }
   ],
   "source": [
    "%%file comparison_2.lp \n",
    "conflict(D,P) :- enroll(C1), lecture(C1,D,P), \n",
    "                 enroll(C2), lecture(C2,D,P), C1 != C2.\n",
    "#show conflict/2."
   ]
  },
  {
   "cell_type": "code",
   "execution_count": 117,
   "id": "137baa3c-80e2-4bee-a65c-180e70797764",
   "metadata": {},
   "outputs": [
    {
     "name": "stdout",
     "output_type": "stream",
     "text": [
      "conflict(thu,3)\n",
      "SATISFIABLE\n"
     ]
    }
   ],
   "source": [
    "!clingo facts.lp enroll.lp comparison_2.lp 0 -V0"
   ]
  },
  {
   "cell_type": "markdown",
   "id": "ce25ad66-c11b-4b9d-8277-9f9c68463a46",
   "metadata": {},
   "source": [
    "Now the result is correct: we have a conflict on Thursday at the 3rd period.\n",
    "\n",
    "You can replace the symbol `!=` by `<` or by `>` and see that the result is the same. This shows that in `clingo` the constants (like `mon` or `thu`) are ordered. \n",
    "In fact, they are ordered lexicographically, but this order is not always meaningful to us. \n",
    "To see this, let's *try* to define when day `D1` is `before` day `D2`:"
   ]
  },
  {
   "cell_type": "code",
   "execution_count": 132,
   "id": "a1899cde-3ab6-4a35-9852-d02adae3b679",
   "metadata": {},
   "outputs": [
    {
     "name": "stdout",
     "output_type": "stream",
     "text": [
      "before(fri,mon) before(mon,tue) before(thu,tue) before(fri,tue) before(mon,wed) before(tue,wed) before(thu,wed) before(fri,wed) before(mon,thu) before(fri,thu)\n",
      "SATISFIABLE\n"
     ]
    }
   ],
   "source": [
    "%%clingo - -V0\n",
    "\n",
    "day(mon). day(tue). day(wed). day(thu). day(fri).\n",
    "before(D1,D2) :- day(D1), day(D2), D1 < D2.\n",
    "\n",
    "#show before/2."
   ]
  },
  {
   "cell_type": "markdown",
   "id": "ece5f8fe-ed65-4104-a22b-529a794d0776",
   "metadata": {},
   "source": [
    "This doesn't work nicely. For example, `fri`day should not be before `mon`day. \n",
    "In this case, it is better to use numbers to refer directly to the elements we want to order:"
   ]
  },
  {
   "cell_type": "code",
   "execution_count": 130,
   "id": "274bb956-cd19-471d-8f5b-8c2a00608eff",
   "metadata": {},
   "outputs": [
    {
     "name": "stdout",
     "output_type": "stream",
     "text": [
      "before(1,2) before(1,3) before(2,3) before(1,4) before(2,4) before(3,4) before(1,5) before(2,5) before(3,5) before(4,5)\n",
      "SATISFIABLE\n"
     ]
    }
   ],
   "source": [
    "%%clingo - -V0\n",
    "\n",
    "day(1). day(2). day(3). day(4). day(5).\n",
    "before(D1,D2) :- day(D1), day(D2), D1 < D2.\n",
    "\n",
    "#show before/2."
   ]
  },
  {
   "cell_type": "markdown",
   "id": "e36f41a0-e376-4a70-83e2-acc7c2558052",
   "metadata": {},
   "source": [
    "or use some additional predicate to define that order, like `position/2` in the next example:"
   ]
  },
  {
   "cell_type": "code",
   "execution_count": 127,
   "id": "1bbe0c82-be53-48c8-bbc6-7d4692437071",
   "metadata": {},
   "outputs": [
    {
     "name": "stdout",
     "output_type": "stream",
     "text": [
      "before(mon,tue) before(mon,wed) before(tue,wed) before(mon,thu) before(tue,thu) before(wed,thu) before(mon,fri) before(tue,fri) before(wed,fri) before(thu,fri)\n",
      "SATISFIABLE\n"
     ]
    }
   ],
   "source": [
    "%%clingo - -V0\n",
    "\n",
    "day(mon). day(tue). day(wed). day(thu). day(fri).\n",
    "position(mon,1). position(tue,2). position(wed,3). position(thu,4). position(fri,5).\n",
    "before(D1,D2) :- day(D1), day(D2), position(D1,P1), position(D2,P2), P1 < P2.\n",
    "\n",
    "#show before/2."
   ]
  },
  {
   "cell_type": "markdown",
   "id": "73b10ef4-eb56-4a1d-aca7-608984b6c2fa",
   "metadata": {},
   "source": [
    "Let's move one and see more comparison operators at work. \n",
    "We want to define the time slots that are early, at the first period of the day, given our enrollment.\n",
    "We can do this with any of the rules of the following program.\n",
    "You can uncomment each of them individually and see that they lead to the same result:"
   ]
  },
  {
   "cell_type": "code",
   "execution_count": 153,
   "id": "c8bb4042-e263-4410-b4a8-ee10fd718692",
   "metadata": {},
   "outputs": [
    {
     "name": "stdout",
     "output_type": "stream",
     "text": [
      "early(ling,tue)\n",
      "SATISFIABLE\n"
     ]
    }
   ],
   "source": [
    "%%clingo - facts.lp enroll.lp -V0\n",
    "\n",
    "% uncomment one\n",
    "  early(C,D) :- enroll(C), lecture(C,D,1).\n",
    "% early(C,D) :- enroll(C), lecture(C,D,P), P  = 1.\n",
    "% early(C,D) :- enroll(C), lecture(C,D,P), P <= 1.\n",
    "% #const early_time=2.\n",
    "% early(C,D) :- enroll(C), lecture(C,D,P), P  < early_time. % uncomment also the line above\n",
    "% early(C,D) :- enroll(C), lecture(C,D,P), P != 2, P != 3, P != 4.\n",
    "\n",
    "#show early/2."
   ]
  },
  {
   "cell_type": "markdown",
   "id": "002d9b8e-fff8-4e31-8267-6e969d1df877",
   "metadata": {
    "tags": []
   },
   "source": [
    "## Intervals"
   ]
  },
  {
   "cell_type": "markdown",
   "id": "bb96badd-13c3-4ad0-864b-a64f417ce0ff",
   "metadata": {},
   "source": [
    "Above we have defined the days of the week using numbers:"
   ]
  },
  {
   "cell_type": "code",
   "execution_count": 133,
   "id": "82212e99-ca49-44ad-952c-9e75a4b9fb8f",
   "metadata": {},
   "outputs": [
    {
     "name": "stdout",
     "output_type": "stream",
     "text": [
      "day(1) day(2) day(3) day(4) day(5)\n",
      "SATISFIABLE\n"
     ]
    }
   ],
   "source": [
    "%%clingo - -V0\n",
    "day(1). day(2). day(3). day(4). day(5)."
   ]
  },
  {
   "cell_type": "markdown",
   "id": "fce4fcea-bda0-4d12-96cd-1dfb88794198",
   "metadata": {},
   "source": [
    "We can do the same more compactly, using intervals in the head:"
   ]
  },
  {
   "cell_type": "code",
   "execution_count": 134,
   "id": "903c0f04-8840-420a-bb11-860e3d59deb8",
   "metadata": {},
   "outputs": [
    {
     "name": "stdout",
     "output_type": "stream",
     "text": [
      "day(1) day(2) day(3) day(4) day(5)\n",
      "SATISFIABLE\n"
     ]
    }
   ],
   "source": [
    "%%clingo - -V0\n",
    "day(1..5)."
   ]
  },
  {
   "cell_type": "markdown",
   "id": "702b74f9-ad04-480a-9639-b98eaf3bddd4",
   "metadata": {},
   "source": [
    "or in the body:"
   ]
  },
  {
   "cell_type": "code",
   "execution_count": 135,
   "id": "8e7f7b2f-b84e-4a4f-ad61-6a0461f73713",
   "metadata": {},
   "outputs": [
    {
     "name": "stdout",
     "output_type": "stream",
     "text": [
      "day(1) day(2) day(3) day(4) day(5)\n",
      "SATISFIABLE\n"
     ]
    }
   ],
   "source": [
    "%%clingo - -V0\n",
    "day(D) :- D=1..5."
   ]
  },
  {
   "cell_type": "markdown",
   "id": "31805337-85a3-4eac-abd0-1f93f395ded8",
   "metadata": {},
   "source": [
    "The bounds of the interval can be variables, like here:"
   ]
  },
  {
   "cell_type": "code",
   "execution_count": 136,
   "id": "56285bcb-9f8e-4020-b24f-ad5f6d78a189",
   "metadata": {},
   "outputs": [
    {
     "name": "stdout",
     "output_type": "stream",
     "text": [
      "max(5) min(1) day(1) day(2) day(3) day(4) day(5)\n",
      "SATISFIABLE\n"
     ]
    }
   ],
   "source": [
    "%%clingo - -V0\n",
    "min(1). max(5).\n",
    "day(Min..Max) :- min(Min), max(Max)."
   ]
  },
  {
   "cell_type": "markdown",
   "id": "2184d8a0-ae72-4e13-b4d5-1a7d5892db8d",
   "metadata": {},
   "source": [
    "or here:"
   ]
  },
  {
   "cell_type": "code",
   "execution_count": 137,
   "id": "a29710a1-36ac-460f-a8ec-5c8bd3aa66af",
   "metadata": {},
   "outputs": [
    {
     "name": "stdout",
     "output_type": "stream",
     "text": [
      "max(5) min(1) day(1) day(2) day(3) day(4) day(5)\n",
      "SATISFIABLE\n"
     ]
    }
   ],
   "source": [
    "%%clingo - -V0\n",
    "min(1). max(5).\n",
    "day(D) :- D=Min..Max, min(Min), max(Max)."
   ]
  },
  {
   "cell_type": "markdown",
   "id": "a7f19bb7-e85c-4a42-b30a-af7a2a0b2fd2",
   "metadata": {},
   "source": [
    "More than one interval can occur in one rule, \n",
    "like in the next reuls defining time slots:"
   ]
  },
  {
   "cell_type": "code",
   "execution_count": 143,
   "id": "dbc2847f-1c88-4e27-9d43-dd9d0689a03d",
   "metadata": {},
   "outputs": [
    {
     "name": "stdout",
     "output_type": "stream",
     "text": [
      "slot(1,1) slot(2,1) slot(3,1) slot(4,1) slot(5,1) slot(1,2) slot(2,2) slot(3,2) slot(4,2) slot(5,2) slot(1,3) slot(2,3) slot(3,3) slot(4,3) slot(5,3) slot(1,4) slot(2,4) slot(3,4) slot(4,4) slot(5,4)\n",
      "SATISFIABLE\n"
     ]
    }
   ],
   "source": [
    "%%clingo - -V0\n",
    "slot(1..5,1..4)."
   ]
  },
  {
   "cell_type": "code",
   "execution_count": 139,
   "id": "6ce7f1dd-6581-4646-bd28-2fab14bd40fd",
   "metadata": {},
   "outputs": [
    {
     "name": "stdout",
     "output_type": "stream",
     "text": [
      "slot(1,1) slot(2,1) slot(3,1) slot(4,1) slot(5,1) slot(1,2) slot(2,2) slot(3,2) slot(4,2) slot(5,2) slot(1,3) slot(2,3) slot(3,3) slot(4,3) slot(5,3) slot(1,4) slot(2,4) slot(3,4) slot(4,4) slot(5,4)\n",
      "SATISFIABLE\n"
     ]
    }
   ],
   "source": [
    "%%clingo - -V0\n",
    "slot(D,P) :- D=1..5, P=1..4."
   ]
  },
  {
   "cell_type": "markdown",
   "id": "a8a65dc9-847e-4bf6-aed4-cb5d2cd77ddd",
   "metadata": {
    "tags": []
   },
   "source": [
    "## Pooling"
   ]
  },
  {
   "cell_type": "markdown",
   "id": "494b14fa-8913-47b8-8dc7-06ca5a37226d",
   "metadata": {},
   "source": [
    "Another useful feature of our language is pooling. Remember our definition of the days of the week:"
   ]
  },
  {
   "cell_type": "code",
   "execution_count": 146,
   "id": "38b2e991-9d22-41c5-a599-5fee87597aab",
   "metadata": {},
   "outputs": [
    {
     "name": "stdout",
     "output_type": "stream",
     "text": [
      "day(mon) day(tue) day(wed) day(thu) day(fri)\n",
      "SATISFIABLE\n"
     ]
    }
   ],
   "source": [
    "%%clingo - -V0\n",
    "day(mon). day(tue). day(wed). day(thu). day(fri)."
   ]
  },
  {
   "cell_type": "markdown",
   "id": "6a7ce5b7-23dd-4690-a990-72904bf6cf30",
   "metadata": {},
   "source": [
    "We can write it simply like this:"
   ]
  },
  {
   "cell_type": "code",
   "execution_count": 145,
   "id": "561e7edb-69d9-4a0a-ad26-ae52a6808608",
   "metadata": {},
   "outputs": [
    {
     "name": "stdout",
     "output_type": "stream",
     "text": [
      "day(mon) day(tue) day(wed) day(thu) day(fri)\n",
      "SATISFIABLE\n"
     ]
    }
   ],
   "source": [
    "%%clingo - -V0\n",
    "day(mon;tue;wed;thu;fri)."
   ]
  },
  {
   "cell_type": "markdown",
   "id": "57dfd335-16d2-4b75-acc1-ee48bb24a56c",
   "metadata": {},
   "source": [
    "We can also use pools to define the time slots with day names:"
   ]
  },
  {
   "cell_type": "code",
   "execution_count": 148,
   "id": "b1b43c2d-be6d-40ec-a19d-62f5e9a54866",
   "metadata": {},
   "outputs": [
    {
     "name": "stdout",
     "output_type": "stream",
     "text": [
      "slot(fri,1) slot(fri,2) slot(fri,3) slot(fri,4) slot(thu,1) slot(thu,2) slot(thu,3) slot(thu,4) slot(wed,1) slot(wed,2) slot(wed,3) slot(wed,4) slot(tue,1) slot(tue,2) slot(tue,3) slot(tue,4) slot(mon,1) slot(mon,2) slot(mon,3) slot(mon,4)\n",
      "SATISFIABLE\n"
     ]
    }
   ],
   "source": [
    "%%clingo - -V0 0\n",
    "\n",
    "period(1..4).\n",
    "slot(mon,P;tue,P;wed,P;thu,P;fri,P) :- period(P).\n",
    "\n",
    "#show slot/2."
   ]
  },
  {
   "cell_type": "markdown",
   "id": "d9e83517-e165-4699-b3e4-d018ba87dea0",
   "metadata": {
    "tags": []
   },
   "source": [
    "## Negation"
   ]
  },
  {
   "cell_type": "markdown",
   "id": "90233c18-98fe-4c26-9b88-fe87334e915d",
   "metadata": {},
   "source": [
    "Let's define which courses are nice for us, because they do not have any early lecture at the first period of some day.\n",
    "This is our first attempt:"
   ]
  },
  {
   "cell_type": "code",
   "execution_count": 159,
   "id": "013badf8-b691-4959-9b93-40bcd9fcb70c",
   "metadata": {},
   "outputs": [
    {
     "name": "stdout",
     "output_type": "stream",
     "text": [
      "\n",
      "SATISFIABLE\n"
     ]
    }
   ],
   "source": [
    "%%clingo - -V0 facts.lp\n",
    "\n",
    "% course C is nice on day D\n",
    "nice(C,D) :- lecture(C,D,P), P = 2..4.\n",
    "\n",
    "% course C is nice\n",
    "nice(C) :- nice(C,mon), nice(C,tue), nice(C,wed), nice(C,thu), nice(C,fri).\n",
    "\n",
    "#show nice/1."
   ]
  },
  {
   "cell_type": "markdown",
   "id": "ebfd6f6d-1364-45c1-ba5f-344a283cfd77",
   "metadata": {},
   "source": [
    "The result tells us that there is no nice course! But this cannot be true. Let's see again the lectures..."
   ]
  },
  {
   "cell_type": "code",
   "execution_count": 161,
   "id": "eab1fc5c-d68a-41be-92be-16fdcc85e881",
   "metadata": {},
   "outputs": [
    {
     "name": "stdout",
     "output_type": "stream",
     "text": [
      "lecture(asp,thu,3) lecture(asp,fri,3) lecture(ml,wed,2) lecture(ml,thu,3) lecture(ml,fri,4) lecture(ling,tue,1) lecture(ling,thu,2) lecture(phil,tue,3) lecture(phil,wed,4)\n",
      "SATISFIABLE\n"
     ]
    }
   ],
   "source": [
    "%%clingo - -V0 facts.lp\n",
    "#show lecture/3."
   ]
  },
  {
   "cell_type": "markdown",
   "id": "2f63a655-0cf0-4d36-a957-2bbd19fa2d87",
   "metadata": {},
   "source": [
    "The only course that is not nice, according to our informal definition, is `ling`, because we have `lecture(ling,tue,1)`. \n",
    "\n",
    "The problem with our rules is that for a course `C` to be nice we require that *every day* there is some nice lecture.\n",
    "\n",
    "Actually, we would like to say that `C` is nice if there is no day that is early. We can do this using negation:"
   ]
  },
  {
   "cell_type": "code",
   "execution_count": 175,
   "id": "7e814ac9-e7dd-45d9-817b-2a682e017eb7",
   "metadata": {},
   "outputs": [
    {
     "name": "stdout",
     "output_type": "stream",
     "text": [
      "nice(asp) nice(ml) nice(phil)\n",
      "SATISFIABLE\n"
     ]
    }
   ],
   "source": [
    "%%clingo - -V0 facts.lp basic_1.lp\n",
    "\n",
    "% course C is early on day D\n",
    "early(C,D) :- lecture(C,D,1).\n",
    "\n",
    "% course C is nice\n",
    "nice(C) :- course(C), \n",
    "           not early(C,mon), not early(C,tue), not early(C,wed), not early(C,thu), not early(C,fri).\n",
    "\n",
    "#show nice/1."
   ]
  },
  {
   "cell_type": "markdown",
   "id": "abc0411f-5050-43ad-b9c1-8873ef8122c5",
   "metadata": {},
   "source": [
    "Now we obtain the right answer!\n",
    "\n",
    "However, the rule defining `nice(C)` looks too complicated, and it does not work if there are lectures on Saturdays... \n",
    "\n",
    "Let's give it another try:"
   ]
  },
  {
   "cell_type": "code",
   "execution_count": 180,
   "id": "406ac469-7098-4c27-acbf-60011dd9a537",
   "metadata": {},
   "outputs": [
    {
     "name": "stdout",
     "output_type": "stream",
     "text": [
      "nice(asp) nice(ml) nice(phil)\n",
      "SATISFIABLE\n"
     ]
    }
   ],
   "source": [
    "%%clingo - -V0 facts.lp basic_1.lp\n",
    "\n",
    "% course C is early (some day)\n",
    "early(C) :- lecture(C,D,1).\n",
    "\n",
    "% course C is nice\n",
    "nice(C) :- course(C), not early(C).\n",
    "\n",
    "#show nice/1."
   ]
  },
  {
   "cell_type": "markdown",
   "id": "e72280a3-e49f-43d1-9551-5e0c010988dc",
   "metadata": {},
   "source": [
    "This looks much simpler, and it is closer to our description in natural language of a nice course."
   ]
  },
  {
   "cell_type": "markdown",
   "id": "57b8f862-3005-437c-8ab8-71fbaf0d1cae",
   "metadata": {
    "tags": []
   },
   "source": [
    "### Safety"
   ]
  },
  {
   "cell_type": "markdown",
   "id": "6c812246-4f21-4185-b76f-d5ab3e442ff7",
   "metadata": {},
   "source": [
    "Now you could be asking yourself: why do we need to add the atom `course(C)` to the body of the rules for `nice(C)`? Let's see what `clingo` says if we delete it from the rules:"
   ]
  },
  {
   "cell_type": "code",
   "execution_count": 182,
   "id": "5343b4fc-c7f3-4f75-a600-d88f7c078638",
   "metadata": {},
   "outputs": [
    {
     "name": "stdout",
     "output_type": "stream",
     "text": [
      "UNKNOWN\n"
     ]
    },
    {
     "name": "stderr",
     "output_type": "stream",
     "text": [
      "-:6:1-7:101: error: unsafe variables in:\n",
      "  nice(C):-[#inc_base];not early(C,fri);not early(C,thu);not early(C,wed);not early(C,tue);not early(C,mon).\n",
      "-:6:6-7: note: 'C' is unsafe\n",
      "\n",
      "-:13:1-25: error: unsafe variables in:\n",
      "  nice(C):-[#inc_base];not early(C).\n",
      "-:13:6-7: note: 'C' is unsafe\n",
      "\n",
      "*** ERROR: (clingo): grounding stopped because of errors\n"
     ]
    }
   ],
   "source": [
    "%%clingo - -V0 facts.lp basic_1.lp\n",
    "\n",
    "% course C is early on day D\n",
    "early(C,D) :- lecture(C,D,1).\n",
    "\n",
    "% course C is nice\n",
    "nice(C) :- \n",
    "           not early(C,mon), not early(C,tue), not early(C,wed), not early(C,thu), not early(C,fri).\n",
    "    \n",
    "% course C is early (some day)\n",
    "early(C) :- lecture(C,D,1).\n",
    "\n",
    "% course C is nice\n",
    "nice(C) :- not early(C)."
   ]
  },
  {
   "cell_type": "markdown",
   "id": "d176d0c2-fe56-4c9d-a445-d590699c505e",
   "metadata": {},
   "source": [
    "`clingo` gives an error and tells us that now the rules are not safe!\n",
    "\n",
    "Remember that a rule is safe if every variable occurring in the rule occurs in some *positive literal* in its body. \n",
    "\n",
    "Without the atom `course(C)`, the variable `C` does not occur in any positive literal of the bodies, and the rules are unsafe."
   ]
  },
  {
   "cell_type": "markdown",
   "id": "30a71005-65fc-4955-9d79-5c150fb66964",
   "metadata": {
    "tags": []
   },
   "source": [
    "## Anonymous variables"
   ]
  },
  {
   "cell_type": "markdown",
   "id": "8f758a51-3d8f-476d-a8ac-50932546b8d3",
   "metadata": {},
   "source": [
    "We have defined a time slot with a rule like this:"
   ]
  },
  {
   "cell_type": "code",
   "execution_count": 183,
   "id": "af49c26b-9924-4944-b463-e2a31cf9fb51",
   "metadata": {},
   "outputs": [
    {
     "name": "stdout",
     "output_type": "stream",
     "text": [
      "slot(thu,3) slot(fri,3) slot(wed,2) slot(fri,4) slot(tue,1) slot(thu,2) slot(tue,3) slot(wed,4)\n",
      "SATISFIABLE\n"
     ]
    }
   ],
   "source": [
    "%%clingo - -V0 facts.lp\n",
    "\n",
    "slot(D,P) :- lecture(C,D,P).\n",
    "\n",
    "#show slot/2."
   ]
  },
  {
   "cell_type": "markdown",
   "id": "36a3d90a-532b-4007-96c3-09986f6dcb08",
   "metadata": {},
   "source": [
    "The variable `C` occurs only in the body of the rule, in the atom `lecture(C,D,P)`. It is not used anywhere else. In this case, we can replace the variable `C` by an anonymous variable `_`."
   ]
  },
  {
   "cell_type": "code",
   "execution_count": 184,
   "id": "a157b716-0718-4c3c-8091-f1e1d50d2ba8",
   "metadata": {},
   "outputs": [
    {
     "name": "stdout",
     "output_type": "stream",
     "text": [
      "slot(thu,3) slot(fri,3) slot(wed,2) slot(fri,4) slot(tue,1) slot(thu,2) slot(tue,3) slot(wed,4)\n",
      "SATISFIABLE\n"
     ]
    }
   ],
   "source": [
    "%%clingo - -V0 facts.lp\n",
    "\n",
    "slot(D,P) :- lecture(_,D,P).\n",
    "\n",
    "#show slot/2."
   ]
  },
  {
   "cell_type": "markdown",
   "id": "48081923-2f11-4aba-9113-43116e9f4ec3",
   "metadata": {},
   "source": [
    "In the other direction, we can always replace an anonymous variable by a new variable that does not occur anywhere in the rule. \n",
    "For example, in the last program we can replace `_` by `X`, or by `C` again.\n",
    "\n",
    "When we see an anonymous variable, we know that the value of the argument at the position of the variable is not relevant.\n",
    "\n",
    "Using anonymous variables or not is mainly a matter of style. "
   ]
  },
  {
   "cell_type": "markdown",
   "id": "c38a8323-e4cb-4fbb-8c39-6dc38e9a07db",
   "metadata": {},
   "source": [
    "### Negation \n",
    "\n",
    "The meaning of anonymous variables is a bit different when we use them in negative literals. We can define a nice enrollment with these rules:"
   ]
  },
  {
   "cell_type": "code",
   "execution_count": 7,
   "id": "1bdde623-d341-4c8a-8d9f-c782ae9bf934",
   "metadata": {},
   "outputs": [
    {
     "name": "stdout",
     "output_type": "stream",
     "text": [
      "\n",
      "SATISFIABLE\n"
     ]
    }
   ],
   "source": [
    "%%clingo - -V0 facts.lp basic_1.lp\n",
    "\n",
    "% course C is early (some day)\n",
    "early(C) :- lecture(C,D,1).\n",
    "\n",
    "% the enrollment is nice if there is no early course\n",
    "nice :- not early(_).\n",
    "\n",
    "#show nice/0."
   ]
  },
  {
   "cell_type": "markdown",
   "id": "2a98ee63-148d-4db8-a064-de82fac2cd75",
   "metadata": {},
   "source": [
    "But what happens if we replace the negative literal `not early(_)` by `not early(C)`? Try it and you will see that `clingo` gives an error, because now the rule becomes unsafe. \n",
    "\n",
    "Actually, anonymous variables in negative literals are given a special treatment. `clingo` introduces an auxiliary atom to handle them. Accordingly, the previous program is interpreted as if it was the following one:"
   ]
  },
  {
   "cell_type": "code",
   "execution_count": 6,
   "id": "e680e03e-f5d1-4411-83f7-f6a8afc64aa8",
   "metadata": {},
   "outputs": [
    {
     "name": "stdout",
     "output_type": "stream",
     "text": [
      "\n",
      "SATISFIABLE\n"
     ]
    }
   ],
   "source": [
    "%%clingo - -V0 facts.lp basic_1.lp\n",
    "\n",
    "% course C is early (some day)\n",
    "early(C) :- lecture(C,D,1).\n",
    "\n",
    "% auxiliary atom to handle auxiliary variable in negative literal\n",
    "early0 :- early(C).\n",
    "\n",
    "% the enrollment is nice if there is no early course\n",
    "nice :- not early0.\n",
    "\n",
    "#show nice/0."
   ]
  },
  {
   "cell_type": "markdown",
   "id": "47a1b5ba-da0f-46b1-9b28-a28fa86917c5",
   "metadata": {},
   "source": [
    "The program is safe, and we obtain the same solution as before."
   ]
  },
  {
   "cell_type": "markdown",
   "id": "86e49164-ee12-4465-a04d-9f8f2fd8641b",
   "metadata": {
    "jp-MarkdownHeadingCollapsed": true,
    "tags": []
   },
   "source": [
    "## Cardinality constraints"
   ]
  },
  {
   "cell_type": "code",
   "execution_count": null,
   "id": "35315095-7e25-49a0-8945-701c0a721c38",
   "metadata": {},
   "outputs": [],
   "source": [
    "%%file cardinality_constraints_1.lp\n",
    "\n",
    "% enrolled in at least two courses\n",
    "many :- enroll(C1), enroll(C2), C1 != C2.\n",
    "\n",
    "% enrolled in at least three courses\n",
    "many :- enroll(C1), enroll(C2), C1 != C2, \n",
    "        enroll(C3), C1 != C3, C2 != C3.\n",
    "    \n",
    "number(3).\n",
    "% enroll in at least X courses if number(X) holds\n",
    "% many :- number(N), ... ?\n",
    "\n",
    "% enrolled in at least two courses\n",
    "many :- 2 { enroll(C) }.\n",
    "\n",
    "% enrolled in at least three courses\n",
    "many :- 3 { enroll(C) }.\n",
    "\n",
    "% enroll in at least X courses if number(X) holds\n",
    "many :- number(N), N { enroll(C) }."
   ]
  },
  {
   "cell_type": "code",
   "execution_count": null,
   "id": "0be574a8-170b-460b-b8d9-3460ba1c401c",
   "metadata": {},
   "outputs": [],
   "source": [
    "%%file cardinality_constraints_2.lp\n",
    "\n",
    "% enrolled in at least X courses in day D\n",
    "enroll(C,D)   :- enroll(C), lecture(C,D,P).\n",
    "% \n",
    "many(D) :- day(D), number(N), N { enroll(C,D) }.\n",
    "%\n",
    "many(D) :- day(D), number(N), N { enroll(C) : lecture(C,D,P) }.\n",
    "%\n",
    "% add P >= 2?\n",
    "\n",
    "% enrolled to at least X  time slots in day D\n",
    "enroll(C,D,P) :- enroll(C), lecture(C,D,P).\n",
    "% \n",
    "many(D) :- day(D), number(N), N { enroll(C,D,P) }.\n",
    "%\n",
    "many(D) :- day(D), number(N), N { lecture(C,D,P) : enroll(C) }.\n",
    "%\n",
    "% add P >= 2?"
   ]
  },
  {
   "cell_type": "code",
   "execution_count": 15,
   "id": "c34bc48c-c0b1-479a-ac73-ef84720d9f86",
   "metadata": {},
   "outputs": [
    {
     "name": "stdout",
     "output_type": "stream",
     "text": [
      "Overwriting cardinality_constraints_3.lp\n"
     ]
    }
   ],
   "source": [
    "%%file cardinality_constraints_3.lp\n",
    "\n",
    "%\n",
    "% local and global variables\n",
    "%\n",
    "extreme(D) :- day(D), n(N),  \n",
    "              N { lecture(C,D,P) : enroll(C), P <= 2 ;\n",
    "                  lecture(C,D,P) : enroll(C), P >= 5 }.\n",
    "               %  lecture(V,D,W) : enroll(V), W >= 5 }. \n",
    "               % local versus global\n",
    "               % use another predicate also\n",
    "               % late_lecture(C,D,P) : enroll(C) }.\n",
    "%\n",
    "late_lecture(C,D,P) :- lecture(C,D,P), P >= 5.\n",
    "\n",
    "        \n",
    "%\n",
    "% negation \n",
    "%\n",
    "conflict(D,P) :- day(D), period(P), \n",
    "                 2 { enroll(C) : lecture(C,D,P) }.\n",
    "%\n",
    "conflict(D,P) :- day(D), period(P), \n",
    "                 2 { not enroll(C) : lecture(C,D,P) }. % safety\n",
    "% unsafe \n",
    "conflict(D,P) :- day(D), \n",
    "                 2 { not lecture(C,D,P) : enroll(C) }.\n",
    "    \n",
    "% NO -> below\n",
    "%\n",
    "% not implemented using cardinality constraints\n",
    "%\n",
    "%nice(C) :- course(C), not early(C).\n",
    "%nice(C) :- course(C), { early(C) } 0."
   ]
  },
  {
   "cell_type": "markdown",
   "id": "76aa81bb-b50d-4301-b8cd-2359c3fa7a94",
   "metadata": {},
   "source": [
    "### Safety"
   ]
  },
  {
   "cell_type": "code",
   "execution_count": 10,
   "id": "a6700bcc-6198-4f6b-b952-e77c8a46476b",
   "metadata": {},
   "outputs": [
    {
     "name": "stdout",
     "output_type": "stream",
     "text": [
      "Writing cardinality_constraints_4.lp\n"
     ]
    }
   ],
   "source": [
    "%%file cardinality_constraints_4.lp\n",
    "\n",
    "% safe\n",
    "extreme(D) :- day(D), n(N),  \n",
    "              N { lecture(C,D,P) : enroll(C), P <= 2 ;\n",
    "                  lecture(C,D,P) : enroll(C), P >= 5 }.\n",
    "\n",
    "% safe\n",
    "extreme(D) :- day(D), n(N),  \n",
    "              N { lecture(C,D,P) : enroll(C), P <= 2 ;\n",
    "                  lecture(C,D,P) : not enroll(C), P >= 5 }.\n",
    "\n",
    "% unsafe\n",
    "extreme(D) :- not day(D), n(N),  % global\n",
    "              N { lecture(C,D,P) : enroll(C), P <= 2 ;\n",
    "                  lecture(C,D,P) : enroll(C), P >= 5 }.\n",
    "\n",
    "% unsafe\n",
    "extreme(D) :- day(D), n(N),  \n",
    "              N { lecture(C,D,P) : enroll(C), P <= 2 ;\n",
    "                  not lecture(C,D,P) : enroll(C), P >= 5 }."
   ]
  },
  {
   "cell_type": "markdown",
   "id": "39f0b72c-233c-45bd-b327-5251695ccb2f",
   "metadata": {
    "jp-MarkdownHeadingCollapsed": true,
    "tags": []
   },
   "source": [
    "## Count Aggregates"
   ]
  },
  {
   "cell_type": "code",
   "execution_count": null,
   "id": "d8db8980-0b8b-4b77-8dfd-b25eaad2731a",
   "metadata": {},
   "outputs": [],
   "source": [
    "%%file count_aggregates_1.lp\n",
    "\n",
    "many(D) :- day(D), number(N), N { enroll(C) : lecture(C,D,P) }.\n",
    "many(D) :- day(D), number(N), N #count { C : enroll(C), lecture(C,D,P) }.\n",
    "\n",
    "many(D) :- day(D), number(N), N { lecture(C,D,P) : enroll(C) }.\n",
    "many(D) :- day(D), number(N), N #count { C,D,P : enroll(C), lecture(C,D,P) }.\n",
    "\n",
    "many(D) :- day(D), number(N), N #count { D : enroll(C), lecture(C,D,P) }.\n",
    "many(D) :- day(D), number(N), N #count { P : enroll(C), lecture(C,D,P) }.\n",
    "many(D) :- day(D), number(N), N #count { C,P : enroll(C), lecture(C,D,P) }.\n",
    "\n",
    "% #count { D     : enroll(C), lecture(C,D,P) }. % days with some course    \n",
    "% #count { P     : enroll(C), lecture(C,D,P) }. % periods with some course\n",
    "% #count { D,P   : enroll(C), lecture(C,D,P) }. % slots with some (possibly overlapping) course\n",
    "% #count { C,D,P : enroll(C), lecture(C,D,P) }. % lectures\n",
    "\n",
    "extreme(D) :- day(D), n(N),  \n",
    "              N { lecture(C,D,P) : enroll(C), P <= 2 ;\n",
    "                  lecture(C,D,P) : enroll(C), P >= 5 }.\n",
    "%\n",
    "extreme(D) :- day(D), n(N),  \n",
    "              N { C,P : lecture(C,D,P), enroll(C), P <= 2 ;\n",
    "                  C,P : lecture(C,D,P), enroll(C), P >= 5 }.\n",
    "    \n",
    "% #count { C     : conflict(D,P), lecture(C,D,P) }. % courses with some conflict    \n",
    "% #count { D     : conflict(D,P), lecture(C,D,P) }. % days with some conflict\n",
    "% #count { D,P   : conflict(D,P), lecture(C,D,P) }. % slots with some conflicts\n",
    "% #count { C,D,P : conflict(D,P), lecture(C,D,P) }. % lectures with conflicts"
   ]
  },
  {
   "cell_type": "markdown",
   "id": "02e67a69-9515-413d-b288-ab182049f5b8",
   "metadata": {
    "jp-MarkdownHeadingCollapsed": true,
    "tags": []
   },
   "source": [
    "## Sum Aggregates"
   ]
  },
  {
   "cell_type": "code",
   "execution_count": null,
   "id": "d3c47039-3fbf-4648-8d88-a1aaed97836f",
   "metadata": {},
   "outputs": [],
   "source": [
    "%%file sum_aggregates_1.lp\n",
    "many(D) :- day(D), number(N), N { enroll(C) : lecture(C,D,P) }.\n",
    "many(D) :- day(D), number(N), N #count { C : enroll(C), lecture(C,D,P) }.\n",
    "many(D) :- day(D), number(N), N #sum { 1,C : enroll(C), lecture(C,D,P) }.\n",
    "\n",
    "many(D) :- day(D), number(N), N { lecture(C,D,P) : enroll(C) }.\n",
    "many(D) :- day(D), number(N), N #count { C,D,P : enroll(C), lecture(C,D,P) }.\n",
    "many(D) :- day(D), number(N), N #sum { 1,C,D,P : enroll(C), lecture(C,D,P) }."
   ]
  },
  {
   "cell_type": "code",
   "execution_count": null,
   "id": "f9ba691d-9c72-4279-a1a0-3d88118f05e5",
   "metadata": {},
   "outputs": [],
   "source": [
    "%%file sum_aggregates_2.lp\n",
    "credits(C,Cr). ...\n",
    "credits_range(25,35).\n",
    "in_limits :- limit(M,N), M { Cr,C : enroll(C), credits(C,Cr) }.\n",
    "                           % Cr   : enroll(C), credits(C,Cr) } ?\n",
    "                           %    C : enroll(C), credits(C,Cr) } ?    "
   ]
  },
  {
   "cell_type": "code",
   "execution_count": 14,
   "id": "251252c5-67cf-4931-a39b-d4a1a5b91854",
   "metadata": {},
   "outputs": [
    {
     "name": "stdout",
     "output_type": "stream",
     "text": [
      "Overwriting sum_aggregates_3.lp\n"
     ]
    }
   ],
   "source": [
    "%%file sum_aggregates_3.lp\n",
    "good_limit(30).\n",
    "good :- good_limit(N), \n",
    "        N #sum { 5,D,P : enroll(C), lecture(C,D,P), early(C,D) ;\n",
    "                 2,D,P : enroll(C), lecture(C,D,P), late(C,D)  ;\n",
    "                -2,D,P : enroll(C1), lecture(C1,D,P1), \n",
    "                         enroll(C2), lecture(C2,D,P1+1),       ;\n",
    "                -5,D   : free_day(D)                           }. % multiply by credits credits(C,Cr) [arithmetics]\n",
    "\n",
    "busy_day(D) :- day(D), enroll(C), lecture(C,D,P).\n",
    "free_day(D) :- day(D), not busy_day(D)."
   ]
  },
  {
   "cell_type": "markdown",
   "id": "c41014c6-2f0d-4fb4-b161-f07fc14655cb",
   "metadata": {},
   "source": [
    "* Safety"
   ]
  },
  {
   "cell_type": "markdown",
   "id": "c06c56ac-37ad-4bda-b319-41fb7e4fbe0c",
   "metadata": {
    "jp-MarkdownHeadingCollapsed": true,
    "tags": []
   },
   "source": [
    "## Conditional literals"
   ]
  },
  {
   "cell_type": "code",
   "execution_count": null,
   "id": "4fa905b2-3aba-4782-a357-ad9690ca11a2",
   "metadata": {},
   "outputs": [],
   "source": [
    "%%file conditional_literals_1.lp\n",
    "\n",
    " free_day(D) :- day(D), not enroll(C) : lecture(C,D,P).     \n",
    "free_late(D) :- day(D), not enroll(C) : lecture(C,D,P), P >= 2.     \n",
    "\n",
    "full_slot(D,P) :- day(D), period(P), enroll(C), lecture(C,D,P).\n",
    "full_day(D) :- day(D), full_slot(D,P) : period(P).\n",
    "full_week :- full_day(D) : day(D).           \n",
    "        \n",
    "full_week :- 0 #sum { -1,D : day(D)              ;\n",
    "                       1,D : day(D), full_day(D) } 0.\n",
    "\n",
    "free_day(D) :- day(D), 0 #sum { -1,C,D,P : lecture(C,D,P)                ;\n",
    "                                 1,C,D,P : lecture(C,D,P), not enroll(C) }.\n",
    "\n",
    "% unsafe\n",
    "% full_week :- full_day(D) : not day(D).    \n",
    "% because unsafe\n",
    "% full_week :- 0 #sum { -1,D : not day(D)              ;\n",
    "%                        1,D : full_day(D), day(D) } 0.\n"
   ]
  },
  {
   "cell_type": "markdown",
   "id": "12336056-cd5c-4634-bb7e-77ab69db2c2f",
   "metadata": {
    "jp-MarkdownHeadingCollapsed": true,
    "tags": []
   },
   "source": [
    "## Recursion"
   ]
  },
  {
   "cell_type": "code",
   "execution_count": null,
   "id": "7e5ecb47-c3b0-416e-8521-a638eb388c3a",
   "metadata": {},
   "outputs": [],
   "source": [
    "%%file recursion_1.lp\n",
    "course(C).\n",
    "module(M).\n",
    "depends(M,C).\n",
    "\n",
    "idepends(M,X) :- depends(M,X).\n",
    "idepends(M,X) :- idepends(M,Y), idepends(Y,X).\n",
    "\n",
    "passed(M) :- module(M), 2 { passed(X) : depends(M,X) }.\n",
    "\n",
    "passed(M) :- module(M), passed(X) : depends(M,X).\n",
    "passed(M) :- module(M), 0 #sum { -1,M,X : depends(M,X);\n",
    "                                  1,M,X : depends(M,X), passed(X) }."
   ]
  },
  {
   "cell_type": "code",
   "execution_count": null,
   "id": "7e049404-8174-443a-9a82-a97ff557c4ed",
   "metadata": {},
   "outputs": [],
   "source": [
    "%%file recursion_2.lp\n",
    "\n",
    "a :- not b. \n",
    "b :- not a.\n",
    "\n",
    "a :- { b } 0.\n",
    "b :- { a } 0.\n",
    "% Easy ASP: in recursive aggregates there are no upper bounds\n",
    "\n",
    "a :- 0 #sum { -1 : b }.\n",
    "b :- 0 #sum { -1 : a }.\n",
    "% Easy ASP: in recursive aggregates the recursive predicates have positive weight\n",
    "\n",
    "% Easy ASP: if the body holds, it will also hold if more atoms of the recursive predicates hold\n",
    "\n",
    "% Observe conditional literals: Easy if only recursion is in the left literal and it is an atom...\n"
   ]
  },
  {
   "cell_type": "markdown",
   "id": "5350e0b3-2072-4260-88a6-2b3da4c6ab2f",
   "metadata": {
    "jp-MarkdownHeadingCollapsed": true,
    "tags": []
   },
   "source": [
    "## Optimization"
   ]
  },
  {
   "cell_type": "code",
   "execution_count": null,
   "id": "5b0eb35b-e2b6-4de2-8409-89f0f7c72fc3",
   "metadata": {},
   "outputs": [],
   "source": [
    "%%file optimization.lp\n",
    "good :- good_limit(N), \n",
    "        N #sum { 5,D,P : enroll(C), lecture(C,D,P), early(C,D)   ;\n",
    "                 2,D,P : enroll(C), lecture(C,D,P), late(C,D)    ;\n",
    "                -2,D,P : enroll(C1), lecture(C1,D,P1), \n",
    "                         enroll(C2), lecture(C2,D,P2), P2 = P+1  ;\n",
    "                -5,D   : free_day(D)                             }.\n",
    "\n",
    "#minimize { 5,D,P : enroll(C), lecture(C,D,P), early(C,D)   ;\n",
    "            2,D,P : enroll(C), lecture(C,D,P), late(C,D)    ;\n",
    "           -2,D,P : enroll(C1), lecture(C1,D,P1), \n",
    "                    enroll(C2), lecture(C2,D,P2), P2 = P+1  ;\n",
    "           -5,D   : free_day(D)                             }.\n",
    "\n",
    "#maximize { -5,D,P : enroll(C), lecture(C,D,P), early(C,D)   ;\n",
    "            -2,D,P : enroll(C), lecture(C,D,P), late(C,D)    ;\n",
    "             2,D,P : enroll(C1), lecture(C1,D,P1), \n",
    "                    enroll(C2), lecture(C2,D,P2), P2 = P+1  ;\n",
    "             5,D   : free_day(D)                             }.\n",
    "\n",
    "% one minimize per line\n",
    "\n",
    "% maximizes\n",
    "\n",
    "% one weak constraint per line\n",
    "                \n",
    "% priorities"
   ]
  }
 ],
 "metadata": {
  "kernelspec": {
   "display_name": "Python 3 (ipykernel)",
   "language": "python",
   "name": "python3"
  },
  "language_info": {
   "codemirror_mode": {
    "name": "ipython",
    "version": 3
   },
   "file_extension": ".py",
   "mimetype": "text/x-python",
   "name": "python",
   "nbconvert_exporter": "python",
   "pygments_lexer": "ipython3",
   "version": "3.9.7"
  }
 },
 "nbformat": 4,
 "nbformat_minor": 5
}
