{
 "cells": [
  {
   "cell_type": "markdown",
   "metadata": {},
   "source": [
    "# Introduction\n",
    "This notebook contains the examples of the Introduction of the tutorial *Easy answer set programming*."
   ]
  },
  {
   "cell_type": "markdown",
   "metadata": {},
   "source": [
    "# Examples"
   ]
  },
  {
   "cell_type": "code",
   "execution_count": 1,
   "metadata": {},
   "outputs": [
    {
     "name": "stdout",
     "output_type": "stream",
     "text": [
      "Writing example1.lp\n"
     ]
    }
   ],
   "source": [
    "%%file example1.lp\n",
    "{a}.\n",
    "b :- a.\n",
    ":- not b."
   ]
  },
  {
   "cell_type": "code",
   "execution_count": 2,
   "metadata": {},
   "outputs": [
    {
     "name": "stdout",
     "output_type": "stream",
     "text": [
      "clingo version 5.4.0\r\n",
      "Reading from example1.lp\r\n",
      "Solving...\r\n",
      "Answer: 1\r\n",
      "b a\r\n",
      "SATISFIABLE\r\n",
      "\r\n",
      "Models       : 1\r\n",
      "Calls        : 1\r\n",
      "Time         : 0.000s (Solving: 0.00s 1st Model: 0.00s Unsat: 0.00s)\r\n",
      "CPU Time     : 0.000s\r\n"
     ]
    }
   ],
   "source": [
    "!clingo example1.lp 0"
   ]
  },
  {
   "cell_type": "code",
   "execution_count": 3,
   "metadata": {},
   "outputs": [
    {
     "name": "stdout",
     "output_type": "stream",
     "text": [
      "Writing example2.lp\n"
     ]
    }
   ],
   "source": [
    "%%file example2.lp\n",
    "{a}.\n",
    " b :- a.\n",
    "{c}:- not a.\n",
    " d :- not b, not c.\n",
    "   :- c, not a."
   ]
  },
  {
   "cell_type": "code",
   "execution_count": 4,
   "metadata": {},
   "outputs": [
    {
     "name": "stdout",
     "output_type": "stream",
     "text": [
      "clingo version 5.4.0\r\n",
      "Reading from example2.lp\r\n",
      "Solving...\r\n",
      "Answer: 1\r\n",
      "d\r\n",
      "Answer: 2\r\n",
      "a b\r\n",
      "SATISFIABLE\r\n",
      "\r\n",
      "Models       : 2\r\n",
      "Calls        : 1\r\n",
      "Time         : 0.001s (Solving: 0.00s 1st Model: 0.00s Unsat: 0.00s)\r\n",
      "CPU Time     : 0.001s\r\n"
     ]
    }
   ],
   "source": [
    "!clingo example2.lp 0"
   ]
  },
  {
   "cell_type": "markdown",
   "metadata": {},
   "source": [
    "# Variables"
   ]
  },
  {
   "cell_type": "code",
   "execution_count": 5,
   "metadata": {},
   "outputs": [
    {
     "name": "stdout",
     "output_type": "stream",
     "text": [
      "Writing example3.lp\n"
     ]
    }
   ],
   "source": [
    "%%file example3.lp\n",
    "n(1).\n",
    "{a(X)}:- n(X).\n",
    " b(X) :- a(X).\n",
    "      :- n(X), not b(X)."
   ]
  },
  {
   "cell_type": "code",
   "execution_count": 6,
   "metadata": {},
   "outputs": [
    {
     "name": "stdout",
     "output_type": "stream",
     "text": [
      "clingo version 5.4.0\r\n",
      "Reading from example3.lp\r\n",
      "Solving...\r\n",
      "Answer: 1\r\n",
      "n(1) b(1) a(1)\r\n",
      "SATISFIABLE\r\n",
      "\r\n",
      "Models       : 1\r\n",
      "Calls        : 1\r\n",
      "Time         : 0.001s (Solving: 0.00s 1st Model: 0.00s Unsat: 0.00s)\r\n",
      "CPU Time     : 0.001s\r\n"
     ]
    }
   ],
   "source": [
    "!clingo example3.lp"
   ]
  },
  {
   "cell_type": "code",
   "execution_count": 7,
   "metadata": {},
   "outputs": [
    {
     "name": "stdout",
     "output_type": "stream",
     "text": [
      "Writing example4.lp\n"
     ]
    }
   ],
   "source": [
    "%%file example4.lp\n",
    "n(1).\n",
    "{a(X)}:- n(X).\n",
    " b(X) :- a(X).\n",
    "      :- n(X), not b(X).\n",
    "n(2)."
   ]
  },
  {
   "cell_type": "code",
   "execution_count": 8,
   "metadata": {},
   "outputs": [
    {
     "name": "stdout",
     "output_type": "stream",
     "text": [
      "clingo version 5.4.0\r\n",
      "Reading from example4.lp\r\n",
      "Solving...\r\n",
      "Answer: 1\r\n",
      "n(1) n(2) b(1) b(2) a(1) a(2)\r\n",
      "SATISFIABLE\r\n",
      "\r\n",
      "Models       : 1\r\n",
      "Calls        : 1\r\n",
      "Time         : 0.001s (Solving: 0.00s 1st Model: 0.00s Unsat: 0.00s)\r\n",
      "CPU Time     : 0.001s\r\n"
     ]
    }
   ],
   "source": [
    "!clingo example4.lp 0"
   ]
  },
  {
   "cell_type": "markdown",
   "metadata": {},
   "source": [
    "# Recursion"
   ]
  },
  {
   "cell_type": "code",
   "execution_count": 9,
   "metadata": {},
   "outputs": [
    {
     "name": "stdout",
     "output_type": "stream",
     "text": [
      "Writing example5.lp\n"
     ]
    }
   ],
   "source": [
    "%%file example5.lp\n",
    "{a}.\n",
    "b :- c.\n",
    "c :- a.\n",
    "a :- b."
   ]
  },
  {
   "cell_type": "code",
   "execution_count": 10,
   "metadata": {},
   "outputs": [
    {
     "name": "stdout",
     "output_type": "stream",
     "text": [
      "clingo version 5.4.0\r\n",
      "Reading from example5.lp\r\n",
      "Solving...\r\n",
      "Answer: 1\r\n",
      "\r\n",
      "Answer: 2\r\n",
      "a c b\r\n",
      "SATISFIABLE\r\n",
      "\r\n",
      "Models       : 2\r\n",
      "Calls        : 1\r\n",
      "Time         : 0.000s (Solving: 0.00s 1st Model: 0.00s Unsat: 0.00s)\r\n",
      "CPU Time     : 0.000s\r\n"
     ]
    }
   ],
   "source": [
    "!clingo example5.lp 0"
   ]
  },
  {
   "cell_type": "code",
   "execution_count": 11,
   "metadata": {},
   "outputs": [
    {
     "name": "stdout",
     "output_type": "stream",
     "text": [
      "Writing example6.lp\n"
     ]
    }
   ],
   "source": [
    "%%file example6.lp\n",
    "{a}.\n",
    "{b} :- c.\n",
    "{c} :- a.\n",
    "{a} :- b."
   ]
  },
  {
   "cell_type": "code",
   "execution_count": 12,
   "metadata": {},
   "outputs": [
    {
     "name": "stdout",
     "output_type": "stream",
     "text": [
      "clingo version 5.4.0\r\n",
      "Reading from example6.lp\r\n",
      "Solving...\r\n",
      "Answer: 1\r\n",
      "\r\n",
      "Answer: 2\r\n",
      "a\r\n",
      "Answer: 3\r\n",
      "a c\r\n",
      "Answer: 4\r\n",
      "a c b\r\n",
      "SATISFIABLE\r\n",
      "\r\n",
      "Models       : 4\r\n",
      "Calls        : 1\r\n",
      "Time         : 0.001s (Solving: 0.00s 1st Model: 0.00s Unsat: 0.00s)\r\n",
      "CPU Time     : 0.001s\r\n"
     ]
    }
   ],
   "source": [
    "!clingo example6.lp 0"
   ]
  },
  {
   "cell_type": "code",
   "execution_count": 13,
   "metadata": {},
   "outputs": [
    {
     "name": "stdout",
     "output_type": "stream",
     "text": [
      "Writing traveling.lp\n"
     ]
    }
   ],
   "source": [
    "%%file traveling.lp\n",
    "start(a).\n",
    "road(a,b). road(b,c). road(c,d). road(d,a).\n",
    "\n",
    "visit(Y) :- road(X,Y), start(X).\n",
    "\n",
    "visit(Y) :- road(X,Y), visit(X)."
   ]
  },
  {
   "cell_type": "code",
   "execution_count": 14,
   "metadata": {},
   "outputs": [
    {
     "name": "stdout",
     "output_type": "stream",
     "text": [
      "clingo version 5.4.0\r\n",
      "Reading from traveling.lp\r\n",
      "Solving...\r\n",
      "Answer: 1\r\n",
      "start(a) road(a,b) road(b,c) road(c,d) road(d,a) visit(b) visit(c) visit(d) visit(a)\r\n",
      "SATISFIABLE\r\n",
      "\r\n",
      "Models       : 1\r\n",
      "Calls        : 1\r\n",
      "Time         : 0.001s (Solving: 0.00s 1st Model: 0.00s Unsat: 0.00s)\r\n",
      "CPU Time     : 0.001s\r\n"
     ]
    }
   ],
   "source": [
    "!clingo traveling.lp 0"
   ]
  },
  {
   "cell_type": "code",
   "execution_count": 15,
   "metadata": {},
   "outputs": [
    {
     "name": "stdout",
     "output_type": "stream",
     "text": [
      "Writing numbers.lp\n"
     ]
    }
   ],
   "source": [
    "%%file numbers.lp\n",
    "next(1,2). next(2,3). next(3,4). next(4,5).\n",
    "odd(1).\n",
    "\n",
    "even(N) :-  odd(M), next(M,N).\n",
    " odd(N) :- even(M), next(M,N)."
   ]
  },
  {
   "cell_type": "code",
   "execution_count": 16,
   "metadata": {},
   "outputs": [
    {
     "name": "stdout",
     "output_type": "stream",
     "text": [
      "clingo version 5.4.0\r\n",
      "Reading from numbers.lp\r\n",
      "Solving...\r\n",
      "Answer: 1\r\n",
      "next(1,2) next(2,3) next(3,4) next(4,5) odd(1) odd(3) odd(5) even(2) even(4)\r\n",
      "SATISFIABLE\r\n",
      "\r\n",
      "Models       : 1\r\n",
      "Calls        : 1\r\n",
      "Time         : 0.001s (Solving: 0.00s 1st Model: 0.00s Unsat: 0.00s)\r\n",
      "CPU Time     : 0.001s\r\n"
     ]
    }
   ],
   "source": [
    "!clingo numbers.lp 0"
   ]
  },
  {
   "cell_type": "markdown",
   "metadata": {},
   "source": [
    "# Recursion and Negation"
   ]
  },
  {
   "cell_type": "code",
   "execution_count": 17,
   "metadata": {},
   "outputs": [
    {
     "name": "stdout",
     "output_type": "stream",
     "text": [
      "Writing negative_recursion.lp\n"
     ]
    }
   ],
   "source": [
    "%%file negative_recursion.lp\n",
    "{a}.\n",
    "b :- not c.\n",
    "c :- not a.\n",
    "a :- not b."
   ]
  },
  {
   "cell_type": "code",
   "execution_count": 18,
   "metadata": {},
   "outputs": [
    {
     "name": "stdout",
     "output_type": "stream",
     "text": [
      "clingo version 5.4.0\r\n",
      "Reading from negative_recursion.lp\r\n",
      "Solving...\r\n",
      "Answer: 1\r\n",
      "a b\r\n",
      "SATISFIABLE\r\n",
      "\r\n",
      "Models       : 1\r\n",
      "Calls        : 1\r\n",
      "Time         : 0.001s (Solving: 0.00s 1st Model: 0.00s Unsat: 0.00s)\r\n",
      "CPU Time     : 0.001s\r\n"
     ]
    }
   ],
   "source": [
    "!clingo negative_recursion.lp 0"
   ]
  },
  {
   "cell_type": "code",
   "execution_count": 19,
   "metadata": {},
   "outputs": [
    {
     "name": "stdout",
     "output_type": "stream",
     "text": [
      "Writing positive_recursion.lp\n"
     ]
    }
   ],
   "source": [
    "%%file positive_recursion.lp\n",
    "{a}.\n",
    "b :- c.\n",
    "c :- a.\n",
    "a :- b.\n",
    "d :- e, not a.\n",
    "e :- d, not b."
   ]
  },
  {
   "cell_type": "code",
   "execution_count": 20,
   "metadata": {},
   "outputs": [
    {
     "name": "stdout",
     "output_type": "stream",
     "text": [
      "clingo version 5.4.0\r\n",
      "Reading from positive_recursion.lp\r\n",
      "Solving...\r\n",
      "Answer: 1\r\n",
      "\r\n",
      "Answer: 2\r\n",
      "a c b\r\n",
      "SATISFIABLE\r\n",
      "\r\n",
      "Models       : 2\r\n",
      "Calls        : 1\r\n",
      "Time         : 0.001s (Solving: 0.00s 1st Model: 0.00s Unsat: 0.00s)\r\n",
      "CPU Time     : 0.001s\r\n"
     ]
    }
   ],
   "source": [
    "!clingo positive_recursion.lp 0"
   ]
  }
 ],
 "metadata": {
  "kernelspec": {
   "display_name": "Python 3",
   "language": "python",
   "name": "python3"
  },
  "language_info": {
   "codemirror_mode": {
    "name": "ipython",
    "version": 3
   },
   "file_extension": ".py",
   "mimetype": "text/x-python",
   "name": "python",
   "nbconvert_exporter": "python",
   "pygments_lexer": "ipython3",
   "version": "3.9.1"
  }
 },
 "nbformat": 4,
 "nbformat_minor": 4
}
