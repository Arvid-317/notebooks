{
 "cells": [
  {
   "cell_type": "markdown",
   "metadata": {},
   "source": [
    "# Environment\n",
    "\n",
    "This repository collects [Jupyter](https://jupyter.org/) notebooks deployed using \n",
    "[Binder](https://mybinder.readthedocs.io/en/latest/introduction.html#what-is-a-binder).\n",
    "Please click on the previous links to find out more about notebooks.\n",
    "\n",
    "The directory ``binder`` contains some configuration files\n",
    "that are used to install ``clingo`` (see ``binder/environment.yml``), \n",
    "and to define a magic command (see ``binder/postBuild``)\n",
    "that allows us to run ``clingo`` on the cells whose first line starts with\n",
    "``%clingo`` just by clicking on them. \n",
    "\n",
    "If you want to save your changes, \n",
    "you have to download the files that you have modified, \n",
    "and in the next session you have to upload them.\n",
    "For the download, go to the ``Files`` menu, \n",
    "tick the files that you want to download, and \n",
    "click the button ``Download``. \n",
    "For the upload, go to the ``Files`` menu, and click the button ``Upload``."
   ]
  }
 ],
 "metadata": {
  "kernelspec": {
   "display_name": "Python 3",
   "language": "python",
   "name": "python3"
  },
  "language_info": {
   "codemirror_mode": {
    "name": "ipython",
    "version": 3
   },
   "file_extension": ".py",
   "mimetype": "text/x-python",
   "name": "python",
   "nbconvert_exporter": "python",
   "pygments_lexer": "ipython3",
   "version": "3.9.0"
  }
 },
 "nbformat": 4,
 "nbformat_minor": 4
}
