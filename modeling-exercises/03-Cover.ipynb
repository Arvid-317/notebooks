{
 "cells": [
  {
   "cell_type": "markdown",
   "metadata": {},
   "source": [
    "# Vertex cover.\n",
    "\n",
    "**The problem**: Given  an  undirected  graph,\n",
    "the  vertex  cover  problem  is  to  select  a  subset  of  vertices\n",
    "such that each edge includes some selected vertex,\n",
    "where the number of selected vertices must not exceed a given threshold.\n",
    "\n",
    "**An example:**\n",
    "The graph $(\\{1,2,3,4,5,6\\},\\{\\{1,2\\},\\{1,3\\},\\{2,4\\},\\{3,5\\},\\{4,5\\},\\{4,6\\}\\})$\n",
    "has three vertex covers with at most $3$ vertices: $\\{1,3,4\\}$, $\\{1,4,5\\}$ and $\\{2,3,4\\}$.\n",
    "\n",
    "**Instance format**: We represent such a problem instance by facts as follows."
   ]
  },
  {
   "cell_type": "code",
   "execution_count": null,
   "metadata": {
    "scrolled": true
   },
   "outputs": [],
   "source": [
    "%%file instance-cover.lp\n",
    "vertex(1). vertex(2). vertex(3). vertex(4). vertex(5). vertex(6).\n",
    "edge(1,2). edge(1,3). edge(2,4). edge(3,5). edge(4,5). edge(4,6).\n",
    "threshold(3)."
   ]
  },
  {
   "cell_type": "markdown",
   "metadata": {},
   "source": [
    "**The task**: Specify a uniform problem encoding such that atoms over the predicate ``select/1`` within the stable models correspond to vertex covers for arbitrary instances (see the output under **Help** below)."
   ]
  },
  {
   "cell_type": "code",
   "execution_count": null,
   "metadata": {},
   "outputs": [],
   "source": [
    "%%clingo 0 instance-cover.lp -\n",
    "\n",
    "% your encoding goes here...\n",
    "\n",
    "% show\n",
    "#show select/1."
   ]
  },
  {
   "cell_type": "markdown",
   "metadata": {},
   "source": [
    "The symbol ``-`` in the command call tells ``clingo`` to read the instance file _and_ the content of the cell. "
   ]
  },
  {
   "cell_type": "markdown",
   "metadata": {},
   "source": [
    "**Help**: The next cell contains a hard to read encoding for the problem that\n",
    "you can use for testing your solution.\n",
    "A readable version of it can be found in the ``solutions`` directory."
   ]
  },
  {
   "cell_type": "code",
   "execution_count": 5,
   "metadata": {},
   "outputs": [
    {
     "name": "stdout",
     "output_type": "stream",
     "text": [
      "clingo version 5.4.0\n",
      "Reading from instance-cover.lp ...\n",
      "Solving...\n",
      "Answer: 1\n",
      "select(2) select(3) select(4)\n",
      "Answer: 2\n",
      "select(1) select(4) select(5)\n",
      "Answer: 3\n",
      "select(1) select(3) select(4)\n",
      "SATISFIABLE\n",
      "\n",
      "Models       : 3\n",
      "Calls        : 1\n",
      "Time         : 0.002s (Solving: 0.00s 1st Model: 0.00s Unsat: 0.00s)\n",
      "CPU Time     : 0.002s\n"
     ]
    }
   ],
   "source": [
    "%%clingo 0 instance-cover.lp -\n",
    "#show select/1.fhui43uh984389hiu43jnjkd8989z34rbiuu3ujh4389z98zhui34tkj(JErgergerGJEWGergergj443tegKEGERGER45ETERGer_fferf4f):-threshold(JErgergerGJEWGergergj443tegKEGERGER45ETERGer_fferf4f).fhui43uh984389hiu43jnjkjnerfe89u89uehjne7489hu43hjfre_ewfef_wej(EWEFJ34534534K_wefwef_4RRRRFSDFSDF):-vertex(EWEFJ34534534K_wefwef_4RRRRFSDFSDF).fhuzzdfgedgrg989hjknjer843t_34t43tt_t4_89uehjne7489hu43hjfre_ewfef_wej(EWEFJ34534534K_wefwef_4RRRRFSDFSDF,RERGERG345345_ergerg_435345ETERGer_fferf4f):-edge(EWEFJ34534534K_wefwef_4RRRRFSDFSDF,RERGERG345345_ergerg_435345ETERGer_fferf4f).ndvjnofefe345345345sdfsdf43ASDffsdfdsf(EWEFJ34534534K_wefwef_4RRRRFSDFSDF,RERGERG345345_ergerg_435345ETERGer_fferf4f):-fhuzzdfgedgrg989hjknjer843t_34t43tt_t4_89uehjne7489hu43hjfre_ewfef_wej(EWEFJ34534534K_wefwef_4RRRRFSDFSDF,RERGERG345345_ergerg_435345ETERGer_fferf4f),eorhfoi234_234234_23423njer843t_34t43tt_t4_89uehjne7489hu43hjfre_ewfef_wej(EWEFJ34534534K_wefwef_4RRRRFSDFSDF).:-fhuzzdfgedgrg989hjknjer843t_34t43tt_t4_89uehjne7489hu43hjfre_ewfef_wej(EWEFJ34534534K_wefwef_4RRRRFSDFSDF,RERGERG345345_ergerg_435345ETERGer_fferf4f),not ndvjnofefe345345345sdfsdf43ASDffsdfdsf(EWEFJ34534534K_wefwef_4RRRRFSDFSDF,RERGERG345345_ergerg_435345ETERGer_fferf4f).select(EWEFJ34534534K_wefwef_4RRRRFSDFSDF):-eorhfoi234_234234_23423njer843t_34t43tt_t4_89uehjne7489hu43hjfre_ewfef_wej(EWEFJ34534534K_wefwef_4RRRRFSDFSDF).{eorhfoi234_234234_23423njer843t_34t43tt_t4_89uehjne7489hu43hjfre_ewfef_wej(EWEFJ34534534K_wefwef_4RRRRFSDFSDF):fhui43uh984389hiu43jnjkjnerfe89u89uehjne7489hu43hjfre_ewfef_wej(EWEFJ34534534K_wefwef_4RRRRFSDFSDF)}JErgergerGJEWGergergj443tegKEGERGER45ETERGer_fferf4f:-fhui43uh984389hiu43jnjkd8989z34rbiuu3ujh4389z98zhui34tkj(JErgergerGJEWGergergj443tegKEGERGER45ETERGer_fferf4f).ndvjnofefe345345345sdfsdf43ASDffsdfdsf(EWEFJ34534534K_wefwef_4RRRRFSDFSDF,RERGERG345345_ergerg_435345ETERGer_fferf4f):-fhuzzdfgedgrg989hjknjer843t_34t43tt_t4_89uehjne7489hu43hjfre_ewfef_wej(EWEFJ34534534K_wefwef_4RRRRFSDFSDF,RERGERG345345_ergerg_435345ETERGer_fferf4f),eorhfoi234_234234_23423njer843t_34t43tt_t4_89uehjne7489hu43hjfre_ewfef_wej(RERGERG345345_ergerg_435345ETERGer_fferf4f)."
   ]
  }
 ],
 "metadata": {
  "kernelspec": {
   "display_name": "Python 3",
   "language": "python",
   "name": "python3"
  },
  "language_info": {
   "codemirror_mode": {
    "name": "ipython",
    "version": 3
   },
   "file_extension": ".py",
   "mimetype": "text/x-python",
   "name": "python",
   "nbconvert_exporter": "python",
   "pygments_lexer": "ipython3",
   "version": "3.9.0"
  }
 },
 "nbformat": 4,
 "nbformat_minor": 4
}
