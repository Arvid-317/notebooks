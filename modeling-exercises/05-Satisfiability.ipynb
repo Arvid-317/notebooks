{
 "cells": [
  {
   "cell_type": "markdown",
   "metadata": {},
   "source": [
    "# Propositional satisfiability.\n",
    "\n",
    "**The problem**: A clause is a disjunction of literals.\n",
    "Given a set of clauses the propositional satisfiability problem is\n",
    "to find a satisfying truth assignment, i.e., a consistent set of literals such that at least\n",
    "one literal holds in each clause. \n",
    "\n",
    "**An example:** The clauses $a \\vee b$, $\\neg a \\vee \\neg b \\vee c$, and \n",
    "$ \\neg b \\vee \\neg c$\n",
    "have three models: $\\{ a, \\neg b, c\\}$, $\\{a, \\neg b, \\neg c\\}$, and $\\{ \\neg a, b, \\neg c\\}$. \n",
    "\n",
    "**Instance format**: We represent such a problem instance by facts as follows."
   ]
  },
  {
   "cell_type": "code",
   "execution_count": null,
   "metadata": {
    "scrolled": true
   },
   "outputs": [],
   "source": [
    "%%file instances/instance-satisfiability.lp\n",
    "clause(1). literal(1,pos,a). literal(1,pos,b).                      % { a v b}\n",
    "clause(2). literal(2,neg,a). literal(2,neg,b). literal(2,pos,c).    % { -a v -b v c }\n",
    "clause(3). literal(3,neg,b). literal(3,neg,c).                      % { -b v -c }"
   ]
  },
  {
   "cell_type": "markdown",
   "metadata": {},
   "source": [
    "**The task**: Specify a uniform problem encoding such that atoms over the predicate ``holds/2`` within the stable models correspond to satisfying truth assignments for arbitrary instances (see the output under **Help** below)."
   ]
  },
  {
   "cell_type": "code",
   "execution_count": null,
   "metadata": {},
   "outputs": [],
   "source": [
    "%%script clingo 0 instances/instance-satisfiability.lp -\n",
    "\n",
    "% your encoding goes here...\n",
    "\n",
    "% show\n",
    "#show holds/2."
   ]
  },
  {
   "cell_type": "markdown",
   "metadata": {},
   "source": [
    "The symbol ``-`` in the command call tells ``clingo`` to read the instance file _and_ the content of the cell. "
   ]
  },
  {
   "cell_type": "markdown",
   "metadata": {},
   "source": [
    "**Help**: The next cell contains a hard to read encoding for the problem that\n",
    "you can use for testing your solution.\n",
    "A readable version of it can be found in the ``solutions`` directory."
   ]
  },
  {
   "cell_type": "code",
   "execution_count": 3,
   "metadata": {},
   "outputs": [
    {
     "name": "stdout",
     "output_type": "stream",
     "text": [
      "clingo version 5.4.0\n",
      "Reading from instances/instance-satisfiability.lp ...\n",
      "Solving...\n",
      "Answer: 1\n",
      "holds(pos,b) holds(neg,a) holds(neg,c)\n",
      "Answer: 2\n",
      "holds(pos,a) holds(neg,b) holds(pos,c)\n",
      "Answer: 3\n",
      "holds(pos,a) holds(neg,b) holds(neg,c)\n",
      "SATISFIABLE\n",
      "\n",
      "Models       : 3\n",
      "Calls        : 1\n",
      "Time         : 0.001s (Solving: 0.00s 1st Model: 0.00s Unsat: 0.00s)\n",
      "CPU Time     : 0.001s\n"
     ]
    }
   ],
   "source": [
    "%%clingo 0 instances/instance-satisfiability.lp -\n",
    "#show holds/2.{holds(pos,Bfuiwhui345ui43h5bjkcjnsj43089809fjiosFSDiuhrwe2r3);holds(neg,Bfuiwhui345ui43h5bjkcjnsj43089809fjiosFSDiuhrwe2r3)}=1:-fuiwhui345ui43h5bjkcjnsj43089809fjioswnjkfnw09427u09hSDFSDiuhrwe2r3(Bfuiwhui345ui43h5bjkcjnsj43089809fjiosFSDiuhrwe2r3).fuiwhui345ui43h5bjkcjnsj43089809fjiosFSDiuhrwe2r3(Bfuiwhui345ui43h5bjkcjnsj4308980O9fjiosFSDiuhrwe2r3):-literal(Bfuiwhui345ui43h5bjkcjnsj4308980O9fjiosFSDiuhrwe2r3,Bfuiwhui345ui43h5bjkcjnsj4308980O9fjViosFSDiuhrwe2r3,Bfuiwhui345ui43h5bjkcjnsj43089809fjiosFSDiuhrwe2r3),holds(Bfuiwhui345ui43h5bjkcjnsj4308980O9fjViosFSDiuhrwe2r3,Bfuiwhui345ui43h5bjkcjnsj43089809fjiosFSDiuhrwe2r3).:-clause(Bfuiwhui345ui43h5bjkcjnsj4308980O9fjiosFSDiuhrwe2r3),not fuiwhui345ui43h5bjkcjnsj43089809fjiosFSDiuhrwe2r3(Bfuiwhui345ui43h5bjkcjnsj4308980O9fjiosFSDiuhrwe2r3).fuiwhui345ui43h5bjkcjnsj43089809fjioswnjkfnw09427u09hSDFSDiuhrwe2r3(Bfuiwhui345ui43h5bjkcjnsj43089809fjiosFSDiuhrwe2r3):-literal(Bfuiwhui345ui43h5bjkcjnsj4308980O9fjiosFSDiuhrwe2r3,Bfuiwhui345ui43h5bjkcjnsj4308980O9fjViosFSDiuhrwe2r3,Bfuiwhui345ui43h5bjkcjnsj43089809fjiosFSDiuhrwe2r3)."
   ]
  }
 ],
 "metadata": {
  "kernelspec": {
   "display_name": "Python 3",
   "language": "python",
   "name": "python3"
  },
  "language_info": {
   "codemirror_mode": {
    "name": "ipython",
    "version": 3
   },
   "file_extension": ".py",
   "mimetype": "text/x-python",
   "name": "python",
   "nbconvert_exporter": "python",
   "pygments_lexer": "ipython3",
   "version": "3.9.0"
  }
 },
 "nbformat": 4,
 "nbformat_minor": 4
}
