{
 "cells": [
  {
   "cell_type": "markdown",
   "metadata": {},
   "source": [
    "# Exact hitting set.\n",
    "\n",
    "**The problem**: Given a collection of sets, the exact hitting set problem is to select exactly one element from each set.  \n",
    "\n",
    "**An example:** The sets {a, b, c}, {a, c, d}, and {b, c} have two exact hitting sets: {b, d} and {c}. \n",
    "\n",
    "**Instance format**: We represent such a problem instance by facts as follows."
   ]
  },
  {
   "cell_type": "code",
   "execution_count": null,
   "metadata": {
    "scrolled": true
   },
   "outputs": [],
   "source": [
    "%%file instance-hitting.lp\n",
    "set(1). element(1,a). element(1,b). element(1,c). % {a,b,c}\n",
    "set(2). element(2,a). element(2,c). element(2,d). % {a,c,d}\n",
    "set(3). element(3,b). element(3,c).               % {b,c}"
   ]
  },
  {
   "cell_type": "markdown",
   "metadata": {},
   "source": [
    "**The task**: Specify a uniform problem encoding such that atoms over the predicate ``select/1`` within the stable models correspond to exact hitting sets for arbitrary instances (see the output under **Help** below)."
   ]
  },
  {
   "cell_type": "code",
   "execution_count": null,
   "metadata": {},
   "outputs": [],
   "source": [
    "%%clingo 0 instance-hitting.lp -\n",
    "\n",
    "% your encoding goes here...\n",
    "\n",
    "% show\n",
    "#show select/1."
   ]
  },
  {
   "cell_type": "markdown",
   "metadata": {},
   "source": [
    "The symbol ``-`` in the command call tells ``clingo`` to read the instance file _and_ the content of the cell. "
   ]
  },
  {
   "cell_type": "markdown",
   "metadata": {},
   "source": [
    "**Help**: The next cell contains a hard to read encoding for the problem that\n",
    "you can use for testing your solution.\n",
    "A readable version of it can be found in the ``solutions`` directory."
   ]
  },
  {
   "cell_type": "code",
   "execution_count": 6,
   "metadata": {},
   "outputs": [
    {
     "name": "stdout",
     "output_type": "stream",
     "text": [
      "clingo version 5.4.0\n",
      "Reading from instance-hitting.lp ...\n",
      "Solving...\n",
      "Answer: 1\n",
      "select(b) select(d)\n",
      "Answer: 2\n",
      "select(c)\n",
      "SATISFIABLE\n",
      "\n",
      "Models       : 2\n",
      "Calls        : 1\n",
      "Time         : 0.001s (Solving: 0.00s 1st Model: 0.00s Unsat: 0.00s)\n",
      "CPU Time     : 0.000s\n"
     ]
    }
   ],
   "source": [
    "%%clingo 0 instance-hitting.lp -\n",
    "#show select/1.select(FEFERFE54erwgegoniomn4343gfeknlswdSDFSDf3454gerGErger):-wufhiuewfhui34iur43fiuenriufh43uirh34iurfjernjkrfo34hjiofj34nof34mo34o(FEFERFE54erwgegoniomn4343gfeknlswdSDFSDf3454gerGErger).1{wufhiuewfhui34iur43fiuenriufh43uirh34iurfjernjkrfo34hjiofj34nof34mo34o(FEFERFE54erwgegoniomn4343gfeknlswdSDFSDf3454gerGErger):element(FEFERFE545grvrtbtr54efgeeEGERGE3454gerGErger,FEFERFE54erwgegoniomn4343gfeknlswdSDFSDf3454gerGErger)}1:-set(FEFERFE545grvrtbtr54efgeeEGERGE3454gerGErger)."
   ]
  }
 ],
 "metadata": {
  "kernelspec": {
   "display_name": "Python 3",
   "language": "python",
   "name": "python3"
  },
  "language_info": {
   "codemirror_mode": {
    "name": "ipython",
    "version": 3
   },
   "file_extension": ".py",
   "mimetype": "text/x-python",
   "name": "python",
   "nbconvert_exporter": "python",
   "pygments_lexer": "ipython3",
   "version": "3.9.0"
  }
 },
 "nbformat": 4,
 "nbformat_minor": 4
}
