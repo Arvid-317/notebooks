{
 "cells": [
  {
   "cell_type": "markdown",
   "metadata": {},
   "source": [
    "# Problem Description.\n",
    "\n",
    "This project is based in the sections about clingo applications\n",
    "and multi-shot solving of the paper [1].\n",
    "Before starting, we recommend you to read them carefully.\n",
    "The idea of the project comes from the paper [2].\n",
    "\n",
    "* [1] Kaminski, R., Romero, J., Schaub, T., & Wanko, P. (2020). How to build your own ASP-based system?! CoRR, abs/2008.06692.\n",
    "* [2] El-Kholany, M. M. S. & Gebser, M. (2020). Job Shop Scheduling with Multi-shot ASP. TAASP 2020.\n",
    "    Available at: http://www.kr.tuwien.ac.at/events/taasp20/papers/TAASP_2020_paper_4.pdf\n",
    "\n",
    "The task of this project is to solve the Job Shop problem in ASP using multi-shot solving.\n",
    "For this, you have to write a clingo application in `Python` and an ASP encoding.\n",
    "\n",
    "This project extends the project on `scheduling` that you can find at the parent directory.\n",
    "Please finish that project before starting with this one.\n",
    "In that project you had to write an ASP encoding for solving the Job Shop problem.\n",
    "In this project you will extend your previous work to improve its performance.\n",
    "\n",
    "In the Job Shop problem every job consists of some operations that have to be performed in a given sequence.\n",
    "In this project, we assign to every operation its earliest starting point,\n",
    "i.e., the sum of processing times of predecessor operations belonging to the same job.\n",
    "The operations of a job could be processed at their earliest starting times if the machines were free.\n",
    "However, machines may be occupied by operations of other jobs,\n",
    "so that the earliest starting times merely provide a lower bound on the actual starting times of the operations.\n",
    "\n",
    "Given some facts about the predicates `duration/3` and `sequence/3`\n",
    "describing an instance (see the `scheduling` project for more information)\n",
    "the earliest starting point `E` of the operation of job `J` on machine `M`\n",
    "can be defined by the following rule:\n",
    "```\n",
    "est(J,M,E) :- sequence(J,M,S), E = #sum{DD,MM,SS : sequence(J,MM,SS), SS<S, duration(J,MM,DD)}.\n",
    "```\n",
    " \n",
    "In this project, we will split the set of all operations into time windows based on the earliest starting time.\n",
    "Given an instance with `o` operations and `w` time windows,\n",
    "the `i`-th time window for `1 <= i < w`\n",
    "includes the operations at positions from `(i-1)*o/w + 1` to `i*o/w` (where `/` represents the integer division)\n",
    "and the `w`-th time window includes the operations at positions from `(i-1)*o/w + 1` to `o`.\n",
    "\n",
    "Using this decomposition, the operations have to be scheduled window wise, using multi-shot solving.\n",
    "First, the operations for time window `1` must be optimally scheduled (solving a logic program).\n",
    "Then, those operations should be fixed (using the functions about externals), and \n",
    "the operations for time window `2` must be optimally scheduled (again, solving a logic program).\n",
    "The process should continue in this way until the operations of all time windows have been scheduled.\n",
    "\n",
    "Note that the approach does not guarantee to find an schedule that is globally optimal.\n",
    "This is the price that we pay for the expected improvement of the overall solving time.\n",
    "\n",
    "In the following, we give some hints on the ASP encoding and the `clingo` application."
   ]
  },
  {
   "cell_type": "markdown",
   "metadata": {},
   "source": [
    "## Hints on the ASP encoding.\n",
    "\n",
    "In your ASP encoding, we suggest to define a predicate `window/1`\n",
    "representing the current time window `i`:\n",
    "```\n",
    "window(I)  % The current time window is I\n",
    "```\n",
    "Then the answer sets that do not have exactly one time window can be excluded with this constraint:\n",
    "```\n",
    ":- { window(I) } != 1.\n",
    "```\n",
    "\n",
    "You can select the operations of the current or previous time windows with this rule:\n",
    "```\n",
    "select(J,M) :- est(J,M,E),\n",
    "               Pos = #count{JJ,MM: est(JJ,MM,EE), EE<E},\n",
    "               O   = #count{JJ,MM: duration(JJ,MM,DD)},\n",
    "               window(I),\n",
    "               Pos <= (I*O)/w.\n",
    "```\n",
    "where `w` is the constant representing the number of time windows.\n",
    "\n",
    "Then the answer sets that schedule some operation of a posterior time window\n",
    "can be excluded with this constraint:\n",
    "```\n",
    ":- perm(J,M,P), not select(J,M).\n",
    "```\n",
    "where, as in the `scheduling` project, \n",
    "`perm(J,M,P)` is the output predicate representing that\n",
    "job `J` on machine `M` occurs at position `P`.\n",
    "\n",
    "The rest of the encoding should:\n",
    "* generate the atoms of the predicate `window/1` (possibly using external declarations),\n",
    "* generate the atoms of the predicate `perm/3` (possibly using external declarations),\n",
    "* adapt your encoding of the `scheduling` project to this new setting (where some operations may be not scheduled)."
   ]
  },
  {
   "cell_type": "markdown",
   "metadata": {},
   "source": [
    "## Hints on the `clingo` application.\n",
    "\n",
    "The application only needs to ground the encoding once.\n",
    "\n",
    "For every time window `i` where `1 <= i <= w`, the application\n",
    "has to establish that `window(i)` must be true,\n",
    "and compute an optimal model of the new encoding\n",
    "(that prohibits the scheduling of operations of posterior time windows).\n",
    "\n",
    "When `i>1`, the application also has to establish that\n",
    "the atoms of predicate `perm/3` of the previous time window `i-1` must be true.\n",
    "\n",
    "In the next cell you can find a template for the `clingo` application.\n",
    "In its current form, it solves a program `w` times, \n",
    "where `w` is a constant of the logic program, \n",
    "and prints the last optimal model."
   ]
  },
  {
   "cell_type": "code",
   "execution_count": 3,
   "metadata": {},
   "outputs": [
    {
     "name": "stdout",
     "output_type": "stream",
     "text": [
      "Overwriting multi-jobshop.py\n"
     ]
    }
   ],
   "source": [
    "%%file multi-jobshop.py\n",
    "import sys\n",
    "import clingo\n",
    "\n",
    "class MultiJobShopApp(clingo.Application):\n",
    "    program_name = \"multi-jobshop\"\n",
    "    version = \"1.0\"\n",
    "\n",
    "    def __init__(self):\n",
    "        self._model = None\n",
    "\n",
    "    def _on_model(self, model):\n",
    "        if model.optimality_proven:\n",
    "            self._model = model.symbols(shown=True)\n",
    "\n",
    "    def main(self, ctl, files):\n",
    "        for path in files: ctl.load(path)\n",
    "        if not files:\n",
    "            ctl.load(\"-\")\n",
    "        ctl.ground([(\"base\", [])], context=self)\n",
    "        # for every time window\n",
    "        for window in range(1, ctl.get_const(\"w\").number+1):\n",
    "            # do something else...\n",
    "            ctl.solve(on_model=self._on_model)\n",
    "        if self._model:\n",
    "            print(\"Answer:\\n{}\".format(\" \".join([str(atom) for atom in self._model])))\n",
    "\n",
    "if __name__ == \"__main__\":\n",
    "    clingo.clingo_main(MultiJobShopApp(), sys.argv[1:])"
   ]
  },
  {
   "cell_type": "markdown",
   "metadata": {},
   "source": [
    "Given the following logic program:"
   ]
  },
  {
   "cell_type": "code",
   "execution_count": 2,
   "metadata": {},
   "outputs": [
    {
     "name": "stdout",
     "output_type": "stream",
     "text": [
      "Overwriting example.lp\n"
     ]
    }
   ],
   "source": [
    "%%file example.lp\n",
    "{ a(X) : X=1..w } = 1.\n",
    "#minimize{ 1,X : a(X) }."
   ]
  },
  {
   "cell_type": "markdown",
   "metadata": {},
   "source": [
    "the next call computes an optimal model `3` times and prints the result of the last computation:"
   ]
  },
  {
   "cell_type": "code",
   "execution_count": null,
   "metadata": {},
   "outputs": [],
   "source": [
    "! python multi-jobshop.py example.lp --outf=3 --opt-mode=optN 1 -c w=3"
   ]
  },
  {
   "cell_type": "markdown",
   "metadata": {},
   "source": [
    "Option `--outf=3` eliminates the original `clingo` output. Options `--opt-mode=optN 1` tell `clingo` to compute one optimal model in each `solve` call. Options `-c w=3` establishes the value of constant `w` to `3`."
   ]
  },
  {
   "cell_type": "markdown",
   "metadata": {},
   "source": [
    "# Representation in ASP.\n",
    "\n",
    "The representation of the instances and the solutions is the same as\n",
    "that of the Job Shop problem from the `scheduling` project."
   ]
  },
  {
   "cell_type": "markdown",
   "metadata": {},
   "source": [
    "# Task.\n",
    "\n",
    "Write a clingo application in `Python` and an ASP encoding for solving the Job Shop problem\n",
    "using the multi-shot approach described above.\n",
    "Given an instance and the ASP encoding, the application should\n",
    "print one answer to the problem."
   ]
  },
  {
   "cell_type": "markdown",
   "metadata": {},
   "source": [
    "# Framework.\n",
    "\n",
    "In the directory ``instances`` you can find 16 instances.\n",
    "They are the same as the ones for the `scheduling` project.\n",
    "\n",
    "You have to submit two files named ``multi-jobshop.py`` and ``multi-jobshop.lp``,\n",
    "included as templates in this directory.\n",
    "The second one must contain the line\n",
    "```\n",
    "#show perm/3.\n",
    "```\n",
    "and no more ``#show`` statements, so that in the output only the corresponding atoms appear.\n",
    "\n",
    "The output should follow the format of the application template, \n",
    "i.e., using option `--outf=3` it should only print two lines:\n",
    "the first with the string `Answer:` \n",
    "and the second with the atoms of the solution in the usual format.\n",
    "\n",
    "We will test your submission using the following command line:\n",
    "```\n",
    "python multi-jobshop.py multi-jobshop.lp instance.lp --outf=3 --opt-mode=optN 1 -c w=3\n",
    "```\n",
    "where `instance.lp` is one instance. \n",
    "We will always set the value of `w` to `3`, but your code should work for any value of `w` greater than `0`."
   ]
  },
  {
   "cell_type": "markdown",
   "metadata": {},
   "source": [
    "Click the link at the following cell to download a zip file with the instances and the templates.·\n",
    "We recommend you to work with them in your own computer, using your own installation of ``clingo``."
   ]
  },
  {
   "cell_type": "code",
   "execution_count": 1,
   "metadata": {},
   "outputs": [
    {
     "data": {
      "text/html": [
       "Path (<tt>multi-shot.zip</tt>) doesn't exist. It may still be in the process of being generated, or you may have the incorrect path."
      ],
      "text/plain": [
       "/home/jovyan/advanced/multi-shot/multi-shot.zip"
      ]
     },
     "execution_count": 1,
     "metadata": {},
     "output_type": "execute_result"
    }
   ],
   "source": [
    "from IPython.display import FileLink\n",
    "FileLink(\"multi-shot.zip\")"
   ]
  },
  {
   "cell_type": "markdown",
   "metadata": {},
   "source": [
    "Alternatively, you can also run your application in the next cells, but this is not the recommended option. If you work in this notebook, remember to download the files that you modify to your computer, otherwise you will lose your changes."
   ]
  },
  {
   "cell_type": "code",
   "execution_count": 4,
   "metadata": {},
   "outputs": [
    {
     "name": "stdout",
     "output_type": "stream",
     "text": [
      "Writing multi-jobshop.lp\n"
     ]
    }
   ],
   "source": [
    "%%file multi-jobshop.lp\n",
    "\n",
    "% The earliest starting point of operation of job J on machine M is E\n",
    "est(J,M,E) :- sequence(J,M,S), E = #sum{DD,MM,SS : sequence(J,MM,SS), SS<S, duration(J,MM,DD)}.\n",
    "\n",
    "% Exclude answers that do not contain exactly one window\n",
    ":- { window(I) } != 1.\n",
    "    \n",
    "% Select the operations of job J on machine M if it belongs to the current or previous time windows\n",
    "select(J,M) :- est(J,M,E),\n",
    "               Pos = #count{JJ,MM: est(JJ,MM,EE), EE<E},\n",
    "               O   = #count{JJ,MM: duration(JJ,MM,DD)},\n",
    "               window(I),\n",
    "               Pos <= (I*O)/w.\n",
    "\n",
    "% Exclude answers that schedule some operation that does not belong to the current or previous time windows            \n",
    ":- perm(J,M,P), not select(J,M).            \n",
    "            \n",
    "        \n",
    "% Your encoding please...            \n",
    "        \n",
    "    \n",
    "#show perm/3."
   ]
  },
  {
   "cell_type": "markdown",
   "metadata": {},
   "source": [
    "# Formalities.\n",
    "You can work on the solution alone or in groups of two people.\n",
    "Different groups have to submit different solutions, in case\n",
    "of plagiarism all groups involved will fail the project.\n",
    "\n",
    "We will test your encoding with the provided instances.\n",
    "Your solution has to correctly print one solution for every instance.\n",
    "This will be tested automatically.\n",
    "Please contact us if you get stuck."
   ]
  },
  {
   "cell_type": "markdown",
   "metadata": {},
   "source": [
    "# Tips:\n",
    "\n",
    "* If `w` is `1` then the approach reduces to the original Job Shop problem of the previous project. You can check that in that case you obtain the same result with the current approach and with your solution to the other project.\n",
    "\n",
    "* If you are stuck you can contact us. We will do out best to answer all your questions. You can send us questions and remarks either via Moodle or by email.\n",
    "\n",
    "* Start as soon as possible to avoid running out of time. However, if you still realize that you have problems making it before the deadline, please contact us instead of copying another solution.\n"
   ]
  }
 ],
 "metadata": {
  "kernelspec": {
   "display_name": "Python 3",
   "language": "python",
   "name": "python3"
  },
  "language_info": {
   "codemirror_mode": {
    "name": "ipython",
    "version": 3
   },
   "file_extension": ".py",
   "mimetype": "text/x-python",
   "name": "python",
   "nbconvert_exporter": "python",
   "pygments_lexer": "ipython3",
   "version": "3.9.2"
  }
 },
 "nbformat": 4,
 "nbformat_minor": 4
}
