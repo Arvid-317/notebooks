{
 "cells": [
  {
   "cell_type": "markdown",
   "metadata": {},
   "source": [
    "# Problem Description.\n",
    "\n",
    "\n",
    "The task of this project is to solve two scheduling problems in ASP:\n",
    "the Permutation Flow Shop problem, and the Job Shop problem.\n",
    "\n",
    "In both problems there are ``j`` jobs and ``m`` machines.\n",
    "We refer to the machines with numbers from ``1`` to ``m``.\n",
    "Every job consists of ``m`` operations\n",
    "that have to be performed in a given sequence.\n",
    "Each operation uses one machine during a given time, and\n",
    "we refer to each operation of a job with the number of the machine that it uses.\n",
    "A machine can only process one operation at a time, and\n",
    "some operations may have to wait until their corresponding machine is free.\n",
    "Different operations of the same job use different machines, and\n",
    "the operations of each single job use all machines.\n",
    "\n",
    "In the Permutation Flow Shop problem:\n",
    "* the operations of every job must be processed in the sequence ``1``, ..., ``m``, and\n",
    "* the processing order of the jobs on the machines is the same for every machine.\n",
    "\n",
    "The  problem  consists  in  finding  a permutation of the jobs that\n",
    "minimizes the time needed for processing all jobs.\n",
    "\n",
    "\n",
    "The next figure represents a Permutation Flow Shop problem \n",
    "with three jobs ``a``, ``b`` and ``c`` that have to be scheduled on two machines ``1`` and ``2``.\n",
    "\n",
    "The colored boxes indicate the duration of the operations. has to run on a machine. \n",
    "Lighter shades of the same color are for the first machine, and \n",
    "darker ones are for the second machine. \n",
    "For example, job ``a`` needs to be processed for ``3`` time units\n",
    "on the first and ``4`` time units on the second machine.\n",
    "<img width=\"200\" height=\"150\" src=\"img/tasks.png\">\n",
    "\n",
    "The next figure shows solutions for all possible permutations with the total execution length\n",
    "in the top right corner and actual solutions with a blue background:\n",
    "<img width=\"700\" height=\"450\" src=\"img/solutions.png\">\n",
    "\n",
    "\n",
    "In the Job Shop problem:\n",
    "* the operations of every job must be processed in a sequence that is given as part of the input, and\n",
    "* any processing order of the jobs on the machines is allowed.\n",
    "\n",
    "Note that different jobs may have a different sequence of operations, and\n",
    "that different machines may process the operations in a different order.\n",
    "The problem consists in finding for every machine a permutation of the jobs that\n",
    "minimizes the time needed for processing all jobs.\n"
   ]
  },
  {
   "cell_type": "markdown",
   "metadata": {},
   "source": [
    "# Representation in ASP.\n",
    "\n",
    "An instance of the Permutation Flow Shop problem is represented by the following predicate:\n",
    "```\n",
    "job(J).          % J is a job\n",
    "machine(M).      % M is a machine\n",
    "duration(J,M,D). % D is the duration of the operation M of the job J\n",
    "```\n",
    "The instances of the Job Shop problem use those predicates and the following one:\n",
    "```\n",
    "sequence(J,M,P). % the job J processes the operation M at position P in the sequence\n",
    "```\n",
    "\n",
    "The solutions of the Permutation Flow Shop problem are represented by atoms of the predicate ``perm/2``:\n",
    "```\n",
    "perm(J,P).       % job J is at position P of the permutation\n",
    "```\n",
    "and the solutions of the Job Shop problem by atoms of the predicate ``perm/3``:\n",
    "```\n",
    "perm(J,M,P).     % job J is at position P of the permutation of machine M\n",
    "```\n"
   ]
  },
  {
   "cell_type": "markdown",
   "metadata": {},
   "source": [
    "# Task.\n",
    "\n",
    "Write two ASP encodings, one for each scheduling problem, such that given an instance,\n",
    "the optimal stable models of the encoding and the instance\n",
    "correspond to the solutions of the problem represented by the instance.\n",
    "To compute optimal solutions, use the optimize statements of ``clingo``."
   ]
  },
  {
   "cell_type": "markdown",
   "metadata": {},
   "source": [
    "# Framework.\n",
    "\n",
    "In the directory ``instances`` you can find some instances that are valid for both scheduling problems.\n",
    "They include facts about predicate ``sequence/3``.\n",
    "For the Permutation Flow Shop problem, simply ignore those facts in your encoding.\n",
    "\n",
    "You have to submit two files named ``flowshop.lp`` and ``jobshop.lp``,\n",
    "included as templates in this directory, that contain respectively the lines\n",
    "```\n",
    "#show perm/2.\n",
    "```\n",
    "and\n",
    "```\n",
    "#show perm/3.\n",
    "```\n",
    "and no more ``#show`` statements, so that in the output only the corresponding atoms appear.\n",
    "\n",
    "Click the link at the following cell to download a zip file with the instances and the templates.·\n",
    "We recommend you to work with them in your own computer, using your own installation of ``clingo``."
   ]
  },
  {
   "cell_type": "code",
   "execution_count": null,
   "metadata": {},
   "outputs": [],
   "source": [
    "from IPython.display import FileLink\n",
    "FileLink(\"scheduling.zip\")"
   ]
  },
  {
   "cell_type": "markdown",
   "metadata": {},
   "source": [
    "Alternatively, you can also run your encoding in the next cells, but this is not the recommended option. If you work in this notebook, remember to download the files that you modify to your computer, otherwise you will lose your changes."
   ]
  },
  {
   "cell_type": "code",
   "execution_count": null,
   "metadata": {},
   "outputs": [],
   "source": [
    "%%clingo 0 instances/instance01.lp -\n",
    "\n",
    "% Your encoding for the Permutation Flow Shop problem please...\n",
    "\n",
    "#show perm/3."
   ]
  },
  {
   "cell_type": "code",
   "execution_count": null,
   "metadata": {},
   "outputs": [],
   "source": [
    "%%clingo 0 instances/instance01.lp -\n",
    "\n",
    "% Your encoding for the Job Shop problem please...\n",
    "\n",
    "#show perm/4."
   ]
  },
  {
   "cell_type": "markdown",
   "metadata": {},
   "source": [
    "# Formalities.\n",
    "You can work on the solution alone or in groups of two people.\n",
    "Different groups have to submit different solutions, in case\n",
    "of plagiarism all groups involved will fail the project.\n",
    "\n",
    "We will test your encoding with the provided instances.\n",
    "Your solution has to correctly encode all optimal solutions for every instance.\n",
    "This will be tested automatically.\n",
    "Please contact us if you get stuck."
   ]
  },
  {
   "cell_type": "markdown",
   "metadata": {},
   "source": [
    "# Tips:\n",
    "\n",
    "* Commands to find all optimal stable models look as follows:\n",
    "```\n",
    "clingo --opt-mode=optN encoding.lp instance.lp 0\n",
    "```\n",
    "With option ``--quiet=1`` you can avoid printing non optimal solutions.\n",
    "More ``clingo`` options can be found using option ``--help=3``.\n",
    "\n",
    "* If you are stuck you can contact us. We will do out best to answer all your questions. You can send us questions and remarks either via Moodle or by email.\n",
    "\n",
    "* Start as soon as possible to avoid running out of time. However, if you still realize that you have problems making it before the deadline, please contact us instead of copying another solution."
   ]
  }
 ],
 "metadata": {
  "kernelspec": {
   "display_name": "Python 3",
   "language": "python",
   "name": "python3"
  },
  "language_info": {
   "codemirror_mode": {
    "name": "ipython",
    "version": 3
   },
   "file_extension": ".py",
   "mimetype": "text/x-python",
   "name": "python",
   "nbconvert_exporter": "python",
   "pygments_lexer": "ipython3",
   "version": "3.9.1"
  }
 },
 "nbformat": 4,
 "nbformat_minor": 4
}
