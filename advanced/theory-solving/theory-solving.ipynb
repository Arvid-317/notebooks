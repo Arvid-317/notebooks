{
 "cells": [
  {
   "cell_type": "markdown",
   "metadata": {},
   "source": [
    "# Problem Description.\n",
    "\n",
    "This project is based in following paper: \n",
    "* Kaminski, R., Romero, J., Schaub, T., & Wanko, P. (2020). How to build your own ASP-based system?! CoRR, abs/2008.06692.\n",
    "\n",
    "The project focuses on Section 6 about theory-enhanced ASP solving, and Section 7 about extending ASP with different constraints. Before starting, we recommend you to read them carefully.\n",
    "\n",
    "Section 7 presents an extension of ASP with difference constraints, and \n",
    "describes how to augment clingo to handle this extension using a propagator.\n",
    "The resulting application is a scaled down version of the system clingo-dl \n",
    "(https://github.com/potassco/clingo-dl).\n",
    "The source code of the application is available online, and \n",
    "you can also find it in this directory under the folder `dl`, that contains the following files:\n",
    "* `app.py`: scaled down version of clingo-dl \n",
    "* `fsE.lp`: clingo-dl encoding for the Flow Shop problem\n",
    "* `fsI.lp`: example instance of the problem\n",
    "* `README.md`\n",
    "\n",
    "You can find one optimal solution of the Flow Shop problem instance as follows:"
   ]
  },
  {
   "cell_type": "code",
   "execution_count": 7,
   "metadata": {},
   "outputs": [
    {
     "name": "stdout",
     "output_type": "stream",
     "text": [
      "clingo-dl version 1.0\r\n",
      "Reading from dl/fsE.lp ...\r\n",
      "Solving...\r\n",
      "Answer: 1\r\n",
      "dl((a,1),1) dl(bound,16) dl((a,2),7) dl((b,1),0) dl((b,2),1) dl((c,1),4) dl((c,2),11) permutation(b,a) permutation(a,c)\r\n",
      "Found new bound: 16\r\n",
      "Solving...\r\n",
      "Optimum found\r\n",
      "UNSATISFIABLE\r\n",
      "\r\n",
      "Models       : 1\r\n",
      "Calls        : 2\r\n",
      "Time         : 0.010s (Solving: 0.00s 1st Model: 0.00s Unsat: 0.00s)\r\n",
      "CPU Time     : 0.010s\r\n"
     ]
    }
   ],
   "source": [
    "!python dl/app.py dl/fsE.lp dl/fsI.lp --minimize-variable bound"
   ]
  },
  {
   "cell_type": "markdown",
   "metadata": {},
   "source": [
    "## Task\n",
    "\n",
    "The task of this project is to modify the application `app.py` and implement a lazy version of clingo-dl that uses the Bellman-Ford algorithm (https://en.wikipedia.org/wiki/Bellman%E2%80%93Ford_algorithm).\n",
    "\n",
    "Let us explain this step-by-step. Observe that the propagator `DLPropagator` of `app.py` implements the function `propagate` of the `Propagator` interface but not the function `check`. The function `propagate` is called at every propagation phase of the CDCL solving algorithm of clingo. In this call the propagator considers the set of different constraints that are true in the current partial assignment, and tests if that set is satisfiable. If that is not the case then it adds a corresponding nogood to the solver. The test is implemented in the function `add_edge` of the class `Graph`. \n",
    "\n",
    "The first step of this project is to modify the propagator so that it implements the function `check` instead of the function `propagate`. In this way, the propagator will only test total assignments and not partial ones. Hence we say that this is a lazy version of clingo-dl. \n",
    "\n",
    "The second step concerns the implementation of the satisfiability test of a set of difference constraints. \n",
    "Instead of using the current method, in this project you have to use the Bellman-Ford algorithm. You still have to check if the graph induced by a given set of difference constraints contains negative cycles, but now you have to implement that check using the Bellman-Ford algorithm."
   ]
  },
  {
   "cell_type": "markdown",
   "metadata": {},
   "source": [
    "# Framework.\n",
    "\n",
    "You have to submit a new file ``app.py``,\n",
    "that should not change the format of the original input or output.\n",
    "It should only modify the implementation in the two respects mentioned above.\n",
    "\n",
    "We will test your submission with the encoding `fsE.lp` and the 16 instances that you can find in the directory ``instances``. They are the same as the ones for the `scheduling` project, and the previous instance `dl/fsE.lp` is basically the same as `ins-01-3-2.lp`. Given that the encoding uses the predicate `task/1` instead of `job/1`, we will also add the file `job2task.lp` that only contains the rule:\n",
    "```\n",
    "task(T) :- job(T).\n",
    "```\n",
    "\n",
    "We will test your submission using the following command line:\n",
    "```\n",
    "python dl/app.py job2task.lp dl/fsE.lp instances/instance.lp --minimize-variable bound\n",
    "```\n",
    "where `instance.lp` is one instance. "
   ]
  },
  {
   "cell_type": "markdown",
   "metadata": {},
   "source": [
    "Click the link at the following cell to download a zip file with the instances and the relevant files.\n",
    "We recommend you to work with them in your own computer, using your own installation of ``clingo``."
   ]
  },
  {
   "cell_type": "code",
   "execution_count": 6,
   "metadata": {},
   "outputs": [
    {
     "data": {
      "text/html": [
       "<a href='theory-solving.zip' target='_blank'>theory-solving.zip</a><br>"
      ],
      "text/plain": [
       "/home/jovyan/advanced/theory-solving/theory-solving.zip"
      ]
     },
     "execution_count": 6,
     "metadata": {},
     "output_type": "execute_result"
    }
   ],
   "source": [
    "from IPython.display import FileLink\n",
    "FileLink(\"theory-solving.zip\")"
   ]
  },
  {
   "cell_type": "markdown",
   "metadata": {},
   "source": [
    "Alternatively, you can also run your application in the next cell, but this is not the recommended option. If you work in this notebook, remember to download the files that you modify to your computer, otherwise you will lose your changes."
   ]
  },
  {
   "cell_type": "code",
   "execution_count": null,
   "metadata": {},
   "outputs": [],
   "source": [
    "! python dl/app.py job2task.lp dl/fsE.lp instances/ins-01-3-2.lp --minimize-variable bound"
   ]
  },
  {
   "cell_type": "markdown",
   "metadata": {},
   "source": [
    "# Formalities.\n",
    "You can work on the solution alone or in groups of two people.\n",
    "Different groups have to submit different solutions, in case\n",
    "of plagiarism all groups involved will fail the project.\n",
    "\n",
    "We will test your encoding with the provided instances.\n",
    "Your solution has to correctly print one optimal solution for every instance.\n",
    "This will be tested automatically.\n",
    "Please contact us if you get stuck."
   ]
  },
  {
   "cell_type": "markdown",
   "metadata": {},
   "source": [
    "# Tips:\n",
    "\n",
    "* If you are stuck you can contact us. We will do out best to answer all your questions. You can send us questions and remarks either via Moodle or by email.\n",
    "\n",
    "* Start as soon as possible to avoid running out of time. However, if you still realize that you have problems making it before the deadline, please contact us instead of copying another solution.\n"
   ]
  }
 ],
 "metadata": {
  "kernelspec": {
   "display_name": "Python 3",
   "language": "python",
   "name": "python3"
  },
  "language_info": {
   "codemirror_mode": {
    "name": "ipython",
    "version": 3
   },
   "file_extension": ".py",
   "mimetype": "text/x-python",
   "name": "python",
   "nbconvert_exporter": "python",
   "pygments_lexer": "ipython3",
   "version": "3.9.2"
  }
 },
 "nbformat": 4,
 "nbformat_minor": 4
}
