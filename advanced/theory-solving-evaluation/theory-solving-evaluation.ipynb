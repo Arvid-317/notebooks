{
 "cells": [
  {
   "cell_type": "markdown",
   "metadata": {},
   "source": [
    "# Problem Description.\n",
    "\n",
    "\n",
    "The task of this project is to solve the Job Shop problem using different ASP systems, and \n",
    "to evaluate the performance of the different solutions.\n",
    "The ASP systems are `clingo`, `clingo-dl` and `clingcon`,\n",
    "you have to write one encoding for each of them. \n",
    "\n",
    "If you have done the [scheduling](../scheduling/scheduling.ipynb) project, then \n",
    "you can use the `clingo` encoding for the Job Shop problem that you developed in that project. \n",
    "\n",
    "If you have done the [theory-solving](../theory-solving/theory-solving.ipynb) project, then you should also evaluate the `clingo-dl` version that you implementented in that project."
   ]
  },
  {
   "cell_type": "markdown",
   "metadata": {},
   "source": [
    "## Systems\n",
    "\n",
    "For `clingo-dl`, you can read the paper [1], the section on \"ASP and Difference Constraints\" of the [Potassco User Guide](https://github.com/potassco/guide/releases), and have a look at the examples at https://github.com/potassco/clingo-dl/tree/master/examples. \n",
    "\n",
    "For `clingcon`, please have a look at the examples at https://github.com/potassco/clingcon/tree/master/examples.\n",
    "\n",
    "\n",
    "You can install `clingo-dl` and `clingcon` using conda as follows:\n",
    "```\n",
    "conda install -c potassco/label/dev clingo-dl \n",
    "conda install -c potassco/label/dev clingcon \n",
    "```\n",
    "\n",
    "References:\n",
    "1. Kaminski, R., Romero, J., Schaub, T., & Wanko, P. (2020). How to build your own ASP-based system?! CoRR, abs/2008.06692."
   ]
  },
  {
   "cell_type": "markdown",
   "metadata": {},
   "source": [
    "## The Job Shop problem.\n",
    "\n",
    "Please read the description of the problem at the [scheduling](../scheduling/scheduling.ipynb) project.\n",
    "\n",
    "<!--\n",
    "This problem is a variation of the Job Shop problem that we have \n",
    "seen in other projects (f.e., in [scheduling](../scheduling/scheduling.ipynb)), \n",
    "where the order of the operations of every job is totally free.\n",
    "\n",
    "Next we describe the problem more in detail.\n",
    "There are ``j`` jobs and ``m`` machines.\n",
    "We refer to the machines with numbers from ``1`` to ``m``.\n",
    "Every job consists of ``m`` operations.\n",
    "Each operation uses one machine during a given time, and\n",
    "we refer to each operation of a job with the number of the machine that it uses.\n",
    "A machine can only process one operation at a time, and\n",
    "some operations may have to wait until their corresponding machine is free.\n",
    "Different operations of the same job use different machines, and\n",
    "the operations of each single job use all machines.\n",
    "\n",
    "In the Open Shop problem:\n",
    "* the order of the operations of every job is totally free,\n",
    "* any processing order of the jobs on the machines is allowed.\n",
    "\n",
    "This means that different jobs may perform the operations in different orders, and \n",
    "that different machines may process the operations in a different order.\n",
    "\n",
    "The problem consists in finding for every machine a permutation of the jobs that\n",
    "minimizes the time needed for processing all jobs.\n",
    "-->"
   ]
  },
  {
   "cell_type": "markdown",
   "metadata": {},
   "source": [
    "# Representation in ASP.\n",
    "\n",
    "Please read the description of the representation in ASP at the [scheduling](../scheduling/scheduling.ipynb) project."
   ]
  },
  {
   "cell_type": "markdown",
   "metadata": {},
   "source": [
    "# Task.\n",
    "\n",
    "The first part of the task is to write three ASP encodings for the Job Shop problem, one for each system: `clingo`, `clingo-dl`, and `clingcon`.\n",
    "For each of them, given an instance, \n",
    "the optimal stable models of the encoding and the instance\n",
    "must correspond to the solutions of the problem represented by the instance.\n",
    "If you have done the [scheduling](../scheduling/scheduling.ipynb) project, then \n",
    "you can use the `clingo` encoding for the Job Shop problem that you developed in that project. \n",
    "\n",
    "The second part of the task is to evaluate the performance of the different encodings and systems. \n",
    "In the evaluation you have to run the different encodings (with the corresponding systems) and the provided instances (see below), and analyze the results. The analysis should try to answer the questions: \n",
    "* for each solution, what is the relation between its solving time and the instance size?\n",
    "* is there a solution that is always faster than the others, or this depends on the instances?\n",
    "\n",
    "Think about an explanation for the results that you obtain, and feel free to extend the analysis.\n",
    "If you have done the project on `theory-solving`, you should also evaluate the implementation of `clingo-dl` that is part of that project.\n",
    "\n",
    "Additionally, you have to write a report about your work and do a presentation of it.\n",
    "The report should be in PDF, 5-10 pages long, and it should be written using LaTeX and the llncs style.\n",
    "The presentation should take around 15 minutes.\n"
   ]
  },
  {
   "cell_type": "markdown",
   "metadata": {},
   "source": [
    "# Framework.\n",
    "\n",
    "In the directory ``instances`` you can find XXX instances for the problem. \n",
    "\n",
    "You have to submit three files named ``openshop.lp``, ``openshop-dl.lp`` and ``openshop-con.lp``,\n",
    "included as templates in this directory, that contain the lines\n",
    "```\n",
    "#show perm/3.\n",
    "```\n",
    "and no more ``#show`` statements, so that in the output only the corresponding atoms appear.\n",
    "\n",
    "Click the link at the following cell to download a zip file with the instances and the templates.·\n",
    "We recommend you to work with them in your own computer, using your own installation of the systems."
   ]
  },
  {
   "cell_type": "code",
   "execution_count": 1,
   "metadata": {},
   "outputs": [
    {
     "data": {
      "text/html": [
       "Path (<tt>openshop-evaluation.zip</tt>) doesn't exist. It may still be in the process of being generated, or you may have the incorrect path."
      ],
      "text/plain": [
       "/home/jovyan/openshop-evaluation.zip"
      ]
     },
     "execution_count": 1,
     "metadata": {},
     "output_type": "execute_result"
    }
   ],
   "source": [
    "from IPython.display import FileLink\n",
    "FileLink(\"openshop-evaluation.zip\")"
   ]
  },
  {
   "cell_type": "markdown",
   "metadata": {},
   "source": [
    "Alternatively, you can also run your encodings in the next cells, but this is not the recommended option. If you work in this notebook, remember to download the files that you modify to your computer, otherwise you will lose your changes."
   ]
  },
  {
   "cell_type": "code",
   "execution_count": null,
   "metadata": {},
   "outputs": [],
   "source": [
    "%%clingo 0 instances/... -\n",
    "\n",
    "% Your clingo encoding...\n",
    "\n",
    "#show perm/3."
   ]
  },
  {
   "cell_type": "code",
   "execution_count": null,
   "metadata": {},
   "outputs": [],
   "source": [
    "%%clingo-dl 0 instances/... -\n",
    "\n",
    "% Your clingo-dl encoding...\n",
    "\n",
    "#show perm/3."
   ]
  },
  {
   "cell_type": "code",
   "execution_count": null,
   "metadata": {},
   "outputs": [],
   "source": [
    "%%clingcon 0 instances/... -\n",
    "\n",
    "% Your clingcon encoding...\n",
    "\n",
    "#show perm/3."
   ]
  },
  {
   "cell_type": "markdown",
   "metadata": {},
   "source": [
    "# Formalities.\n",
    "You can work on the solution alone or in groups of two people.\n",
    "Different groups have to submit different solutions, in case\n",
    "of plagiarism all groups involved will fail the project.\n",
    "\n",
    "We will test your encoding with the provided instances.\n",
    "Your solution has to correctly encode all optimal solutions for every instance.\n",
    "This will be tested automatically.\n",
    "Please contact us if you get stuck."
   ]
  },
  {
   "cell_type": "markdown",
   "metadata": {},
   "source": [
    "# Tips:\n",
    "\n",
    "* In the examples of `clingo-dl` and `clingcon` you can find encodings for these systems of the Open Shop and Permutation Flow Shop problems, respectively. You can adapt those to the Job Shop problem.\n",
    "\n",
    "* If you are stuck you can contact us. We will do out best to answer all your questions. You can send us questions and remarks either via Moodle or by email.\n",
    "\n",
    "* Start as soon as possible to avoid running out of time. However, if you still realize that you have problems making it before the deadline, please contact us instead of copying another solution."
   ]
  }
 ],
 "metadata": {
  "kernelspec": {
   "display_name": "Python 3",
   "language": "python",
   "name": "python3"
  },
  "language_info": {
   "codemirror_mode": {
    "name": "ipython",
    "version": 3
   },
   "file_extension": ".py",
   "mimetype": "text/x-python",
   "name": "python",
   "nbconvert_exporter": "python",
   "pygments_lexer": "ipython3",
   "version": "3.9.2"
  }
 },
 "nbformat": 4,
 "nbformat_minor": 4
}
