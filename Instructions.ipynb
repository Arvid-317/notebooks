{
 "cells": [
  {
   "cell_type": "markdown",
   "metadata": {},
   "source": [
    "# Instructions\n",
    "\n",
    "This notebook collects exercises to learn Answer Set Programming from examples.\n",
    "\n",
    "It is part of the course _Answer Set Solving in Practice_ of the University of Potsdam.\n",
    "\n",
    "The exercises in ``Part-1`` are about programs without variables, and\n",
    "the exercises in ``Part-2`` are about programs with variables.\n",
    "\n",
    "Every exercise consists of around 8 pairs of logic programs.\n",
    "You can see the stable models of the first program, and \n",
    "your task is to find the stable models of the second program. \n",
    "\n",
    "You can take these exercises as puzzles where you learn from the first program, \n",
    "and then you apply this knowledge to find the stable models of the second program.\n",
    "\n",
    "To correct your solution, run ``clingo`` on the second program to obtain its stable models.\n",
    "For this, simply click on the cell and then either click the button ``Run`` or press ``Ctrl+Enter``.\n",
    "The commands for ``clingo`` use option ``-V0`` to print a short output, and \n",
    "option ``0`` to enumerate all stable models.\n",
    "\n",
    "## Environment\n",
    "\n",
    "This is a [Jupyter](https://jupyter.org/) notebook deployed using \n",
    "[Binder](https://mybinder.readthedocs.io/en/latest/introduction.html#what-is-a-binder).\n",
    "Please click on the previous links to find out more about notebooks.\n",
    "\n",
    "We can run ``clingo`` just by clicking on the cells of the exercises because \n",
    "we have installed ``clingo`` (see file ``binder/environment.yml``) \n",
    "and defined (in ``binder/postBuild``) a magic command\n",
    "``%%clingo`` that does exactly that.\n",
    "\n",
    "If you want to save your changes, you have to download the files that you have modified, \n",
    "and in the next session you have to upload them.\n",
    "For the download, go to the ``Files`` menu, \n",
    "tick the files that you want to download, and \n",
    "click the button ``Download``. \n",
    "For the upload, go to the ``Files`` menu, and click the button ``Upload``."
   ]
  }
 ],
 "metadata": {
  "kernelspec": {
   "display_name": "Python 3",
   "language": "python",
   "name": "python3"
  },
  "language_info": {
   "codemirror_mode": {
    "name": "ipython",
    "version": 3
   },
   "file_extension": ".py",
   "mimetype": "text/x-python",
   "name": "python",
   "nbconvert_exporter": "python",
   "pygments_lexer": "ipython3",
   "version": "3.9.0"
  }
 },
 "nbformat": 4,
 "nbformat_minor": 4
}
