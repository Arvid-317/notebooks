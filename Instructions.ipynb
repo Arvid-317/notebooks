{
 "cells": [
  {
   "cell_type": "markdown",
   "metadata": {},
   "source": [
    "# Instructions\n",
    "\n",
    "In each part of this exercise you are given a pair of programs.\n",
    "You can see the stable models of the first program. \n",
    "Your task is to find the stable models of the second program. \n",
    "\n",
    "The idea is that you learn from the first program, \n",
    "and then you apply this knowledge to find the stable models of the second program.\n",
    "\n",
    "To correct your solution, run clingo on the second program to obtain its stable models.\n",
    "For this, simply click on the cell and then either click the button ``Run`` or press ``Ctrl+Enter``."
   ]
  },
  {
   "cell_type": "code",
   "execution_count": null,
   "metadata": {},
   "outputs": [],
   "source": []
  }
 ],
 "metadata": {
  "kernelspec": {
   "display_name": "Python 3",
   "language": "python",
   "name": "python3"
  },
  "language_info": {
   "codemirror_mode": {
    "name": "ipython",
    "version": 3
   },
   "file_extension": ".py",
   "mimetype": "text/x-python",
   "name": "python",
   "nbconvert_exporter": "python",
   "pygments_lexer": "ipython3",
   "version": "3.9.0"
  }
 },
 "nbformat": 4,
 "nbformat_minor": 4
}
