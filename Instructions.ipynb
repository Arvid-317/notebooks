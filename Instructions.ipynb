# Instructions

Here come the instructions.

