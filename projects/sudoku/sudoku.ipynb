{
 "cells": [
  {
   "cell_type": "markdown",
   "metadata": {},
   "source": [
    "# Problem Description.\n",
    "\n",
    "The task of this project is to solve a Sudoku puzzle using ASP. The goal of the game is to fill a 9x9 grid with digits so\n",
    "that each column, each row and each of the nine 3x3 sub-grids that compose the grid contains all numbers from 1 to 9.\n",
    "In other words, the grid has to be filled with numbers from 1 to 9 so that the same number does not appear\n",
    "twice in the same row, column or in any of the nine 3x3 sub-grids of the 9x9 playing board.\n",
    "Initially the grid is partially filled.\n",
    "\n",
    "One example is shown in the next figure. The left side shows the initial configuration, and the right side shows the same puzzle with solution numbers marked in red.\n",
    "![A sudoku and its solution](img/sudoku.png)"
   ]
  },
  {
   "cell_type": "markdown",
   "metadata": {},
   "source": [
    "# Representation in ASP.\n",
    "The initial state of the grid is represented by facts of predicate ``initial/3``:    \n",
    "\n",
    "``initial(X,Y,N). % initially cell [X,Y] contains number N``\n",
    "\n",
    "For instance, the example shown in the previous figure is represented by the following facts:"
   ]
  },
  {
   "cell_type": "code",
   "execution_count": null,
   "metadata": {},
   "outputs": [],
   "source": [
    "%%file instances/ex00.lp\n",
    "initial(1,1,5). initial(1,2,3). initial(1,5,7).\n",
    "initial(2,1,6). initial(2,4,1). initial(2,5,9). initial(2,6,5).\n",
    "initial(3,2,9). initial(3,3,8). initial(3,8,6).\n",
    "initial(4,1,8). initial(4,5,6). initial(4,9,3).\n",
    "initial(5,1,4). initial(5,4,8). initial(5,6,3). initial(5,9,1).\n",
    "initial(6,1,7). initial(6,5,2). initial(6,9,6).\n",
    "initial(7,2,6). initial(7,7,2). initial(7,8,8).\n",
    "initial(8,4,4). initial(8,5,1). initial(8,6,9). initial(8,9,5).\n",
    "initial(9,5,8). initial(9,8,7). initial(9,9,9)."
   ]
  },
  {
   "cell_type": "markdown",
   "metadata": {},
   "source": [
    "The solution is represented by atoms of predicate sudoku/3:  \n",
    "\n",
    "``sudoku(X,Y,N). % the cell [X,Y] contains number N``   \n",
    "\n",
    "For instance, the solution of the previous figure consists of the following atoms:"
   ]
  },
  {
   "cell_type": "markdown",
   "metadata": {},
   "source": [
    "``\n",
    "sudoku(1,1,5) sudoku(1,2,3) ... sudoku(1,8,1) sudoku(1,9,2)\n",
    "...\n",
    "sudoku(9,1,3) sudoku(9,2,4) ... sudoku(9,8,7) sudoku(9,9,9)\n",
    "``"
   ]
  },
  {
   "cell_type": "markdown",
   "metadata": {},
   "source": [
    "# Framework.\n",
    "\n",
    "In the directory ``instances`` you can find nine example instances. You have to submit a file named ``sudoku.lp``, included as a template in this directory, that contains the following line (and no more ``#show`` statements) so that in the output only the atoms of predicate ``sudoku/3`` appear:\n",
    "\n",
    "``#show sudoku/3.``\n",
    "\n",
    "Click the link at the following cell to download a zip file with the instances and the template. We recommend you to work with them in your own computer, using your own installation of ``clingo``."
   ]
  },
  {
   "cell_type": "code",
   "execution_count": 4,
   "metadata": {},
   "outputs": [
    {
     "data": {
      "text/html": [
       "<a href='sudoku.zip' target='_blank'>sudoku.zip</a><br>"
      ],
      "text/plain": [
       "/home/jovyan/projects/sudoku/sudoku.zip"
      ]
     },
     "execution_count": 4,
     "metadata": {},
     "output_type": "execute_result"
    }
   ],
   "source": [
    "from IPython.display import FileLink\n",
    "FileLink(\"sudoku.zip\")"
   ]
  },
  {
   "cell_type": "markdown",
   "metadata": {},
   "source": [
    "Alternatively, you can also run your encoding in the next cell, but this is not the recommended option. If you work in this notebook, remember to download the files that you modify to your computer, otherwise you will lose your changes."
   ]
  },
  {
   "cell_type": "code",
   "execution_count": null,
   "metadata": {},
   "outputs": [],
   "source": [
    "%%clingo 0 instances/ex00.lp -\n",
    "\n",
    "subgrid_size(3).\n",
    "\n",
    "% Hints:\n",
    "% - For subgrid_size(s), subgrids can be identified by labels 0..s*s-1\n",
    "% - A cell (x,y) can be mapped to the subgrid labeled (((x-1)/s)*s + (y-1)/s)\n",
    "\n",
    "% Your encoding please...\n",
    "\n",
    "#show sudoku/3."
   ]
  },
  {
   "cell_type": "markdown",
   "metadata": {},
   "source": [
    "# Formalities.\n",
    "You can work on the solution alone or in groups of two people. \n",
    "Different groups have to submit different solutions, in case\n",
    "of plagiarism all groups involved will fail the project. \n",
    "\n",
    "We will test your encoding with the provided instances as well as additional instances.\n",
    "Your solution has to correctly encode all solutions for every\n",
    "instance. (In fact, our test instances usually have several solutions.) \n",
    "This will be tested automatically. \n",
    "Please contact us if you get stuck.\n",
    "\n",
    "**We will send you further instructions about the submission process soon.**"
   ]
  },
  {
   "cell_type": "markdown",
   "metadata": {},
   "source": [
    "# Tips:\n",
    "* To begin with, it may be easier to represent a 4x4 Sudoku and once this is done, modify it to handle the 9x9 case.\n",
    "* Commands to find all stable models look as follows:\n",
    "\n",
    "> ``clingo sudoku.lp example.lp 0``\n",
    "\n",
    "* If you are stuck you can contact us. We will do out best to answer all your questions. You can send us questions and remarks either via Moodle or by email at ``asp@lists.cs.uni-potsdam.de``.\n",
    "* Start as soon as possible to avoid running out of time. (However, if you still realize that you have problems making it before the deadline, please contact us instead of copying another solution.)"
   ]
  }
 ],
 "metadata": {
  "kernelspec": {
   "display_name": "Python 3",
   "language": "python",
   "name": "python3"
  },
  "language_info": {
   "codemirror_mode": {
    "name": "ipython",
    "version": 3
   },
   "file_extension": ".py",
   "mimetype": "text/x-python",
   "name": "python",
   "nbconvert_exporter": "python",
   "pygments_lexer": "ipython3",
   "version": "3.9.0"
  }
 },
 "nbformat": 4,
 "nbformat_minor": 4
}
