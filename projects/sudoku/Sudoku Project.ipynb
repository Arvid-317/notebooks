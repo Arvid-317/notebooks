{
 "cells": [
  {
   "cell_type": "markdown",
   "metadata": {},
   "source": [
    "# Problem Description.\n",
    "\n",
    "The task of this project is to solve a Sudoku puzzle using ASP. The goal of the game is to fill a 9x9 grid with digits so\n",
    "that each column, each row and each of the nine 3x3 sub-grids that compose the grid contains all numbers from 1 to 9.\n",
    "\n",
    "In other words, the grid has to be filled with numbers from 1 to 9 so that the same number does not appear\n",
    "twice in the same row, column or in any of the nine 3x3 sub-grids of the 9x9 playing board."
   ]
  },
  {
   "cell_type": "markdown",
   "metadata": {},
   "source": [
    "# Representation in ASP.\n",
    "The initial state of the grid is represented by facts of predicate initial/3:  \n",
    "*initial(X,Y,N). % initially cell [X,Y] contains number N*"
   ]
  },
  {
   "cell_type": "code",
   "execution_count": 2,
   "metadata": {},
   "outputs": [
    {
     "name": "stdout",
     "output_type": "stream",
     "text": [
      "Overwriting projects/instance-sudoku.lp\n"
     ]
    }
   ],
   "source": [
    "%%file projects/sudoku/instances/ex00.lp\n",
    "initial(1,1,5). initial(1,2,3). initial(1,5,7).\n",
    "initial(2,1,6). initial(2,4,1). initial(2,5,9). initial(2,6,5).\n",
    "initial(3,2,9). initial(3,3,8). initial(3,8,6).\n",
    "initial(4,1,8). initial(4,5,6). initial(4,9,3).\n",
    "initial(5,1,4). initial(5,4,8). initial(5,6,3). initial(5,9,1).\n",
    "initial(6,1,7). initial(6,5,2). initial(6,9,6).\n",
    "initial(7,2,6). initial(7,7,2). initial(7,8,8).\n",
    "initial(8,4,4). initial(8,5,1). initial(8,6,9). initial(8,9,5).\n",
    "initial(9,5,8). initial(9,8,7). initial(9,9,9)."
   ]
  },
  {
   "cell_type": "markdown",
   "metadata": {},
   "source": [
    "The solution is represented by atoms of predicate sudoku/3:  \n",
    "*sudoku(X,Y,N). % the cell [X,Y] contains number N*  \n",
    "For example, a solution should loke like:"
   ]
  },
  {
   "cell_type": "code",
   "execution_count": null,
   "metadata": {},
   "outputs": [],
   "source": [
    "sudoku(1,1,5) sudoku(1,2,3) ... sudoku(1,8,1) sudoku(1,9,2)\n",
    "...\n",
    "sudoku(9,1,3) sudoku(9,2,4) ... sudoku(9,8,7) sudoku(9,9,9)"
   ]
  },
  {
   "cell_type": "markdown",
   "metadata": {},
   "source": [
    "# Framework.\n",
    "In this binder folder you will find example instances.\n",
    "You have to submit a file named sudoku.lp, included as template in sudoku.zip, that contains the following line (and no more #show statements) so that in the output only the atoms of predicate sudoku/3 appear:  \n",
    "***#show sudoku/3.***"
   ]
  },
  {
   "cell_type": "markdown",
   "metadata": {},
   "source": [
    "In this binder, you can try your models.\n",
    "This next space is made for this.\n",
    "If you want to test other instances, change the first block of code and execute it before executing this one.\n",
    "Just make sure not to remove the first line."
   ]
  },
  {
   "cell_type": "code",
   "execution_count": null,
   "metadata": {},
   "outputs": [],
   "source": [
    "%%clingo 0 projects/instance-sudoku.lp -\n",
    "\n",
    "% my work here"
   ]
  },
  {
   "cell_type": "markdown",
   "metadata": {},
   "source": [
    "But be carefull, this binder doesn't save your work if you exit it.\n",
    "Make sure to save it somewhere else!"
   ]
  },
  {
   "cell_type": "markdown",
   "metadata": {},
   "source": [
    "# Formalities.\n",
    "You can work on the solution alone or in groups of up to\n",
    "three people. Different groups have to submit different solutions, in case\n",
    "of plagiarism all groups involved will fail the project. Please submit your\n",
    "encoding by Friday, December 19, 2020. Be sure to submit your encoding in a file\n",
    "named sudoku.lp containing only lowercase letters.\n",
    "We will test your encoding with the provided instances as well as additional instances.\n",
    "Your solution has to correctly encode all solutions for every\n",
    "instance. (In fact, our test instances usually have several solutions.) This\n",
    "will be tested automatically. Please contact us if\n",
    "you get stuck."
   ]
  },
  {
   "cell_type": "markdown",
   "metadata": {},
   "source": [
    "# Tips.
    "* To begin with, it may be easier to represent a 4x4 Sudoku and once this is done, modify it to handle the 9x9 case.\n",
    "* If you are stuck you can contact us. We will do out best to answer all your questions. You can send us questions and remarks via Moodle (forum) or send them via *mailtoasp@lists.cs.uni-potsdam.de*.\n",
    "* Start as soon as possible to avoid running out of time. (However, if you still realize that you have problems making it before the deadline, please contact us instead ofcopying another solution.)",
   ]
  }
 ],
 "metadata": {
  "kernelspec": {
   "display_name": "Python 3",
   "language": "python",
   "name": "python3"
  },
  "language_info": {
   "codemirror_mode": {
    "name": "ipython",
    "version": 3
   },
   "file_extension": ".py",
   "mimetype": "text/x-python",
   "name": "python",
   "nbconvert_exporter": "python",
   "pygments_lexer": "ipython3",
   "version": "3.9.0"
  }
 },
 "nbformat": 4,
 "nbformat_minor": 4
}
